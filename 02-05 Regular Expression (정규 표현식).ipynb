{
 "cells": [
  {
   "cell_type": "markdown",
   "id": "21fa5a3c",
   "metadata": {},
   "source": [
    "# 02-05 Regular Expression (정규 표현식)\n"
   ]
  },
  {
   "cell_type": "markdown",
   "id": "3bde5140",
   "metadata": {},
   "source": [
    "출처: https://wikidocs.net/21703"
   ]
  },
  {
   "cell_type": "markdown",
   "id": "f2cdd19d",
   "metadata": {},
   "source": [
    "텍스트 전처리에서 정규 표현식은 아주 유용한 도구입니다\n",
    "\n",
    "파이썬에서 지원하고 있는\n",
    "\n",
    "정규 표현식 모듈 're'의 사용 방법과 \n",
    "\n",
    "'NLTK' 를 통한 정규 표현식을 이용한 토큰화"
   ]
  },
  {
   "cell_type": "markdown",
   "id": "a950378b",
   "metadata": {},
   "source": [
    "### 1. 정규 표현식 문법과 모듈 함수\n"
   ]
  },
  {
   "cell_type": "markdown",
   "id": "85704a2f",
   "metadata": {},
   "source": [
    "1) 정규 표현식 문법\n",
    "\n",
    "\n",
    "2) 정규표현식 모듈 함수\n",
    "\n",
    "자료 참고: https://wikidocs.net/21703\n"
   ]
  },
  {
   "cell_type": "markdown",
   "id": "a232f8c2",
   "metadata": {},
   "source": [
    "### 2. 정규 표현식 실습\n"
   ]
  },
  {
   "cell_type": "markdown",
   "id": "d8602f69",
   "metadata": {},
   "source": [
    "<1> . 기호\n",
    "\n",
    ".은 한 개의 임의의 문자를 나타냅니다. 예를 들어서 정규 표현식이 a.c라고 합시다. a와 c 사이에는 어떤 1개의 문자라도 올 수 있습니다. akc, azc, avc, a5c, a!c와 같은 형태는 모두 a.c의 정규 표현식과 매치됩니다."
   ]
  },
  {
   "cell_type": "code",
   "execution_count": 2,
   "id": "bd363e1b",
   "metadata": {},
   "outputs": [],
   "source": [
    "import re\n"
   ]
  },
  {
   "cell_type": "code",
   "execution_count": 3,
   "id": "d848d5be",
   "metadata": {},
   "outputs": [],
   "source": [
    "r = re.compile(\"a.c\")\n",
    "r.search(\"kkk\") # 아무런 결과도 출력되지 않는다."
   ]
  },
  {
   "cell_type": "code",
   "execution_count": 4,
   "id": "afd26283",
   "metadata": {},
   "outputs": [
    {
     "data": {
      "text/plain": [
       "<re.Match object; span=(0, 3), match='abc'>"
      ]
     },
     "execution_count": 4,
     "metadata": {},
     "output_type": "execute_result"
    }
   ],
   "source": [
    "r.search(\"abc\")"
   ]
  },
  {
   "cell_type": "markdown",
   "id": "cb5b6fdc",
   "metadata": {},
   "source": [
    "<2> ? 기호"
   ]
  },
  {
   "cell_type": "markdown",
   "id": "1426042f",
   "metadata": {},
   "source": [
    "?는 ?앞의 문자가 존재할 수도 있고 존재하지 않을 수도 있는 경우를 나타냅니다. 예를 들어서 정규 표현식이 ab?c라고 합시다. 이 경우 이 정규 표현식에서의 b는 있다고 취급할 수도 있고, 없다고 취급할 수도 있습니다. 즉, abc와 ac 모두 매치할 수 있습니다."
   ]
  },
  {
   "cell_type": "code",
   "execution_count": 6,
   "id": "f11c4afe",
   "metadata": {},
   "outputs": [],
   "source": [
    "r = re.compile(\"ab?c\")\n",
    "r.search(\"abbc\") # 아무런 결과도 출력되지 않는다."
   ]
  },
  {
   "cell_type": "code",
   "execution_count": 7,
   "id": "a75d6d23",
   "metadata": {},
   "outputs": [
    {
     "data": {
      "text/plain": [
       "<re.Match object; span=(0, 3), match='abc'>"
      ]
     },
     "execution_count": 7,
     "metadata": {},
     "output_type": "execute_result"
    }
   ],
   "source": [
    "r.search(\"abc\")"
   ]
  },
  {
   "cell_type": "markdown",
   "id": "fbea8ea9",
   "metadata": {},
   "source": [
    "b가 있는 것으로 판단하여 abc를 매치했습니다.\n",
    "\n"
   ]
  },
  {
   "cell_type": "code",
   "execution_count": 8,
   "id": "1205a439",
   "metadata": {},
   "outputs": [
    {
     "data": {
      "text/plain": [
       "<re.Match object; span=(0, 2), match='ac'>"
      ]
     },
     "execution_count": 8,
     "metadata": {},
     "output_type": "execute_result"
    }
   ],
   "source": [
    "r.search(\"ac\")\n"
   ]
  },
  {
   "cell_type": "markdown",
   "id": "69e24f68",
   "metadata": {},
   "source": [
    "b가 없는 것으로 판단하여 ac를 매치했습니다.\n",
    "\n"
   ]
  },
  {
   "cell_type": "markdown",
   "id": "34b65193",
   "metadata": {},
   "source": [
    "<3> *기호"
   ]
  },
  {
   "cell_type": "code",
   "execution_count": 10,
   "id": "fe235ebf",
   "metadata": {},
   "outputs": [],
   "source": [
    "r = re.compile(\"ab*c\")\n",
    "r.search(\"a\") # 아무런 결과도 출력되지 않는다."
   ]
  },
  {
   "cell_type": "code",
   "execution_count": 11,
   "id": "41c7b2ad",
   "metadata": {},
   "outputs": [
    {
     "data": {
      "text/plain": [
       "<re.Match object; span=(0, 2), match='ac'>"
      ]
     },
     "execution_count": 11,
     "metadata": {},
     "output_type": "execute_result"
    }
   ],
   "source": [
    "r.search(\"ac\")\n"
   ]
  },
  {
   "cell_type": "code",
   "execution_count": 13,
   "id": "bb7eacaa",
   "metadata": {},
   "outputs": [
    {
     "data": {
      "text/plain": [
       "<re.Match object; span=(0, 3), match='abc'>"
      ]
     },
     "execution_count": 13,
     "metadata": {},
     "output_type": "execute_result"
    }
   ],
   "source": [
    "r.search(\"abc\") \n"
   ]
  },
  {
   "cell_type": "code",
   "execution_count": 14,
   "id": "80a26c7e",
   "metadata": {},
   "outputs": [
    {
     "data": {
      "text/plain": [
       "<re.Match object; span=(0, 6), match='abbbbc'>"
      ]
     },
     "execution_count": 14,
     "metadata": {},
     "output_type": "execute_result"
    }
   ],
   "source": [
    "r.search(\"abbbbc\") \n"
   ]
  },
  {
   "cell_type": "markdown",
   "id": "ec217f9d",
   "metadata": {},
   "source": [
    "<4> +기호"
   ]
  },
  {
   "cell_type": "markdown",
   "id": "ded31f9b",
   "metadata": {},
   "source": [
    "+는 *와 유사합니다. 다른 점은 앞의 문자가 최소 1개 이상이어야 합니다. 정규 표현식이 ab+c라고 한다면 ac는 매치되지 않습니다. 하지만 abc, abbc, abbbc 등과 매치할 수 있으며 b의 개수는 무수히 많을 수 있습니다."
   ]
  },
  {
   "cell_type": "code",
   "execution_count": 15,
   "id": "80061d7f",
   "metadata": {},
   "outputs": [],
   "source": [
    "r = re.compile(\"ab+c\")\n",
    "r.search(\"ac\") # 아무런 결과도 출력되지 않는다."
   ]
  },
  {
   "cell_type": "code",
   "execution_count": 16,
   "id": "e16028fd",
   "metadata": {},
   "outputs": [
    {
     "data": {
      "text/plain": [
       "<re.Match object; span=(0, 3), match='abc'>"
      ]
     },
     "execution_count": 16,
     "metadata": {},
     "output_type": "execute_result"
    }
   ],
   "source": [
    "r.search(\"abc\") \n"
   ]
  },
  {
   "cell_type": "code",
   "execution_count": 17,
   "id": "e46804c2",
   "metadata": {},
   "outputs": [
    {
     "data": {
      "text/plain": [
       "<re.Match object; span=(0, 6), match='abbbbc'>"
      ]
     },
     "execution_count": 17,
     "metadata": {},
     "output_type": "execute_result"
    }
   ],
   "source": [
    "r.search(\"abbbbc\") \n"
   ]
  },
  {
   "cell_type": "markdown",
   "id": "f4657f9d",
   "metadata": {},
   "source": [
    "<5> ^기호\n",
    "\n",
    "^는 시작되는 문자열을 지정합니다. 정규표현식이 ^ab라면 문자열 ab로 시작되는 경우 매치합니다."
   ]
  },
  {
   "cell_type": "code",
   "execution_count": 20,
   "id": "88867805",
   "metadata": {},
   "outputs": [],
   "source": [
    "r = re.compile(\"^ab\")\n",
    "\n",
    "# 아무런 결과도 출력되지 않는다.\n",
    "r.search(\"bbc\")\n",
    "r.search(\"zab\")"
   ]
  },
  {
   "cell_type": "code",
   "execution_count": 21,
   "id": "7d665237",
   "metadata": {},
   "outputs": [
    {
     "data": {
      "text/plain": [
       "<re.Match object; span=(0, 2), match='ab'>"
      ]
     },
     "execution_count": 21,
     "metadata": {},
     "output_type": "execute_result"
    }
   ],
   "source": [
    "r.search(\"abz\")\n"
   ]
  },
  {
   "cell_type": "markdown",
   "id": "63c26b99",
   "metadata": {},
   "source": [
    "<6> {숫자} 기호\n",
    "\n",
    "문자에 해당 기호를 붙이면, 해당 문자를 숫자만큼 반복한 것을 나타냅니다. 예를 들어서 정규 표현식이 ab{2}c라면 a와 c 사이에 b가 존재하면서 b가 2개인 문자열에 대해서 매치합니다"
   ]
  },
  {
   "cell_type": "code",
   "execution_count": 22,
   "id": "29fdc1e9",
   "metadata": {},
   "outputs": [],
   "source": [
    "r = re.compile(\"ab{2}c\")\n",
    "\n",
    "# 아무런 결과도 출력되지 않는다.\n",
    "r.search(\"ac\")\n",
    "r.search(\"abc\")\n",
    "r.search(\"abbbbbc\")"
   ]
  },
  {
   "cell_type": "code",
   "execution_count": 23,
   "id": "c03c8bc9",
   "metadata": {},
   "outputs": [
    {
     "data": {
      "text/plain": [
       "<re.Match object; span=(0, 4), match='abbc'>"
      ]
     },
     "execution_count": 23,
     "metadata": {},
     "output_type": "execute_result"
    }
   ],
   "source": [
    "r.search(\"abbc\")\n"
   ]
  },
  {
   "cell_type": "markdown",
   "id": "3e3d98af",
   "metadata": {},
   "source": [
    "<7> {숫자1, 숫자2} 기호\n",
    "\n",
    "문자에 해당 기호를 붙이면, 해당 문자를 숫자1 이상 숫자2 이하만큼 반복합니다. 예를 들어서 정규 표현식이 ab{2,8}c라면 a와 c 사이에 b가 존재하면서 b는 2개 이상 8개 이하인 문자열에 대해서 매치합니다.\n"
   ]
  },
  {
   "cell_type": "code",
   "execution_count": 25,
   "id": "f2c708e2",
   "metadata": {},
   "outputs": [],
   "source": [
    "r = re.compile(\"ab{2,8}c\")\n",
    "\n",
    "# 아무런 결과도 출력되지 않는다.\n",
    "r.search(\"ac\")\n",
    "r.search(\"abc\")\n",
    "r.search(\"abbbbbbbbbc\")"
   ]
  },
  {
   "cell_type": "code",
   "execution_count": 26,
   "id": "83f29e76",
   "metadata": {},
   "outputs": [
    {
     "data": {
      "text/plain": [
       "<re.Match object; span=(0, 4), match='abbc'>"
      ]
     },
     "execution_count": 26,
     "metadata": {},
     "output_type": "execute_result"
    }
   ],
   "source": [
    "r.search(\"abbc\")\n"
   ]
  },
  {
   "cell_type": "code",
   "execution_count": 27,
   "id": "42bb7c39",
   "metadata": {},
   "outputs": [
    {
     "data": {
      "text/plain": [
       "<re.Match object; span=(0, 10), match='abbbbbbbbc'>"
      ]
     },
     "execution_count": 27,
     "metadata": {},
     "output_type": "execute_result"
    }
   ],
   "source": [
    "r.search(\"abbbbbbbbc\")\n"
   ]
  },
  {
   "cell_type": "markdown",
   "id": "d0755b8a",
   "metadata": {},
   "source": [
    "<8> {숫자,} 기호\n",
    "\n",
    "문자에 해당 기호를 붙이면 해당 문자를 숫자 이상 만큼 반복합니다. 예를 들어서 정규 표현식이 a{2,}bc라면 뒤에 bc가 붙으면서 a의 개수가 2개 이상인 경우인 문자열과 매치합니다. 또한 만약 {0,}을 쓴다면 *와 동일한 의미가 되며, {1,}을 쓴다면 +와 동일한 의미가 됩니다."
   ]
  },
  {
   "cell_type": "code",
   "execution_count": 28,
   "id": "b79f1a5f",
   "metadata": {},
   "outputs": [],
   "source": [
    "r = re.compile(\"a{2,}bc\")\n",
    "\n",
    "# 아무런 결과도 출력되지 않는다.\n",
    "r.search(\"bc\")\n",
    "r.search(\"aa\")"
   ]
  },
  {
   "cell_type": "code",
   "execution_count": 29,
   "id": "c1aa4c91",
   "metadata": {
    "scrolled": true
   },
   "outputs": [
    {
     "data": {
      "text/plain": [
       "<re.Match object; span=(0, 4), match='aabc'>"
      ]
     },
     "execution_count": 29,
     "metadata": {},
     "output_type": "execute_result"
    }
   ],
   "source": [
    "r.search(\"aabc\")\n"
   ]
  },
  {
   "cell_type": "code",
   "execution_count": 30,
   "id": "ceb78b5b",
   "metadata": {},
   "outputs": [
    {
     "data": {
      "text/plain": [
       "<re.Match object; span=(0, 10), match='aaaaaaaabc'>"
      ]
     },
     "execution_count": 30,
     "metadata": {},
     "output_type": "execute_result"
    }
   ],
   "source": [
    "r.search(\"aaaaaaaabc\")\n"
   ]
  },
  {
   "cell_type": "markdown",
   "id": "97e0b7b6",
   "metadata": {},
   "source": [
    "<9> [ ] 기호\n",
    "\n",
    "[ ]안에 문자들을 넣으면 그 문자들 중 한 개의 문자와 매치라는 의미를 가집니다. 예를 들어서 정규 표현식이 [abc]라면, a 또는 b또는 c가 들어가있는 문자열과 매치됩니다. 범위를 지정하는 것도 가능합니다. [a-zA-Z]는 알파벳 전부를 의미하며, [0-9]는 숫자 전부를 의미합니다."
   ]
  },
  {
   "cell_type": "code",
   "execution_count": 31,
   "id": "2e769638",
   "metadata": {},
   "outputs": [],
   "source": [
    "r = re.compile(\"[abc]\") # [abc]는 [a-c]와 같다.\n",
    "r.search(\"zzz\") # 아무런 결과도 출력되지 않는다."
   ]
  },
  {
   "cell_type": "code",
   "execution_count": 32,
   "id": "44bae338",
   "metadata": {},
   "outputs": [
    {
     "data": {
      "text/plain": [
       "<re.Match object; span=(0, 1), match='a'>"
      ]
     },
     "execution_count": 32,
     "metadata": {},
     "output_type": "execute_result"
    }
   ],
   "source": [
    "r.search(\"a\")\n"
   ]
  },
  {
   "cell_type": "code",
   "execution_count": 33,
   "id": "cd796b36",
   "metadata": {},
   "outputs": [
    {
     "data": {
      "text/plain": [
       "<re.Match object; span=(0, 1), match='a'>"
      ]
     },
     "execution_count": 33,
     "metadata": {},
     "output_type": "execute_result"
    }
   ],
   "source": [
    "r.search(\"aaaaaaa\")                                                                                               \n"
   ]
  },
  {
   "cell_type": "code",
   "execution_count": 34,
   "id": "b3e459e4",
   "metadata": {},
   "outputs": [
    {
     "data": {
      "text/plain": [
       "<re.Match object; span=(0, 1), match='b'>"
      ]
     },
     "execution_count": 34,
     "metadata": {},
     "output_type": "execute_result"
    }
   ],
   "source": [
    "r.search(\"baac\")      \n"
   ]
  },
  {
   "cell_type": "markdown",
   "id": "4c941cf2",
   "metadata": {},
   "source": [
    "이번에는 알파벳 소문자에 대해서 범위 지정하여 정규 표현식을 만들어보고 문자열과 매치해보겠습니다.\n",
    "\n"
   ]
  },
  {
   "cell_type": "code",
   "execution_count": 35,
   "id": "976de3c8",
   "metadata": {},
   "outputs": [],
   "source": [
    "r = re.compile(\"[a-z]\")\n",
    "\n",
    "# 아무런 결과도 출력되지 않는다.\n",
    "r.search(\"AAA\")\n",
    "r.search(\"111\") "
   ]
  },
  {
   "cell_type": "code",
   "execution_count": 36,
   "id": "785d8d0d",
   "metadata": {},
   "outputs": [
    {
     "data": {
      "text/plain": [
       "<re.Match object; span=(0, 1), match='a'>"
      ]
     },
     "execution_count": 36,
     "metadata": {},
     "output_type": "execute_result"
    }
   ],
   "source": [
    "r.search(\"aBC\")\n"
   ]
  },
  {
   "cell_type": "markdown",
   "id": "04509561",
   "metadata": {},
   "source": [
    "<10>  [^문자] 기호\n",
    "\n",
    "[^문자]는 ^기호 뒤에 붙은 문자들을 제외한 모든 문자를 매치하는 역할을 합니다. 예를 들어서 [^abc]라는 정규 표현식이 있다면, a 또는 b 또는 c가 들어간 문자열을 제외한 모든 문자열을 매치합니다."
   ]
  },
  {
   "cell_type": "code",
   "execution_count": 40,
   "id": "25987279",
   "metadata": {},
   "outputs": [],
   "source": [
    "r = re.compile(\"[^abc]\")\n",
    "\n",
    "# 아무런 결과도 출력되지 않는다.\n",
    "r.search(\"a\")\n",
    "r.search(\"ab\") \n",
    "r.search(\"b\")"
   ]
  },
  {
   "cell_type": "code",
   "execution_count": 41,
   "id": "ad3459a9",
   "metadata": {},
   "outputs": [
    {
     "data": {
      "text/plain": [
       "<re.Match object; span=(0, 1), match='d'>"
      ]
     },
     "execution_count": 41,
     "metadata": {},
     "output_type": "execute_result"
    }
   ],
   "source": [
    "r.search(\"d\")\n"
   ]
  },
  {
   "cell_type": "code",
   "execution_count": 42,
   "id": "618fb1cc",
   "metadata": {},
   "outputs": [
    {
     "data": {
      "text/plain": [
       "<re.Match object; span=(0, 1), match='1'>"
      ]
     },
     "execution_count": 42,
     "metadata": {},
     "output_type": "execute_result"
    }
   ],
   "source": [
    "r.search(\"1\")                                                                                                \n"
   ]
  },
  {
   "cell_type": "markdown",
   "id": "7ebf87d9",
   "metadata": {},
   "source": [
    "### 3. 정규 표현식 모듈 함수 예제\n"
   ]
  },
  {
   "cell_type": "markdown",
   "id": "b2bdc40b",
   "metadata": {},
   "source": [
    "(1) re.match() 와 re.search()의 차이\n",
    "\n",
    "search()가 정규 표현식 전체에 대해서 문자열이 매치하는지를 본다면, match()는 문자열의 첫 부분부터 정규 표현식과 매치하는지를 확인합니다. 문자열 중간에 찾을 패턴이 있더라도 match 함수는 문자열의 시작에서 패턴이 일치하지 않으면 찾지 않습니다."
   ]
  },
  {
   "cell_type": "code",
   "execution_count": 43,
   "id": "307d514c",
   "metadata": {},
   "outputs": [],
   "source": [
    "r = re.compile(\"ab.\")\n",
    "r.match(\"kkkabc\") # 아무런 결과도 출력되지 않는다."
   ]
  },
  {
   "cell_type": "code",
   "execution_count": 44,
   "id": "5941662d",
   "metadata": {},
   "outputs": [
    {
     "data": {
      "text/plain": [
       "<re.Match object; span=(3, 6), match='abc'>"
      ]
     },
     "execution_count": 44,
     "metadata": {},
     "output_type": "execute_result"
    }
   ],
   "source": [
    "r.search(\"kkkabc\")  \n"
   ]
  },
  {
   "cell_type": "code",
   "execution_count": 45,
   "id": "d2caaf40",
   "metadata": {},
   "outputs": [
    {
     "data": {
      "text/plain": [
       "<re.Match object; span=(0, 3), match='abc'>"
      ]
     },
     "execution_count": 45,
     "metadata": {},
     "output_type": "execute_result"
    }
   ],
   "source": [
    "r.match(\"abckkk\")  \n"
   ]
  },
  {
   "cell_type": "markdown",
   "id": "65dac3b3",
   "metadata": {},
   "source": [
    "위 경우 정규 표현식이 ab. 이기때문에, ab 다음에는 어떤 한 글자가 존재할 수 있다는 패턴을 의미합니다. search 모듈 함수에 kkkabc라는 문자열을 넣어 매치되는지 확인한다면 abc라는 문자열에서 매치되어 Match object를 리턴합니다. 하지만 match 모듈 함수의 경우 앞 부분이 ab.와 매치되지 않기때문에, 아무런 결과도 출력되지 않습니다. 하지만 반대로 abckkk로 매치를 시도해보면, 시작 부분에서 패턴과 매치되었기 때문에 정상적으로 Match object를 리턴합니다."
   ]
  },
  {
   "cell_type": "markdown",
   "id": "d47aeb4a",
   "metadata": {},
   "source": [
    "<2> re.split()\n",
    "\n",
    "split() 함수는 입력된 정규 표현식을 기준으로 문자열들을 분리하여 리스트로 리턴합니다. 토큰화에 유용하게 쓰일 수 있습니다. 공백을 기준으로 문자열 분리를 수행하고 결과로서 리스트를 리턴해봅시다.\n",
    "\n"
   ]
  },
  {
   "cell_type": "code",
   "execution_count": 48,
   "id": "2618ac9a",
   "metadata": {},
   "outputs": [
    {
     "data": {
      "text/plain": [
       "['사과', '딸기', '수박', '메론', '바나나']"
      ]
     },
     "execution_count": 48,
     "metadata": {},
     "output_type": "execute_result"
    }
   ],
   "source": [
    "# 공백 기준 분리\n",
    "text = \"사과 딸기 수박 메론 바나나\"\n",
    "re.split(\" \", text)"
   ]
  },
  {
   "cell_type": "code",
   "execution_count": 49,
   "id": "27900966",
   "metadata": {},
   "outputs": [
    {
     "data": {
      "text/plain": [
       "['사과', '딸기', '수박', '메론', '바나나']"
      ]
     },
     "execution_count": 49,
     "metadata": {},
     "output_type": "execute_result"
    }
   ],
   "source": [
    "# 이와 유사하게 줄바꿈이나 다른 정규 표현식을 기준으로 텍스트를 분리할 수도 있습니다.\n",
    "\n",
    "\n",
    "# 줄바꿈 기준 분리\n",
    "text = \"\"\"사과\n",
    "딸기\n",
    "수박\n",
    "메론\n",
    "바나나\"\"\"\n",
    "\n",
    "re.split(\"\\n\", text)"
   ]
  },
  {
   "cell_type": "code",
   "execution_count": 50,
   "id": "bccba8dd",
   "metadata": {},
   "outputs": [
    {
     "data": {
      "text/plain": [
       "['사과', '딸기', '수박', '메론', '바나나']"
      ]
     },
     "execution_count": 50,
     "metadata": {},
     "output_type": "execute_result"
    }
   ],
   "source": [
    "# '+'를 기준으로 분리\n",
    "text = \"사과+딸기+수박+메론+바나나\"\n",
    "\n",
    "re.split(\"\\+\", text)"
   ]
  },
  {
   "cell_type": "markdown",
   "id": "1e0a3da4",
   "metadata": {},
   "source": [
    "(3) re.findall()\n",
    "\n",
    "findall() 함수는 정규 표현식과 매치되는 모든 문자열들을 리스트로 리턴합니다. 단, 매치되는 문자열이 없다면 빈 리스트를 리턴합니다. 임의의 텍스트에 정규 표현식으로 숫자를 의미하는 규칙으로 findall()을 수행하면 전체 텍스트로부터 숫자만 찾아내서 리스트로 리턴합니다."
   ]
  },
  {
   "cell_type": "code",
   "execution_count": 51,
   "id": "1ff2230f",
   "metadata": {},
   "outputs": [
    {
     "data": {
      "text/plain": [
       "['010', '1234', '1234', '30']"
      ]
     },
     "execution_count": 51,
     "metadata": {},
     "output_type": "execute_result"
    }
   ],
   "source": [
    "text = \"\"\"이름 : 김철수\n",
    "전화번호 : 010 - 1234 - 1234\n",
    "나이 : 30\n",
    "성별 : 남\"\"\"\n",
    "\n",
    "re.findall(\"\\d+\", text)"
   ]
  },
  {
   "cell_type": "code",
   "execution_count": 52,
   "id": "3d3b06c1",
   "metadata": {},
   "outputs": [
    {
     "data": {
      "text/plain": [
       "[]"
      ]
     },
     "execution_count": 52,
     "metadata": {},
     "output_type": "execute_result"
    }
   ],
   "source": [
    "# 하지만 만약 입력 텍스트에 숫자가 없다면 빈 리스트를 리턴하게 됩니다.\n",
    "\n",
    "re.findall(\"\\d+\", \"문자열입니다.\")\n",
    "\n"
   ]
  },
  {
   "cell_type": "markdown",
   "id": "46d51e48",
   "metadata": {},
   "source": [
    "(4) re.sub()\n",
    "\n",
    "sub() 함수는 정규 표현식 패턴과 일치하는 문자열을 찾아 다른 문자열로 대체할 수 있습니다. 아래와 같은 정제 작업에 많이 사용되는데, 영어 문장에 각주 등과 같은 이유로 특수 문자가 섞여있는 경우에 특수 문자를 제거하고 싶다면 알파벳 외의 문자는 공백으로 처리하는 등의 용도로 쓸 수 있습니다.\n",
    "\n"
   ]
  },
  {
   "cell_type": "code",
   "execution_count": 53,
   "id": "f8304f21",
   "metadata": {},
   "outputs": [
    {
     "name": "stdout",
     "output_type": "stream",
     "text": [
      "Regular expression   A regular expression  regex or regexp     sometimes called a rational expression        is  in theoretical computer science and formal language theory  a sequence of characters that define a search pattern \n"
     ]
    }
   ],
   "source": [
    "text = \"Regular expression : A regular expression, regex or regexp[1] (sometimes called a rational expression)[2][3] is, in theoretical computer science and formal language theory, a sequence of characters that define a search pattern.\"\n",
    "\n",
    "preprocessed_text = re.sub('[^a-zA-Z]', ' ', text)\n",
    "print(preprocessed_text)"
   ]
  },
  {
   "cell_type": "markdown",
   "id": "cff05e12",
   "metadata": {},
   "source": [
    "### 4. 정규 표현식 텍스트 전처리 예제\n",
    "\n"
   ]
  },
  {
   "cell_type": "code",
   "execution_count": 54,
   "id": "3f288060",
   "metadata": {},
   "outputs": [],
   "source": [
    "text = \"\"\"100 John    PROF\n",
    "101 James   STUD\n",
    "102 Mac   STUD\"\"\""
   ]
  },
  {
   "cell_type": "markdown",
   "id": "12e19abc",
   "metadata": {},
   "source": [
    "\\s+는 공백을 찾아내는 정규표현식입니다. 뒤에 붙는 +는 최소 1개 이상의 패턴을 찾아낸다는 의미입니다. s는 공백을 의미하기 때문에 최소 1개 이상의 공백인 패턴을 찾아냅니다. split은 주어진 정규표현식을 기준으로 분리하므로 결과는 아래와 같습니다.\n"
   ]
  },
  {
   "cell_type": "code",
   "execution_count": 55,
   "id": "2803ab2c",
   "metadata": {},
   "outputs": [
    {
     "data": {
      "text/plain": [
       "['100', 'John', 'PROF', '101', 'James', 'STUD', '102', 'Mac', 'STUD']"
      ]
     },
     "execution_count": 55,
     "metadata": {},
     "output_type": "execute_result"
    }
   ],
   "source": [
    "re.split('\\s+', text)  \n"
   ]
  },
  {
   "cell_type": "markdown",
   "id": "1f3cceb4",
   "metadata": {},
   "source": [
    "공백을 기준으로 값이 구분되었습니다. 해당 입력으로부터 숫자만을 뽑아온다고 해봅시다. 여기서 \\d는 숫자에 해당되는 정규표현식입니다. +를 붙이면 최소 1개 이상의 숫자에 해당하는 값을 의미합니다. findall()은 해당 표현식에 일치하는 값을 찾아냅니다."
   ]
  },
  {
   "cell_type": "code",
   "execution_count": 56,
   "id": "2122a412",
   "metadata": {},
   "outputs": [
    {
     "data": {
      "text/plain": [
       "['100', '101', '102']"
      ]
     },
     "execution_count": 56,
     "metadata": {},
     "output_type": "execute_result"
    }
   ],
   "source": [
    "re.findall('\\d+',text)  \n"
   ]
  },
  {
   "cell_type": "markdown",
   "id": "5920bc48",
   "metadata": {},
   "source": [
    "이번에는 텍스트로부터 대문자인 행의 값만 가져와봅시다. 이 경우 정규 표현식에 대문자를 기준으로 매치시키면 됩니다. 하지만 정규 표현식에 대문자라는 기준만을 넣을 경우에는 문자열을 가져오는 것이 아니라 모든 대문자 각각을 갖고오게 됩니다."
   ]
  },
  {
   "cell_type": "code",
   "execution_count": 57,
   "id": "600ae922",
   "metadata": {},
   "outputs": [
    {
     "data": {
      "text/plain": [
       "['J', 'P', 'R', 'O', 'F', 'J', 'S', 'T', 'U', 'D', 'M', 'S', 'T', 'U', 'D']"
      ]
     },
     "execution_count": 57,
     "metadata": {},
     "output_type": "execute_result"
    }
   ],
   "source": [
    "re.findall('[A-Z]',text)\n"
   ]
  },
  {
   "cell_type": "code",
   "execution_count": 59,
   "id": "aeb53a18",
   "metadata": {},
   "outputs": [
    {
     "data": {
      "text/plain": [
       "['PROF', 'STUD', 'STUD']"
      ]
     },
     "execution_count": 59,
     "metadata": {},
     "output_type": "execute_result"
    }
   ],
   "source": [
    "# 대문자가 연속적으로 네 번 등장하는 경우라는 조건을 추가해봅시다.\n",
    "\n",
    "re.findall('[A-Z]{4}',text)  \n"
   ]
  },
  {
   "cell_type": "markdown",
   "id": "9783a105",
   "metadata": {},
   "source": [
    "대문자로 구성된 문자열들을 가져옵니다. 이름의 경우에는 대문자와 소문자가 섞여있는 상황입니다. 이름에 대한 행의 값을 갖고오고 싶다면 처음에 대문자가 등장한 후에 소문자가 여러번 등장하는 경우에 매치하게 합니다."
   ]
  },
  {
   "cell_type": "code",
   "execution_count": 60,
   "id": "3bdf5c6b",
   "metadata": {},
   "outputs": [
    {
     "data": {
      "text/plain": [
       "['John', 'James', 'Mac']"
      ]
     },
     "execution_count": 60,
     "metadata": {},
     "output_type": "execute_result"
    }
   ],
   "source": [
    "re.findall('[A-Z][a-z]+',text)\n"
   ]
  },
  {
   "cell_type": "markdown",
   "id": "11ad8c0d",
   "metadata": {},
   "source": [
    "### 5. 정규 표현식을 이용한 토큰화\n",
    "\n",
    "NLTK에서는 정규 표현식을 사용해서 단어 토큰화를 수행하는 RegexpTokenizer를 지원합니다. RegexpTokenizer()에서 괄호 안에 하나의 토큰으로 규정하기를 원하는 정규 표현식을 넣어서 토큰화를 수행합니다. tokenizer1에 사용한 \\w+는 문자 또는 숫자가 1개 이상인 경우를 의미합니다.\n",
    "\n",
    "tokenizer2에서는 공백을 기준으로 토큰화하도록 했습니다. gaps=true는 해당 정규 표현식을 토큰으로 나누기 위한 기준으로 사용한다는 의미입니다. 만약 gaps=True라는 부분을 기재하지 않는다면, 토큰화의 결과는 공백들만 나오게 됩니다. tokenizer2의 결과는 위의 tokenizer1의 결과와는 달리 아포스트로피나 온점을 제외하지 않고 토큰화가 수행된 것을 확인할 수 있습니다."
   ]
  },
  {
   "cell_type": "code",
   "execution_count": 61,
   "id": "2b63463a",
   "metadata": {},
   "outputs": [
    {
     "name": "stdout",
     "output_type": "stream",
     "text": [
      "['Don', 't', 'be', 'fooled', 'by', 'the', 'dark', 'sounding', 'name', 'Mr', 'Jone', 's', 'Orphanage', 'is', 'as', 'cheery', 'as', 'cheery', 'goes', 'for', 'a', 'pastry', 'shop']\n",
      "[\"Don't\", 'be', 'fooled', 'by', 'the', 'dark', 'sounding', 'name,', 'Mr.', \"Jone's\", 'Orphanage', 'is', 'as', 'cheery', 'as', 'cheery', 'goes', 'for', 'a', 'pastry', 'shop']\n"
     ]
    }
   ],
   "source": [
    "from nltk.tokenize import RegexpTokenizer\n",
    "\n",
    "text = \"Don't be fooled by the dark sounding name, Mr. Jone's Orphanage is as cheery as cheery goes for a pastry shop\"\n",
    "\n",
    "tokenizer1 = RegexpTokenizer(\"[\\w]+\")\n",
    "tokenizer2 = RegexpTokenizer(\"\\s+\", gaps=True)\n",
    "\n",
    "print(tokenizer1.tokenize(text))\n",
    "print(tokenizer2.tokenize(text))"
   ]
  },
  {
   "cell_type": "code",
   "execution_count": null,
   "id": "00ee8ed5",
   "metadata": {},
   "outputs": [],
   "source": []
  }
 ],
 "metadata": {
  "kernelspec": {
   "display_name": "Python 3 (ipykernel)",
   "language": "python",
   "name": "python3"
  },
  "language_info": {
   "codemirror_mode": {
    "name": "ipython",
    "version": 3
   },
   "file_extension": ".py",
   "mimetype": "text/x-python",
   "name": "python",
   "nbconvert_exporter": "python",
   "pygments_lexer": "ipython3",
   "version": "3.8.16"
  }
 },
 "nbformat": 4,
 "nbformat_minor": 5
}
