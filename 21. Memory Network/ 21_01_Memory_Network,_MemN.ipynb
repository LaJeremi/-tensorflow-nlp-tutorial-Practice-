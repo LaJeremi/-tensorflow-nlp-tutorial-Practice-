{
  "nbformat": 4,
  "nbformat_minor": 0,
  "metadata": {
    "colab": {
      "provenance": [],
      "authorship_tag": "ABX9TyPDPhKOyn5ktAgS5opT4fTu",
      "include_colab_link": true
    },
    "kernelspec": {
      "name": "python3",
      "display_name": "Python 3"
    },
    "language_info": {
      "name": "python"
    },
    "accelerator": "GPU",
    "gpuClass": "standard"
  },
  "cells": [
    {
      "cell_type": "markdown",
      "metadata": {
        "id": "view-in-github",
        "colab_type": "text"
      },
      "source": [
        "<a href=\"https://colab.research.google.com/github/LaJeremi/Tensorflow-nlp-tutorial-Practice-/blob/main/21.%20Memory%20Network/%2021_01_Memory_Network%2C_MemN.ipynb\" target=\"_parent\"><img src=\"https://colab.research.google.com/assets/colab-badge.svg\" alt=\"Open In Colab\"/></a>"
      ]
    },
    {
      "cell_type": "markdown",
      "source": [
        "# 21-01 메모리 네트워크(Memory Network, MemN)를 이용한 QA\n",
        "\n",
        "출처: https://wikidocs.net/82475\n",
        "\n",
        "## 1. Babi 데이터셋\n",
        "\n",
        "## 2. 메모리 네트워크 구조\n",
        "\n",
        "## 3. Babi 데이터셋 전처리하기\n",
        "\n",
        "\n"
      ],
      "metadata": {
        "id": "MoHqO8c-Uu2j"
      }
    },
    {
      "cell_type": "code",
      "execution_count": null,
      "metadata": {
        "colab": {
          "base_uri": "https://localhost:8080/",
          "height": 36
        },
        "id": "mbSKiLvSw9rj",
        "outputId": "da2f177d-4870-420e-afd1-edc6729efdb1"
      },
      "outputs": [
        {
          "output_type": "execute_result",
          "data": {
            "text/plain": [
              "'2.11.0'"
            ],
            "application/vnd.google.colaboratory.intrinsic+json": {
              "type": "string"
            }
          },
          "metadata": {},
          "execution_count": 1
        }
      ],
      "source": [
        "import tensorflow as tf\n",
        "tf.__version__"
      ]
    },
    {
      "cell_type": "code",
      "source": [
        "\n",
        "from tensorflow.keras.utils import get_file\n",
        "from tensorflow.keras.preprocessing.sequence import pad_sequences\n",
        "from tensorflow.keras.utils import to_categorical\n",
        "import numpy as np\n",
        "import tarfile\n",
        "from nltk import FreqDist\n",
        "from functools import reduce\n",
        "import os\n",
        "import re\n",
        "import matplotlib.pyplot as plt"
      ],
      "metadata": {
        "id": "fpiB5fTkw_Q_"
      },
      "execution_count": null,
      "outputs": []
    },
    {
      "cell_type": "code",
      "source": [
        "\n",
        "path = get_file('babi-tasks-v1-2.tar.gz', origin='https://s3.amazonaws.com/text-datasets/'\n",
        "                'babi_tasks_1-20_v1-2.tar.gz')"
      ],
      "metadata": {
        "colab": {
          "base_uri": "https://localhost:8080/"
        },
        "id": "ydU-x2YwxPmp",
        "outputId": "dd97facb-4a41-4b51-be14-8b1da3e7b46a"
      },
      "execution_count": null,
      "outputs": [
        {
          "output_type": "stream",
          "name": "stdout",
          "text": [
            "Downloading data from https://s3.amazonaws.com/text-datasets/babi_tasks_1-20_v1-2.tar.gz\n",
            "11745123/11745123 [==============================] - 0s 0us/step\n"
          ]
        }
      ]
    },
    {
      "cell_type": "code",
      "source": [
        "with tarfile.open(path) as tar:\n",
        " tar.extractall()\n",
        " tar.close()\n",
        "\n",
        "DATA_DIR = 'tasks_1-20_v1-2/en-10k'\n",
        "TRAIN_FILE = os.path.join(DATA_DIR, \"qa1_single-supporting-fact_train.txt\")\n",
        "TEST_FILE = os.path.join(DATA_DIR, \"qa1_single-supporting-fact_test.txt\")"
      ],
      "metadata": {
        "id": "KGVkqYs8xQjK"
      },
      "execution_count": null,
      "outputs": []
    },
    {
      "cell_type": "code",
      "source": [
        "\n",
        "i = 0\n",
        "lines = open(TRAIN_FILE , \"rb\")\n",
        "for line in lines:\n",
        "    line = line.decode(\"utf-8\").strip()\n",
        "    # lno, text = line.split(\" \", 1) # ID와 TEXT 분리\n",
        "    i = i + 1\n",
        "    print(line)\n",
        "    if i == 20:\n",
        "      break\n",
        "     "
      ],
      "metadata": {
        "colab": {
          "base_uri": "https://localhost:8080/"
        },
        "id": "1g7cm51VxRpI",
        "outputId": "d522a982-f502-4c76-a5c7-36cbcf27ed84"
      },
      "execution_count": null,
      "outputs": [
        {
          "output_type": "stream",
          "name": "stdout",
          "text": [
            "1 Mary moved to the bathroom.\n",
            "2 John went to the hallway.\n",
            "3 Where is Mary? \tbathroom\t1\n",
            "4 Daniel went back to the hallway.\n",
            "5 Sandra moved to the garden.\n",
            "6 Where is Daniel? \thallway\t4\n",
            "7 John moved to the office.\n",
            "8 Sandra journeyed to the bathroom.\n",
            "9 Where is Daniel? \thallway\t4\n",
            "10 Mary moved to the hallway.\n",
            "11 Daniel travelled to the office.\n",
            "12 Where is Daniel? \toffice\t11\n",
            "13 John went back to the garden.\n",
            "14 John moved to the bedroom.\n",
            "15 Where is Sandra? \tbathroom\t8\n",
            "1 Sandra travelled to the office.\n",
            "2 Sandra went to the bathroom.\n",
            "3 Where is Sandra? \tbathroom\t2\n",
            "4 Mary went to the bedroom.\n",
            "5 Daniel moved to the hallway.\n"
          ]
        }
      ]
    },
    {
      "cell_type": "code",
      "source": [
        "\n",
        "def read_data(dir):\n",
        "    stories, questions, answers = [], [], [] # 각각 스토리, 질문, 답변을 저장할 예정\n",
        "    story_temp = [] # 현재 시점의 스토리 임시 저장\n",
        "    lines = open(dir, \"rb\")\n",
        "\n",
        "    for line in lines:\n",
        "        line = line.decode(\"utf-8\") # b' 제거\n",
        "        line = line.strip() # '\\n' 제거\n",
        "        idx, text = line.split(\" \", 1) # 맨 앞에 있는 id number 분리\n",
        "        # 여기까지는 모든 줄에 적용되는 전처리\n",
        "\n",
        "        if int(idx) == 1:\n",
        "            story_temp = []\n",
        "\n",
        "        if \"\\t\" in text: # 현재 읽는 줄이 질문 (tab) 답변 (tab)인 경우\n",
        "            question, answer, _ = text.split(\"\\t\") # 질문과 답변을 각각 저장\n",
        "            stories.append([x for x in story_temp if x]) # 지금까지의 누적 스토리를 스토리에 저장\n",
        "            questions.append(question)\n",
        "            answers.append(answer)\n",
        "\n",
        "        else: # 현재 읽는 줄이 스토리인 경우\n",
        "            story_temp.append(text) # 임시 저장\n",
        "\n",
        "    lines.close()\n",
        "    return stories, questions, answers"
      ],
      "metadata": {
        "id": "NWzy4rLZxSgR"
      },
      "execution_count": null,
      "outputs": []
    },
    {
      "cell_type": "code",
      "source": [
        "\n",
        "train_data = read_data(TRAIN_FILE)\n",
        "test_data = read_data(TEST_FILE)"
      ],
      "metadata": {
        "id": "sAXhBOibxT25"
      },
      "execution_count": null,
      "outputs": []
    },
    {
      "cell_type": "code",
      "source": [
        "\n",
        "train_stories, train_questions, train_answers = read_data(TRAIN_FILE)\n",
        "test_stories, test_questions, test_answers = read_data(TEST_FILE)"
      ],
      "metadata": {
        "id": "W15l9iDZxVPK"
      },
      "execution_count": null,
      "outputs": []
    },
    {
      "cell_type": "code",
      "source": [
        "\n",
        "print('훈련용 스토리의 개수 :', len(train_stories))\n",
        "print('훈련용 질문의 개수 :',len(train_questions))\n",
        "print('훈련용 답변의 개수 :',len(train_answers))\n",
        "print('테스트용 스토리의 개수 :',len(test_stories))\n",
        "print('테스트용 질문의 개수 :',len(test_questions))\n",
        "print('테스트용 답변의 개수 :',len(test_answers))\n",
        "     "
      ],
      "metadata": {
        "colab": {
          "base_uri": "https://localhost:8080/"
        },
        "id": "LSu6zFWIxWKx",
        "outputId": "093cd42e-ad2f-4fe1-8347-877a520714d9"
      },
      "execution_count": null,
      "outputs": [
        {
          "output_type": "stream",
          "name": "stdout",
          "text": [
            "훈련용 스토리의 개수 : 10000\n",
            "훈련용 질문의 개수 : 10000\n",
            "훈련용 답변의 개수 : 10000\n",
            "테스트용 스토리의 개수 : 1000\n",
            "테스트용 질문의 개수 : 1000\n",
            "테스트용 답변의 개수 : 1000\n"
          ]
        }
      ]
    },
    {
      "cell_type": "code",
      "source": [
        "train_stories[3576]\n"
      ],
      "metadata": {
        "colab": {
          "base_uri": "https://localhost:8080/"
        },
        "id": "i7xqJn0SxYDR",
        "outputId": "b79ea8fe-3e0d-47b3-8b9f-0fe8895cceea"
      },
      "execution_count": null,
      "outputs": [
        {
          "output_type": "execute_result",
          "data": {
            "text/plain": [
              "['John went back to the garden.',\n",
              " 'Mary went to the kitchen.',\n",
              " 'Sandra went back to the bedroom.',\n",
              " 'John travelled to the bedroom.']"
            ]
          },
          "metadata": {},
          "execution_count": 10
        }
      ]
    },
    {
      "cell_type": "code",
      "source": [
        "train_questions[3576]\n"
      ],
      "metadata": {
        "colab": {
          "base_uri": "https://localhost:8080/",
          "height": 36
        },
        "id": "3TsYQ6KyxZP6",
        "outputId": "eecddc4f-6ec8-4189-bae4-604c8c34df79"
      },
      "execution_count": null,
      "outputs": [
        {
          "output_type": "execute_result",
          "data": {
            "text/plain": [
              "'Where is John? '"
            ],
            "application/vnd.google.colaboratory.intrinsic+json": {
              "type": "string"
            }
          },
          "metadata": {},
          "execution_count": 11
        }
      ]
    },
    {
      "cell_type": "code",
      "source": [
        "train_answers[3576]\n"
      ],
      "metadata": {
        "colab": {
          "base_uri": "https://localhost:8080/",
          "height": 36
        },
        "id": "9Ag3-cx2xaKJ",
        "outputId": "34a4dc35-68c3-4fb8-818c-df4e5494fbef"
      },
      "execution_count": null,
      "outputs": [
        {
          "output_type": "execute_result",
          "data": {
            "text/plain": [
              "'bedroom'"
            ],
            "application/vnd.google.colaboratory.intrinsic+json": {
              "type": "string"
            }
          },
          "metadata": {},
          "execution_count": 12
        }
      ]
    },
    {
      "cell_type": "code",
      "source": [
        "\n",
        "def tokenize(sent):\n",
        "    return [ x.strip() for x in re.split('(\\W+)', sent) if x and x.strip()]"
      ],
      "metadata": {
        "id": "DOkpnRiSxbEB"
      },
      "execution_count": null,
      "outputs": []
    },
    {
      "cell_type": "code",
      "source": [
        "def preprocess_data(train_data, test_data):\n",
        "    counter = FreqDist()\n",
        "\n",
        "    # 두 문장의 story를 하나의 문장으로 통합하는 함수\n",
        "    flatten = lambda data: reduce(lambda x, y: x + y, data)\n",
        "\n",
        "    # 각 샘플의 길이를 저장하는 리스트\n",
        "    story_len = []\n",
        "    question_len = []\n",
        "\n",
        "    for stories, questions, answers in [train_data, test_data]:\n",
        "        for story in stories:\n",
        "            stories = tokenize(flatten(story)) # 스토리의 문장들을 펼친 후 토큰화\n",
        "            story_len.append(len(stories)) # 각 story의 길이 저장\n",
        "            for word in stories: # 단어 집합에 단어 추가\n",
        "                counter[word] += 1\n",
        "        for question in questions:\n",
        "            question = tokenize(question)\n",
        "            question_len.append(len(question))\n",
        "            for word in question:\n",
        "                counter[word] += 1\n",
        "        for answer in answers:\n",
        "            answer = tokenize(answer)\n",
        "            for word in answer:\n",
        "                counter[word] += 1\n",
        "\n",
        "    # 단어 집합 생성\n",
        "    word2idx = {word : (idx + 1) for idx, (word, _) in enumerate(counter.most_common())}\n",
        "    idx2word = {idx : word for word, idx in word2idx.items()}\n",
        "\n",
        "    # 가장 긴 샘플의 길이\n",
        "    story_max_len = np.max(story_len)\n",
        "    question_max_len = np.max(question_len)\n",
        "\n",
        "    return word2idx, idx2word, story_max_len, question_max_len"
      ],
      "metadata": {
        "id": "55F0-rc_xcu5"
      },
      "execution_count": null,
      "outputs": []
    },
    {
      "cell_type": "code",
      "source": [
        "word2idx, idx2word, story_max_len, question_max_len = preprocess_data(train_data, test_data)\n"
      ],
      "metadata": {
        "id": "Nb4bqKfoxd_x"
      },
      "execution_count": null,
      "outputs": []
    },
    {
      "cell_type": "code",
      "source": [
        "print(word2idx)\n"
      ],
      "metadata": {
        "colab": {
          "base_uri": "https://localhost:8080/"
        },
        "id": "DPeHgfQ3xfCZ",
        "outputId": "2009e330-ffd6-4a2a-c571-16a16e3786f1"
      },
      "execution_count": null,
      "outputs": [
        {
          "output_type": "stream",
          "name": "stdout",
          "text": [
            "{'to': 1, 'the': 2, '.': 3, 'went': 4, 'Sandra': 5, 'John': 6, 'Daniel': 7, 'Mary': 8, 'travelled': 9, 'journeyed': 10, 'back': 11, 'bathroom': 12, 'garden': 13, 'hallway': 14, 'moved': 15, 'office': 16, 'kitchen': 17, 'bedroom': 18, 'Where': 19, 'is': 20, '?': 21}\n"
          ]
        }
      ]
    },
    {
      "cell_type": "code",
      "source": [
        "vocab_size = len(word2idx) + 1\n"
      ],
      "metadata": {
        "id": "wY6zZssjxfzw"
      },
      "execution_count": null,
      "outputs": []
    },
    {
      "cell_type": "code",
      "source": [
        "\n",
        "print('스토리의 최대 길이 :',story_max_len)\n",
        "print('질문의 최대 길이 :',question_max_len)\n",
        "     "
      ],
      "metadata": {
        "colab": {
          "base_uri": "https://localhost:8080/"
        },
        "id": "cx8nDUkZxguB",
        "outputId": "ed850257-5835-4393-f312-4ee6d1a71486"
      },
      "execution_count": null,
      "outputs": [
        {
          "output_type": "stream",
          "name": "stdout",
          "text": [
            "스토리의 최대 길이 : 68\n",
            "질문의 최대 길이 : 4\n"
          ]
        }
      ]
    },
    {
      "cell_type": "code",
      "source": [
        "\n",
        "def vectorize(data, word2idx, story_maxlen, question_maxlen):\n",
        "    Xs, Xq, Y = [], [], []\n",
        "    flatten = lambda data: reduce(lambda x, y: x + y, data)\n",
        "\n",
        "    stories, questions, answers = data\n",
        "    for story, question, answer in zip(stories, questions, answers):\n",
        "        xs = [word2idx[w] for w in tokenize(flatten(story))]\n",
        "        xq = [word2idx[w] for w in tokenize(question)]\n",
        "        Xs.append(xs)\n",
        "        Xq.append(xq)\n",
        "        Y.append(word2idx[answer])\n",
        "\n",
        "        # 스토리와 질문은 각각의 최대 길이로 패딩\n",
        "        # 정답은 원-핫 인코딩\n",
        "    return pad_sequences(Xs, maxlen=story_maxlen),\\\n",
        "           pad_sequences(Xq, maxlen=question_maxlen),\\\n",
        "           to_categorical(Y, num_classes=len(word2idx) + 1)"
      ],
      "metadata": {
        "id": "x2EkTexjxiIq"
      },
      "execution_count": null,
      "outputs": []
    },
    {
      "cell_type": "code",
      "source": [
        "Xstrain, Xqtrain, Ytrain = vectorize(train_data, word2idx, story_max_len, question_max_len)\n",
        "Xstest, Xqtest, Ytest = vectorize(test_data, word2idx, story_max_len, question_max_len)\n",
        "     "
      ],
      "metadata": {
        "id": "fu_PE7fZxjUJ"
      },
      "execution_count": null,
      "outputs": []
    },
    {
      "cell_type": "code",
      "source": [
        "print(Xstrain.shape, Xqtrain.shape, Ytrain.shape, Xstest.shape, Xqtest.shape, Ytest.shape)\n"
      ],
      "metadata": {
        "colab": {
          "base_uri": "https://localhost:8080/"
        },
        "id": "jmWAKZsdxkQZ",
        "outputId": "fb9ef08a-7e6a-4b01-805d-d39fee7f27c8"
      },
      "execution_count": null,
      "outputs": [
        {
          "output_type": "stream",
          "name": "stdout",
          "text": [
            "(10000, 68) (10000, 4) (10000, 22) (1000, 68) (1000, 4) (1000, 22)\n"
          ]
        }
      ]
    },
    {
      "cell_type": "code",
      "source": [
        "Xstrain[3576]\n"
      ],
      "metadata": {
        "colab": {
          "base_uri": "https://localhost:8080/"
        },
        "id": "0vk7WSlRxk9Z",
        "outputId": "be13b0c6-72bd-42a8-a3e1-dfe4d42885eb"
      },
      "execution_count": null,
      "outputs": [
        {
          "output_type": "execute_result",
          "data": {
            "text/plain": [
              "array([ 0,  0,  0,  0,  0,  0,  0,  0,  0,  0,  0,  0,  0,  0,  0,  0,  0,\n",
              "        0,  0,  0,  0,  0,  0,  0,  0,  0,  0,  0,  0,  0,  0,  0,  0,  0,\n",
              "        0,  0,  0,  0,  0,  0,  0,  0,  6,  4, 11,  1,  2, 13,  3,  8,  4,\n",
              "        1,  2, 17,  3,  5,  4, 11,  1,  2, 18,  3,  6,  9,  1,  2, 18,  3],\n",
              "      dtype=int32)"
            ]
          },
          "metadata": {},
          "execution_count": 22
        }
      ]
    },
    {
      "cell_type": "code",
      "source": [
        "Xqtrain[3576]\n"
      ],
      "metadata": {
        "colab": {
          "base_uri": "https://localhost:8080/"
        },
        "id": "lvc2cpFOxmEA",
        "outputId": "fe1bb5df-b503-427b-8596-3e7049362386"
      },
      "execution_count": null,
      "outputs": [
        {
          "output_type": "execute_result",
          "data": {
            "text/plain": [
              "array([19, 20,  6, 21], dtype=int32)"
            ]
          },
          "metadata": {},
          "execution_count": 23
        }
      ]
    },
    {
      "cell_type": "code",
      "source": [
        "Ytrain[3576]\n"
      ],
      "metadata": {
        "colab": {
          "base_uri": "https://localhost:8080/"
        },
        "id": "MFc3NwOMxm9Y",
        "outputId": "1cad4eb1-c1e7-44ab-a362-322e16f8de74"
      },
      "execution_count": null,
      "outputs": [
        {
          "output_type": "execute_result",
          "data": {
            "text/plain": [
              "array([0., 0., 0., 0., 0., 0., 0., 0., 0., 0., 0., 0., 0., 0., 0., 0., 0.,\n",
              "       0., 1., 0., 0., 0.], dtype=float32)"
            ]
          },
          "metadata": {},
          "execution_count": 24
        }
      ]
    },
    {
      "cell_type": "markdown",
      "source": [
        "# 4. 메모리 네트워크로 QA 태스크 풀기\n"
      ],
      "metadata": {
        "id": "VRKdThGtVArw"
      }
    },
    {
      "cell_type": "code",
      "source": [
        "\n",
        "from tensorflow.keras.models import Sequential, Model\n",
        "from tensorflow.keras.layers import Embedding\n",
        "from tensorflow.keras.layers import Permute, dot, add, concatenate\n",
        "from tensorflow.keras.layers import LSTM, Dense, Dropout, Input, Activation"
      ],
      "metadata": {
        "id": "oEtFC0WbxnzA"
      },
      "execution_count": null,
      "outputs": []
    },
    {
      "cell_type": "code",
      "source": [
        "# 에포크 횟수\n",
        "train_epochs = 120\n",
        "# 배치 크기\n",
        "batch_size = 32\n",
        "# 임베딩 크기\n",
        "embed_size = 50\n",
        "# LSTM의 크기\n",
        "lstm_size = 64\n",
        "# 과적합 방지 기법인 드롭아웃 적용 비율\n",
        "dropout_rate = 0.30"
      ],
      "metadata": {
        "id": "feRPVq0yxpGY"
      },
      "execution_count": null,
      "outputs": []
    },
    {
      "cell_type": "code",
      "source": [
        "\n",
        "# 플레이스 홀더. 입력을 담는 변수\n",
        "input_sequence = Input((story_max_len,))\n",
        "question = Input((question_max_len,))\n",
        "\n",
        "print('Stories :', input_sequence)\n",
        "print('Question:', question)"
      ],
      "metadata": {
        "colab": {
          "base_uri": "https://localhost:8080/"
        },
        "id": "AbwQ09dzxqAZ",
        "outputId": "deb4ee8c-42f1-4087-905e-e5c4a28e2775"
      },
      "execution_count": null,
      "outputs": [
        {
          "output_type": "stream",
          "name": "stdout",
          "text": [
            "Stories : KerasTensor(type_spec=TensorSpec(shape=(None, 68), dtype=tf.float32, name='input_1'), name='input_1', description=\"created by layer 'input_1'\")\n",
            "Question: KerasTensor(type_spec=TensorSpec(shape=(None, 4), dtype=tf.float32, name='input_2'), name='input_2', description=\"created by layer 'input_2'\")\n"
          ]
        }
      ]
    },
    {
      "cell_type": "code",
      "source": [
        "# 스토리를 위한 첫번째 임베딩. 그림에서의 Embedding A\n",
        "input_encoder_m = Sequential()\n",
        "input_encoder_m.add(Embedding(input_dim=vocab_size,\n",
        "                              output_dim=embed_size))\n",
        "input_encoder_m.add(Dropout(dropout_rate))\n",
        "# 결과 : (samples, story_max_len, embedding_dim) / 샘플의 수, 문장의 최대 길이, 임베딩 벡터의 차원\n",
        "\n",
        "# 스토리를 위한 두번째 임베딩. 그림에서의 Embedding C\n",
        "# 임베딩 벡터의 차원을 question_max_len(질문의 최대 길이)로 한다.\n",
        "input_encoder_c = Sequential()\n",
        "input_encoder_c.add(Embedding(input_dim=vocab_size,\n",
        "                              output_dim=question_max_len))\n",
        "input_encoder_c.add(Dropout(dropout_rate))\n",
        "# 결과 : (samples, story_max_len, question_max_len) / 샘플의 수, 문장의 최대 길이, 질문의 최대 길이(임베딩 벡터의 차원)\n",
        " "
      ],
      "metadata": {
        "id": "a2T8Hc2qxq_o"
      },
      "execution_count": null,
      "outputs": []
    },
    {
      "cell_type": "code",
      "source": [
        "# 질문을 위한 임베딩. 그림에서의 Embedding B\n",
        "question_encoder = Sequential()\n",
        "question_encoder.add(Embedding(input_dim=vocab_size,\n",
        "                               output_dim=embed_size,\n",
        "                               input_length=question_max_len))\n",
        "question_encoder.add(Dropout(dropout_rate))\n",
        "# 결과 : (samples, question_max_len, embedding_dim) / 샘플의 수, 질문의 최대 길이, 임베딩 벡터의 차원"
      ],
      "metadata": {
        "id": "tq2Sxec3xsXB"
      },
      "execution_count": null,
      "outputs": []
    },
    {
      "cell_type": "code",
      "source": [
        "# 실질적인 임베딩 과정\n",
        "input_encoded_m = input_encoder_m(input_sequence)\n",
        "input_encoded_c = input_encoder_c(input_sequence)\n",
        "question_encoded = question_encoder(question)\n",
        "\n",
        "print('Input encoded m', input_encoded_m)\n",
        "print('Input encoded c', input_encoded_c)\n",
        "print('Question encoded', question_encoded)"
      ],
      "metadata": {
        "colab": {
          "base_uri": "https://localhost:8080/"
        },
        "id": "4y-oz0zmxuI5",
        "outputId": "c0da9015-8a83-40dd-bfcf-22b528c11783"
      },
      "execution_count": null,
      "outputs": [
        {
          "output_type": "stream",
          "name": "stdout",
          "text": [
            "Input encoded m KerasTensor(type_spec=TensorSpec(shape=(None, 68, 50), dtype=tf.float32, name=None), name='sequential/dropout/Identity:0', description=\"created by layer 'sequential'\")\n",
            "Input encoded c KerasTensor(type_spec=TensorSpec(shape=(None, 68, 4), dtype=tf.float32, name=None), name='sequential_1/dropout_1/Identity:0', description=\"created by layer 'sequential_1'\")\n",
            "Question encoded KerasTensor(type_spec=TensorSpec(shape=(None, 4, 50), dtype=tf.float32, name=None), name='sequential_2/dropout_2/Identity:0', description=\"created by layer 'sequential_2'\")\n"
          ]
        }
      ]
    },
    {
      "cell_type": "code",
      "source": [
        "\n",
        "# 스토리 단어들과 질문 단어들 간의 유사도를 구하는 과정\n",
        "# 유사도는 내적을 사용한다.\n",
        "match = dot([input_encoded_m, question_encoded], axes=-1, normalize=False)\n",
        "match = Activation('softmax')(match)\n",
        "print('Match shape', match)\n",
        "# 결과 : (samples, story_maxlen, question_max_len) / 샘플의 수, 문장의 최대 길이, 질문의 최대 길이"
      ],
      "metadata": {
        "colab": {
          "base_uri": "https://localhost:8080/"
        },
        "id": "qEHL6NmRxvEB",
        "outputId": "6928853f-0eff-4ff1-8cb4-dc9a37f787f8"
      },
      "execution_count": null,
      "outputs": [
        {
          "output_type": "stream",
          "name": "stdout",
          "text": [
            "Match shape KerasTensor(type_spec=TensorSpec(shape=(None, 68, 4), dtype=tf.float32, name=None), name='activation/Softmax:0', description=\"created by layer 'activation'\")\n"
          ]
        }
      ]
    },
    {
      "cell_type": "code",
      "source": [
        "\n",
        "# 유사도가 반영된 어텐션 분포 행렬과 임베딩 C를 거친 스토리 행렬을 더한다.\n",
        "# 두 행렬 모두 크기는 (68, 4)이다.\n",
        "# 이로부터 얻은 행렬은 어텐션 값 행렬(Attention Value Matrix)이다.\n",
        "response = add([match, input_encoded_c])\n",
        "     "
      ],
      "metadata": {
        "id": "3RJBGEWWxwid"
      },
      "execution_count": null,
      "outputs": []
    },
    {
      "cell_type": "code",
      "source": [
        "\n",
        "# 질문 행렬은 (4, 50)의 크기를 가진다.\n",
        "# 하지만 어텐션 값 행렬의 크기는 (68, 4)이다.\n",
        "# 이 두 개를 연결시켜주기 위해서 어텐션 값 행렬의 크기를 (4, 68)로 변환해준다.\n",
        "response = Permute((2, 1))(response)  # (samples, question_max_len, story_max_len)\n",
        "print('Response shape', response)\n",
        "\n",
        "# 질문 행렬과 어텐션 값 행렬을 연결한다.\n",
        "# (4, 118)의 크기를 가진다.\n",
        "answer = concatenate([response, question_encoded])\n",
        "print('Answer shape', answer)"
      ],
      "metadata": {
        "colab": {
          "base_uri": "https://localhost:8080/"
        },
        "id": "jlJdDqvcxxaM",
        "outputId": "aeaf0630-8267-4e48-dbb6-18d005524d0c"
      },
      "execution_count": null,
      "outputs": [
        {
          "output_type": "stream",
          "name": "stdout",
          "text": [
            "Response shape KerasTensor(type_spec=TensorSpec(shape=(None, 4, 68), dtype=tf.float32, name=None), name='permute/transpose:0', description=\"created by layer 'permute'\")\n",
            "Answer shape KerasTensor(type_spec=TensorSpec(shape=(None, 4, 118), dtype=tf.float32, name=None), name='concatenate/concat:0', description=\"created by layer 'concatenate'\")\n"
          ]
        }
      ]
    },
    {
      "cell_type": "code",
      "source": [
        "\n",
        "answer = LSTM(lstm_size)(answer)\n",
        "answer = Dropout(dropout_rate)(answer)\n",
        "answer = Dense(vocab_size)(answer)\n",
        "answer = Activation('softmax')(answer)"
      ],
      "metadata": {
        "id": "BZiOrP42xyUc"
      },
      "execution_count": null,
      "outputs": []
    },
    {
      "cell_type": "code",
      "source": [
        "\n",
        "# build the final model\n",
        "model = Model([input_sequence, question], answer)\n",
        "model.compile(optimizer='rmsprop', loss='categorical_crossentropy',\n",
        "              metrics=['acc'])\n",
        "\n",
        "print(model.summary())\n",
        "\n",
        "# start training the model\n",
        "history = model.fit([Xstrain, Xqtrain],\n",
        "         Ytrain, batch_size, train_epochs,\n",
        "         validation_data=([Xstest, Xqtest], Ytest))\n",
        "\n",
        "# save model\n",
        "model.save('model.h5')"
      ],
      "metadata": {
        "colab": {
          "base_uri": "https://localhost:8080/"
        },
        "id": "EG81McWgxzt9",
        "outputId": "848a5f49-ac22-4f04-e66a-bb48057facc3"
      },
      "execution_count": null,
      "outputs": [
        {
          "output_type": "stream",
          "name": "stdout",
          "text": [
            "Model: \"model\"\n",
            "__________________________________________________________________________________________________\n",
            " Layer (type)                   Output Shape         Param #     Connected to                     \n",
            "==================================================================================================\n",
            " input_1 (InputLayer)           [(None, 68)]         0           []                               \n",
            "                                                                                                  \n",
            " input_2 (InputLayer)           [(None, 4)]          0           []                               \n",
            "                                                                                                  \n",
            " sequential (Sequential)        (None, None, 50)     1100        ['input_1[0][0]']                \n",
            "                                                                                                  \n",
            " sequential_2 (Sequential)      (None, 4, 50)        1100        ['input_2[0][0]']                \n",
            "                                                                                                  \n",
            " dot (Dot)                      (None, 68, 4)        0           ['sequential[0][0]',             \n",
            "                                                                  'sequential_2[0][0]']           \n",
            "                                                                                                  \n",
            " activation (Activation)        (None, 68, 4)        0           ['dot[0][0]']                    \n",
            "                                                                                                  \n",
            " sequential_1 (Sequential)      (None, None, 4)      88          ['input_1[0][0]']                \n",
            "                                                                                                  \n",
            " add (Add)                      (None, 68, 4)        0           ['activation[0][0]',             \n",
            "                                                                  'sequential_1[0][0]']           \n",
            "                                                                                                  \n",
            " permute (Permute)              (None, 4, 68)        0           ['add[0][0]']                    \n",
            "                                                                                                  \n",
            " concatenate (Concatenate)      (None, 4, 118)       0           ['permute[0][0]',                \n",
            "                                                                  'sequential_2[0][0]']           \n",
            "                                                                                                  \n",
            " lstm (LSTM)                    (None, 64)           46848       ['concatenate[0][0]']            \n",
            "                                                                                                  \n",
            " dropout_3 (Dropout)            (None, 64)           0           ['lstm[0][0]']                   \n",
            "                                                                                                  \n",
            " dense (Dense)                  (None, 22)           1430        ['dropout_3[0][0]']              \n",
            "                                                                                                  \n",
            " activation_1 (Activation)      (None, 22)           0           ['dense[0][0]']                  \n",
            "                                                                                                  \n",
            "==================================================================================================\n",
            "Total params: 50,566\n",
            "Trainable params: 50,566\n",
            "Non-trainable params: 0\n",
            "__________________________________________________________________________________________________\n",
            "None\n",
            "Epoch 1/120\n",
            "313/313 [==============================] - 11s 9ms/step - loss: 1.8887 - acc: 0.1673 - val_loss: 1.8020 - val_acc: 0.1540\n",
            "Epoch 2/120\n",
            "313/313 [==============================] - 2s 8ms/step - loss: 1.7331 - acc: 0.2347 - val_loss: 1.6580 - val_acc: 0.3060\n",
            "Epoch 3/120\n",
            "313/313 [==============================] - 3s 10ms/step - loss: 1.6171 - acc: 0.3423 - val_loss: 1.5620 - val_acc: 0.3840\n",
            "Epoch 4/120\n",
            "313/313 [==============================] - 3s 11ms/step - loss: 1.5194 - acc: 0.4014 - val_loss: 1.5317 - val_acc: 0.3940\n",
            "Epoch 5/120\n",
            "313/313 [==============================] - 3s 10ms/step - loss: 1.4979 - acc: 0.4182 - val_loss: 1.5159 - val_acc: 0.3970\n",
            "Epoch 6/120\n",
            "313/313 [==============================] - 2s 7ms/step - loss: 1.4721 - acc: 0.4383 - val_loss: 1.4612 - val_acc: 0.4490\n",
            "Epoch 7/120\n",
            "313/313 [==============================] - 2s 6ms/step - loss: 1.4203 - acc: 0.4690 - val_loss: 1.3799 - val_acc: 0.4840\n",
            "Epoch 8/120\n",
            "313/313 [==============================] - 2s 6ms/step - loss: 1.3727 - acc: 0.4859 - val_loss: 1.3321 - val_acc: 0.5010\n",
            "Epoch 9/120\n",
            "313/313 [==============================] - 2s 6ms/step - loss: 1.3355 - acc: 0.4930 - val_loss: 1.3124 - val_acc: 0.5090\n",
            "Epoch 10/120\n",
            "313/313 [==============================] - 2s 6ms/step - loss: 1.3152 - acc: 0.4987 - val_loss: 1.2769 - val_acc: 0.5100\n",
            "Epoch 11/120\n",
            "313/313 [==============================] - 3s 8ms/step - loss: 1.2968 - acc: 0.5106 - val_loss: 1.2723 - val_acc: 0.5190\n",
            "Epoch 12/120\n",
            "313/313 [==============================] - 2s 7ms/step - loss: 1.2851 - acc: 0.5037 - val_loss: 1.2704 - val_acc: 0.5230\n",
            "Epoch 13/120\n",
            "313/313 [==============================] - 2s 6ms/step - loss: 1.2596 - acc: 0.5177 - val_loss: 1.2392 - val_acc: 0.5210\n",
            "Epoch 14/120\n",
            "313/313 [==============================] - 2s 6ms/step - loss: 1.2524 - acc: 0.5139 - val_loss: 1.2246 - val_acc: 0.5260\n",
            "Epoch 15/120\n",
            "313/313 [==============================] - 2s 6ms/step - loss: 1.2387 - acc: 0.5200 - val_loss: 1.2126 - val_acc: 0.5210\n",
            "Epoch 16/120\n",
            "313/313 [==============================] - 2s 6ms/step - loss: 1.2266 - acc: 0.5159 - val_loss: 1.2096 - val_acc: 0.5140\n",
            "Epoch 17/120\n",
            "313/313 [==============================] - 2s 8ms/step - loss: 1.2180 - acc: 0.5152 - val_loss: 1.2039 - val_acc: 0.5170\n",
            "Epoch 18/120\n",
            "313/313 [==============================] - 2s 7ms/step - loss: 1.2067 - acc: 0.5184 - val_loss: 1.2237 - val_acc: 0.5190\n",
            "Epoch 19/120\n",
            "313/313 [==============================] - 2s 6ms/step - loss: 1.1983 - acc: 0.5237 - val_loss: 1.2059 - val_acc: 0.5030\n",
            "Epoch 20/120\n",
            "313/313 [==============================] - 2s 6ms/step - loss: 1.1815 - acc: 0.5311 - val_loss: 1.2196 - val_acc: 0.4970\n",
            "Epoch 21/120\n",
            "313/313 [==============================] - 2s 6ms/step - loss: 1.1732 - acc: 0.5260 - val_loss: 1.1881 - val_acc: 0.5070\n",
            "Epoch 22/120\n",
            "313/313 [==============================] - 2s 6ms/step - loss: 1.1722 - acc: 0.5240 - val_loss: 1.1867 - val_acc: 0.5180\n",
            "Epoch 23/120\n",
            "313/313 [==============================] - 2s 8ms/step - loss: 1.1620 - acc: 0.5255 - val_loss: 1.1989 - val_acc: 0.5160\n",
            "Epoch 24/120\n",
            "313/313 [==============================] - 2s 7ms/step - loss: 1.1482 - acc: 0.5297 - val_loss: 1.1705 - val_acc: 0.5150\n",
            "Epoch 25/120\n",
            "313/313 [==============================] - 2s 6ms/step - loss: 1.1383 - acc: 0.5323 - val_loss: 1.1622 - val_acc: 0.5260\n",
            "Epoch 26/120\n",
            "313/313 [==============================] - 2s 6ms/step - loss: 1.1317 - acc: 0.5335 - val_loss: 1.1695 - val_acc: 0.5220\n",
            "Epoch 27/120\n",
            "313/313 [==============================] - 2s 6ms/step - loss: 1.1197 - acc: 0.5348 - val_loss: 1.1729 - val_acc: 0.5280\n",
            "Epoch 28/120\n",
            "313/313 [==============================] - 2s 6ms/step - loss: 1.1186 - acc: 0.5294 - val_loss: 1.1562 - val_acc: 0.5100\n",
            "Epoch 29/120\n",
            "313/313 [==============================] - 3s 10ms/step - loss: 1.1146 - acc: 0.5337 - val_loss: 1.1759 - val_acc: 0.5170\n",
            "Epoch 30/120\n",
            "313/313 [==============================] - 2s 6ms/step - loss: 1.0969 - acc: 0.5404 - val_loss: 1.1597 - val_acc: 0.5190\n",
            "Epoch 31/120\n",
            "313/313 [==============================] - 2s 6ms/step - loss: 1.0891 - acc: 0.5388 - val_loss: 1.1490 - val_acc: 0.5230\n",
            "Epoch 32/120\n",
            "313/313 [==============================] - 2s 6ms/step - loss: 1.0877 - acc: 0.5394 - val_loss: 1.1546 - val_acc: 0.5060\n",
            "Epoch 33/120\n",
            "313/313 [==============================] - 2s 7ms/step - loss: 1.0850 - acc: 0.5453 - val_loss: 1.1473 - val_acc: 0.5120\n",
            "Epoch 34/120\n",
            "313/313 [==============================] - 2s 7ms/step - loss: 1.0698 - acc: 0.5459 - val_loss: 1.1615 - val_acc: 0.5110\n",
            "Epoch 35/120\n",
            "313/313 [==============================] - 3s 8ms/step - loss: 1.0638 - acc: 0.5523 - val_loss: 1.1536 - val_acc: 0.5130\n",
            "Epoch 36/120\n",
            "313/313 [==============================] - 2s 6ms/step - loss: 1.0560 - acc: 0.5514 - val_loss: 1.1955 - val_acc: 0.5130\n",
            "Epoch 37/120\n",
            "313/313 [==============================] - 2s 6ms/step - loss: 1.0459 - acc: 0.5611 - val_loss: 1.1489 - val_acc: 0.5330\n",
            "Epoch 38/120\n",
            "313/313 [==============================] - 2s 6ms/step - loss: 1.0306 - acc: 0.5673 - val_loss: 1.1248 - val_acc: 0.5610\n",
            "Epoch 39/120\n",
            "313/313 [==============================] - 2s 6ms/step - loss: 0.9737 - acc: 0.6091 - val_loss: 1.0095 - val_acc: 0.6300\n",
            "Epoch 40/120\n",
            "313/313 [==============================] - 2s 7ms/step - loss: 0.8238 - acc: 0.6916 - val_loss: 0.7977 - val_acc: 0.7260\n",
            "Epoch 41/120\n",
            "313/313 [==============================] - 2s 8ms/step - loss: 0.6884 - acc: 0.7549 - val_loss: 0.7075 - val_acc: 0.7480\n",
            "Epoch 42/120\n",
            "313/313 [==============================] - 2s 6ms/step - loss: 0.6195 - acc: 0.7732 - val_loss: 0.7032 - val_acc: 0.7390\n",
            "Epoch 43/120\n",
            "313/313 [==============================] - 2s 6ms/step - loss: 0.5693 - acc: 0.7909 - val_loss: 0.6013 - val_acc: 0.7740\n",
            "Epoch 44/120\n",
            "313/313 [==============================] - 2s 6ms/step - loss: 0.5109 - acc: 0.8160 - val_loss: 0.5251 - val_acc: 0.8060\n",
            "Epoch 45/120\n",
            "313/313 [==============================] - 2s 6ms/step - loss: 0.4516 - acc: 0.8381 - val_loss: 0.4431 - val_acc: 0.8410\n",
            "Epoch 46/120\n",
            "313/313 [==============================] - 2s 7ms/step - loss: 0.3971 - acc: 0.8569 - val_loss: 0.4068 - val_acc: 0.8510\n",
            "Epoch 47/120\n",
            "313/313 [==============================] - 2s 8ms/step - loss: 0.3733 - acc: 0.8613 - val_loss: 0.4009 - val_acc: 0.8530\n",
            "Epoch 48/120\n",
            "313/313 [==============================] - 2s 6ms/step - loss: 0.3483 - acc: 0.8735 - val_loss: 0.3863 - val_acc: 0.8590\n",
            "Epoch 49/120\n",
            "313/313 [==============================] - 2s 6ms/step - loss: 0.3245 - acc: 0.8795 - val_loss: 0.3474 - val_acc: 0.8640\n",
            "Epoch 50/120\n",
            "313/313 [==============================] - 2s 6ms/step - loss: 0.3202 - acc: 0.8832 - val_loss: 0.3840 - val_acc: 0.8600\n",
            "Epoch 51/120\n",
            "313/313 [==============================] - 2s 6ms/step - loss: 0.2935 - acc: 0.8912 - val_loss: 0.3844 - val_acc: 0.8580\n",
            "Epoch 52/120\n",
            "313/313 [==============================] - 2s 7ms/step - loss: 0.2908 - acc: 0.8935 - val_loss: 0.3295 - val_acc: 0.8800\n",
            "Epoch 53/120\n",
            "313/313 [==============================] - 2s 7ms/step - loss: 0.2722 - acc: 0.8963 - val_loss: 0.3333 - val_acc: 0.8760\n",
            "Epoch 54/120\n",
            "313/313 [==============================] - 2s 6ms/step - loss: 0.2560 - acc: 0.9060 - val_loss: 0.2846 - val_acc: 0.8930\n",
            "Epoch 55/120\n",
            "313/313 [==============================] - 2s 6ms/step - loss: 0.2405 - acc: 0.9117 - val_loss: 0.2921 - val_acc: 0.8910\n",
            "Epoch 56/120\n",
            "313/313 [==============================] - 2s 6ms/step - loss: 0.2266 - acc: 0.9188 - val_loss: 0.2599 - val_acc: 0.9120\n",
            "Epoch 57/120\n",
            "313/313 [==============================] - 2s 6ms/step - loss: 0.2144 - acc: 0.9223 - val_loss: 0.2397 - val_acc: 0.9140\n",
            "Epoch 58/120\n",
            "313/313 [==============================] - 2s 7ms/step - loss: 0.2022 - acc: 0.9290 - val_loss: 0.2248 - val_acc: 0.9260\n",
            "Epoch 59/120\n",
            "313/313 [==============================] - 2s 7ms/step - loss: 0.1854 - acc: 0.9370 - val_loss: 0.2067 - val_acc: 0.9270\n",
            "Epoch 60/120\n",
            "313/313 [==============================] - 2s 6ms/step - loss: 0.1756 - acc: 0.9388 - val_loss: 0.1878 - val_acc: 0.9390\n",
            "Epoch 61/120\n",
            "313/313 [==============================] - 2s 6ms/step - loss: 0.1550 - acc: 0.9471 - val_loss: 0.1804 - val_acc: 0.9390\n",
            "Epoch 62/120\n",
            "313/313 [==============================] - 2s 6ms/step - loss: 0.1538 - acc: 0.9488 - val_loss: 0.1707 - val_acc: 0.9420\n",
            "Epoch 63/120\n",
            "313/313 [==============================] - 2s 6ms/step - loss: 0.1458 - acc: 0.9507 - val_loss: 0.1737 - val_acc: 0.9450\n",
            "Epoch 64/120\n",
            "313/313 [==============================] - 2s 8ms/step - loss: 0.1394 - acc: 0.9520 - val_loss: 0.1571 - val_acc: 0.9500\n",
            "Epoch 65/120\n",
            "313/313 [==============================] - 2s 7ms/step - loss: 0.1317 - acc: 0.9548 - val_loss: 0.1761 - val_acc: 0.9410\n",
            "Epoch 66/120\n",
            "313/313 [==============================] - 2s 6ms/step - loss: 0.1254 - acc: 0.9585 - val_loss: 0.1655 - val_acc: 0.9440\n",
            "Epoch 67/120\n",
            "313/313 [==============================] - 3s 11ms/step - loss: 0.1140 - acc: 0.9625 - val_loss: 0.1454 - val_acc: 0.9480\n",
            "Epoch 68/120\n",
            "313/313 [==============================] - 4s 12ms/step - loss: 0.1182 - acc: 0.9614 - val_loss: 0.1598 - val_acc: 0.9470\n",
            "Epoch 69/120\n",
            "313/313 [==============================] - 4s 12ms/step - loss: 0.1123 - acc: 0.9635 - val_loss: 0.1431 - val_acc: 0.9540\n",
            "Epoch 70/120\n",
            "313/313 [==============================] - 3s 8ms/step - loss: 0.1018 - acc: 0.9640 - val_loss: 0.1597 - val_acc: 0.9480\n",
            "Epoch 71/120\n",
            "313/313 [==============================] - 2s 6ms/step - loss: 0.0979 - acc: 0.9646 - val_loss: 0.1432 - val_acc: 0.9560\n",
            "Epoch 72/120\n",
            "313/313 [==============================] - 2s 6ms/step - loss: 0.0905 - acc: 0.9712 - val_loss: 0.1474 - val_acc: 0.9550\n",
            "Epoch 73/120\n",
            "313/313 [==============================] - 2s 7ms/step - loss: 0.0894 - acc: 0.9712 - val_loss: 0.1340 - val_acc: 0.9580\n",
            "Epoch 74/120\n",
            "313/313 [==============================] - 3s 8ms/step - loss: 0.0795 - acc: 0.9730 - val_loss: 0.1321 - val_acc: 0.9590\n",
            "Epoch 75/120\n",
            "313/313 [==============================] - 2s 6ms/step - loss: 0.0800 - acc: 0.9743 - val_loss: 0.1476 - val_acc: 0.9580\n",
            "Epoch 76/120\n",
            "313/313 [==============================] - 2s 6ms/step - loss: 0.0768 - acc: 0.9743 - val_loss: 0.1358 - val_acc: 0.9590\n",
            "Epoch 77/120\n",
            "313/313 [==============================] - 2s 6ms/step - loss: 0.0710 - acc: 0.9759 - val_loss: 0.1284 - val_acc: 0.9570\n",
            "Epoch 78/120\n",
            "313/313 [==============================] - 2s 6ms/step - loss: 0.0754 - acc: 0.9754 - val_loss: 0.1205 - val_acc: 0.9620\n",
            "Epoch 79/120\n",
            "313/313 [==============================] - 3s 8ms/step - loss: 0.0694 - acc: 0.9780 - val_loss: 0.1252 - val_acc: 0.9620\n",
            "Epoch 80/120\n",
            "313/313 [==============================] - 3s 9ms/step - loss: 0.0670 - acc: 0.9783 - val_loss: 0.1632 - val_acc: 0.9450\n",
            "Epoch 81/120\n",
            "313/313 [==============================] - 2s 6ms/step - loss: 0.0650 - acc: 0.9781 - val_loss: 0.1125 - val_acc: 0.9680\n",
            "Epoch 82/120\n",
            "313/313 [==============================] - 2s 6ms/step - loss: 0.0638 - acc: 0.9803 - val_loss: 0.1259 - val_acc: 0.9610\n",
            "Epoch 83/120\n",
            "313/313 [==============================] - 2s 6ms/step - loss: 0.0611 - acc: 0.9790 - val_loss: 0.1166 - val_acc: 0.9660\n",
            "Epoch 84/120\n",
            "313/313 [==============================] - 2s 6ms/step - loss: 0.0534 - acc: 0.9805 - val_loss: 0.1153 - val_acc: 0.9660\n",
            "Epoch 85/120\n",
            "313/313 [==============================] - 2s 8ms/step - loss: 0.0592 - acc: 0.9820 - val_loss: 0.1252 - val_acc: 0.9670\n",
            "Epoch 86/120\n",
            "313/313 [==============================] - 2s 7ms/step - loss: 0.0542 - acc: 0.9828 - val_loss: 0.1160 - val_acc: 0.9690\n",
            "Epoch 87/120\n",
            "313/313 [==============================] - 2s 6ms/step - loss: 0.0494 - acc: 0.9859 - val_loss: 0.1003 - val_acc: 0.9750\n",
            "Epoch 88/120\n",
            "313/313 [==============================] - 2s 6ms/step - loss: 0.0467 - acc: 0.9861 - val_loss: 0.1165 - val_acc: 0.9670\n",
            "Epoch 89/120\n",
            "313/313 [==============================] - 2s 6ms/step - loss: 0.0471 - acc: 0.9858 - val_loss: 0.1099 - val_acc: 0.9690\n",
            "Epoch 90/120\n",
            "313/313 [==============================] - 2s 6ms/step - loss: 0.0416 - acc: 0.9852 - val_loss: 0.1174 - val_acc: 0.9650\n",
            "Epoch 91/120\n",
            "313/313 [==============================] - 2s 8ms/step - loss: 0.0505 - acc: 0.9833 - val_loss: 0.1053 - val_acc: 0.9710\n",
            "Epoch 92/120\n",
            "313/313 [==============================] - 2s 6ms/step - loss: 0.0426 - acc: 0.9857 - val_loss: 0.1060 - val_acc: 0.9720\n",
            "Epoch 93/120\n",
            "313/313 [==============================] - 2s 6ms/step - loss: 0.0446 - acc: 0.9872 - val_loss: 0.1167 - val_acc: 0.9700\n",
            "Epoch 94/120\n",
            "313/313 [==============================] - 2s 6ms/step - loss: 0.0493 - acc: 0.9864 - val_loss: 0.0961 - val_acc: 0.9730\n",
            "Epoch 95/120\n",
            "313/313 [==============================] - 2s 6ms/step - loss: 0.0421 - acc: 0.9854 - val_loss: 0.1133 - val_acc: 0.9700\n",
            "Epoch 96/120\n",
            "313/313 [==============================] - 2s 6ms/step - loss: 0.0453 - acc: 0.9871 - val_loss: 0.0822 - val_acc: 0.9760\n",
            "Epoch 97/120\n",
            "313/313 [==============================] - 3s 11ms/step - loss: 0.0436 - acc: 0.9873 - val_loss: 0.0969 - val_acc: 0.9750\n",
            "Epoch 98/120\n",
            "313/313 [==============================] - 2s 7ms/step - loss: 0.0345 - acc: 0.9899 - val_loss: 0.1220 - val_acc: 0.9670\n",
            "Epoch 99/120\n",
            "313/313 [==============================] - 2s 6ms/step - loss: 0.0344 - acc: 0.9888 - val_loss: 0.0921 - val_acc: 0.9790\n",
            "Epoch 100/120\n",
            "313/313 [==============================] - 2s 6ms/step - loss: 0.0344 - acc: 0.9892 - val_loss: 0.0962 - val_acc: 0.9740\n",
            "Epoch 101/120\n",
            "313/313 [==============================] - 2s 6ms/step - loss: 0.0385 - acc: 0.9885 - val_loss: 0.0924 - val_acc: 0.9750\n",
            "Epoch 102/120\n",
            "313/313 [==============================] - 2s 6ms/step - loss: 0.0372 - acc: 0.9909 - val_loss: 0.0926 - val_acc: 0.9730\n",
            "Epoch 103/120\n",
            "313/313 [==============================] - 3s 8ms/step - loss: 0.0350 - acc: 0.9903 - val_loss: 0.0887 - val_acc: 0.9760\n",
            "Epoch 104/120\n",
            "313/313 [==============================] - 2s 6ms/step - loss: 0.0296 - acc: 0.9911 - val_loss: 0.0914 - val_acc: 0.9750\n",
            "Epoch 105/120\n",
            "313/313 [==============================] - 2s 6ms/step - loss: 0.0286 - acc: 0.9919 - val_loss: 0.0836 - val_acc: 0.9790\n",
            "Epoch 106/120\n",
            "313/313 [==============================] - 2s 6ms/step - loss: 0.0303 - acc: 0.9908 - val_loss: 0.1061 - val_acc: 0.9720\n",
            "Epoch 107/120\n",
            "313/313 [==============================] - 2s 6ms/step - loss: 0.0292 - acc: 0.9925 - val_loss: 0.1003 - val_acc: 0.9770\n",
            "Epoch 108/120\n",
            "313/313 [==============================] - 2s 6ms/step - loss: 0.0307 - acc: 0.9929 - val_loss: 0.1210 - val_acc: 0.9690\n",
            "Epoch 109/120\n",
            "313/313 [==============================] - 3s 8ms/step - loss: 0.0288 - acc: 0.9922 - val_loss: 0.0995 - val_acc: 0.9770\n",
            "Epoch 110/120\n",
            "313/313 [==============================] - 2s 6ms/step - loss: 0.0288 - acc: 0.9922 - val_loss: 0.1073 - val_acc: 0.9720\n",
            "Epoch 111/120\n",
            "313/313 [==============================] - 2s 6ms/step - loss: 0.0303 - acc: 0.9911 - val_loss: 0.1008 - val_acc: 0.9730\n",
            "Epoch 112/120\n",
            "313/313 [==============================] - 2s 6ms/step - loss: 0.0276 - acc: 0.9916 - val_loss: 0.1104 - val_acc: 0.9750\n",
            "Epoch 113/120\n",
            "313/313 [==============================] - 2s 6ms/step - loss: 0.0360 - acc: 0.9895 - val_loss: 0.0827 - val_acc: 0.9800\n",
            "Epoch 114/120\n",
            "313/313 [==============================] - 2s 7ms/step - loss: 0.0322 - acc: 0.9904 - val_loss: 0.0993 - val_acc: 0.9740\n",
            "Epoch 115/120\n",
            "313/313 [==============================] - 2s 8ms/step - loss: 0.0280 - acc: 0.9923 - val_loss: 0.0900 - val_acc: 0.9770\n",
            "Epoch 116/120\n",
            "313/313 [==============================] - 2s 6ms/step - loss: 0.0253 - acc: 0.9927 - val_loss: 0.1039 - val_acc: 0.9760\n",
            "Epoch 117/120\n",
            "313/313 [==============================] - 2s 6ms/step - loss: 0.0260 - acc: 0.9929 - val_loss: 0.0727 - val_acc: 0.9770\n",
            "Epoch 118/120\n",
            "313/313 [==============================] - 2s 6ms/step - loss: 0.0292 - acc: 0.9913 - val_loss: 0.0930 - val_acc: 0.9780\n",
            "Epoch 119/120\n",
            "313/313 [==============================] - 2s 6ms/step - loss: 0.0262 - acc: 0.9931 - val_loss: 0.0830 - val_acc: 0.9770\n",
            "Epoch 120/120\n",
            "313/313 [==============================] - 2s 7ms/step - loss: 0.0249 - acc: 0.9933 - val_loss: 0.0974 - val_acc: 0.9770\n"
          ]
        }
      ]
    },
    {
      "cell_type": "code",
      "source": [
        "print(\"\\n 테스트 정확도: %.4f\" % (model.evaluate([Xstest, Xqtest], Ytest)[1]))\n"
      ],
      "metadata": {
        "colab": {
          "base_uri": "https://localhost:8080/"
        },
        "id": "V3iqMR2qx0mE",
        "outputId": "3b280d92-2cd4-4f41-a2c7-97f34d9f2683"
      },
      "execution_count": null,
      "outputs": [
        {
          "output_type": "stream",
          "name": "stdout",
          "text": [
            "32/32 [==============================] - 0s 3ms/step - loss: 0.0974 - acc: 0.9770\n",
            "\n",
            " 테스트 정확도: 0.9770\n"
          ]
        }
      ]
    },
    {
      "cell_type": "code",
      "source": [
        "\n",
        "# plot accuracy and loss plot\n",
        "plt.subplot(211)\n",
        "plt.title(\"Accuracy\")\n",
        "plt.plot(history.history[\"acc\"], color=\"g\", label=\"train\")\n",
        "plt.plot(history.history[\"val_acc\"], color=\"b\", label=\"validation\")\n",
        "plt.legend(loc=\"best\")\n",
        "\n",
        "plt.subplot(212)\n",
        "plt.title(\"Loss\")\n",
        "plt.plot(history.history[\"loss\"], color=\"g\", label=\"train\")\n",
        "plt.plot(history.history[\"val_loss\"], color=\"b\", label=\"validation\")\n",
        "plt.legend(loc=\"best\")\n",
        "\n",
        "plt.tight_layout()\n",
        "plt.show()\n",
        "\n",
        "# labels\n",
        "ytest = np.argmax(Ytest, axis=1)\n",
        "\n",
        "# get predictions\n",
        "Ytest_ = model.predict([Xstest, Xqtest])\n",
        "ytest_ = np.argmax(Ytest_, axis=1)"
      ],
      "metadata": {
        "colab": {
          "base_uri": "https://localhost:8080/",
          "height": 316
        },
        "id": "YlWhG4jhx2s9",
        "outputId": "ddf6fc77-5878-4dbb-d388-f7ecfa8ce958"
      },
      "execution_count": null,
      "outputs": [
        {
          "output_type": "display_data",
          "data": {
            "text/plain": [
              "<Figure size 432x288 with 2 Axes>"
            ],
            "image/png": "[encoded data removed]"
          },
          "metadata": {
            "needs_background": "light"
          }
        },
        {
          "output_type": "stream",
          "name": "stdout",
          "text": [
            "32/32 [==============================] - 1s 4ms/step\n"
          ]
        }
      ]
    },
    {
      "cell_type": "code",
      "source": [],
      "metadata": {
        "id": "YKbr3YlQx30W"
      },
      "execution_count": null,
      "outputs": []
    }
  ]
}