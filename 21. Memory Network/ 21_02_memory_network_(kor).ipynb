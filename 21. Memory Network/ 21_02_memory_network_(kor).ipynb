{
  "nbformat": 4,
  "nbformat_minor": 0,
  "metadata": {
    "colab": {
      "provenance": [],
      "mount_file_id": "1j0wZIrsoxf3QU1BCD0jvcOo6Dky6x0GF",
      "authorship_tag": "ABX9TyPgwyp1KLVj5P/bgpEw6GcT",
      "include_colab_link": true
    },
    "kernelspec": {
      "name": "python3",
      "display_name": "Python 3"
    },
    "language_info": {
      "name": "python"
    },
    "gpuClass": "standard",
    "accelerator": "GPU"
  },
  "cells": [
    {
      "cell_type": "markdown",
      "metadata": {
        "id": "view-in-github",
        "colab_type": "text"
      },
      "source": [
        "<a href=\"https://colab.research.google.com/github/LaJeremi/Tensorflow-nlp-tutorial-Practice-/blob/main/21.%20Memory%20Network/%2021_02_memory_network_(kor).ipynb\" target=\"_parent\"><img src=\"https://colab.research.google.com/assets/colab-badge.svg\" alt=\"Open In Colab\"/></a>"
      ]
    },
    {
      "cell_type": "markdown",
      "source": [
        "# 21-02 MemN으로 한국어 QA 해보기\n",
        "\n",
        "출처: https://wikidocs.net/85470\n",
        "\n",
        "# 1. 커스터마이즈드 KoNLPy 사용하기\n",
        "\n",
        "# 2. 한국어 Babi 데이터셋 로드와 전처리\n"
      ],
      "metadata": {
        "id": "AOUWhuQiVFzY"
      }
    },
    {
      "cell_type": "code",
      "source": [
        "import tensorflow as tf\n",
        "tf.__version__\n",
        "     "
      ],
      "metadata": {
        "colab": {
          "base_uri": "https://localhost:8080/",
          "height": 36
        },
        "id": "GnD1nFvCWwJz",
        "outputId": "e25e9885-662a-4be1-f875-5f7560cd19e0"
      },
      "execution_count": null,
      "outputs": [
        {
          "output_type": "execute_result",
          "data": {
            "text/plain": [
              "'2.9.2'"
            ],
            "application/vnd.google.colaboratory.intrinsic+json": {
              "type": "string"
            }
          },
          "metadata": {},
          "execution_count": 21
        }
      ]
    },
    {
      "cell_type": "code",
      "source": [
        "\n",
        "from tensorflow.keras.utils import get_file\n",
        "from tensorflow.keras.preprocessing.sequence import pad_sequences\n",
        "from tensorflow.keras.utils import to_categorical\n",
        "import numpy as np\n",
        "import tarfile\n",
        "from nltk import FreqDist\n",
        "from functools import reduce\n",
        "import os\n",
        "import re\n",
        "import matplotlib.pyplot as plt"
      ],
      "metadata": {
        "id": "K2lugV6CWwxb"
      },
      "execution_count": null,
      "outputs": []
    },
    {
      "cell_type": "code",
      "source": [
        "\n",
        "path = get_file('babi-tasks-v1-2.tar.gz', origin='https://s3.amazonaws.com/text-datasets/'\n",
        "                'babi_tasks_1-20_v1-2.tar.gz')\n",
        "     "
      ],
      "metadata": {
        "colab": {
          "base_uri": "https://localhost:8080/"
        },
        "id": "AvA96zIoWw6I",
        "outputId": "95a17ab8-b8f1-47a7-d924-7c070a37af83"
      },
      "execution_count": null,
      "outputs": [
        {
          "output_type": "stream",
          "name": "stdout",
          "text": [
            "Downloading data from https://s3.amazonaws.com/text-datasets/babi_tasks_1-20_v1-2.tar.gz\n",
            "11745123/11745123 [==============================] - 0s 0us/step\n"
          ]
        }
      ]
    },
    {
      "cell_type": "code",
      "source": [
        "with tarfile.open(path) as tar:\n",
        " tar.extractall()\n",
        " tar.close()\n",
        "\n",
        "DATA_DIR = 'tasks_1-20_v1-2/en-10k'\n",
        "TRAIN_FILE = os.path.join(DATA_DIR, \"qa1_single-supporting-fact_train.txt\")\n",
        "TEST_FILE = os.path.join(DATA_DIR, \"qa1_single-supporting-fact_test.txt\")"
      ],
      "metadata": {
        "id": "LTTi5RfVWw9S"
      },
      "execution_count": null,
      "outputs": []
    },
    {
      "cell_type": "code",
      "source": [
        "i = 0\n",
        "lines = open(TRAIN_FILE , \"rb\")\n",
        "for line in lines:\n",
        "    line = line.decode(\"utf-8\").strip()\n",
        "    # lno, text = line.split(\" \", 1) # ID와 TEXT 분리\n",
        "    i = i + 1\n",
        "    print(line)\n",
        "    if i == 20:\n",
        "      break"
      ],
      "metadata": {
        "colab": {
          "base_uri": "https://localhost:8080/"
        },
        "id": "42rM8-bDWxAC",
        "outputId": "b56fcb00-8cbd-417e-86fe-bc6cf3b0e030"
      },
      "execution_count": null,
      "outputs": [
        {
          "output_type": "stream",
          "name": "stdout",
          "text": [
            "1 Mary moved to the bathroom.\n",
            "2 John went to the hallway.\n",
            "3 Where is Mary? \tbathroom\t1\n",
            "4 Daniel went back to the hallway.\n",
            "5 Sandra moved to the garden.\n",
            "6 Where is Daniel? \thallway\t4\n",
            "7 John moved to the office.\n",
            "8 Sandra journeyed to the bathroom.\n",
            "9 Where is Daniel? \thallway\t4\n",
            "10 Mary moved to the hallway.\n",
            "11 Daniel travelled to the office.\n",
            "12 Where is Daniel? \toffice\t11\n",
            "13 John went back to the garden.\n",
            "14 John moved to the bedroom.\n",
            "15 Where is Sandra? \tbathroom\t8\n",
            "1 Sandra travelled to the office.\n",
            "2 Sandra went to the bathroom.\n",
            "3 Where is Sandra? \tbathroom\t2\n",
            "4 Mary went to the bedroom.\n",
            "5 Daniel moved to the hallway.\n"
          ]
        }
      ]
    },
    {
      "cell_type": "code",
      "source": [
        "\n",
        "def read_data(dir):\n",
        "    stories, questions, answers = [], [], [] # 각각 스토리, 질문, 답변을 저장할 예정\n",
        "    story_temp = [] # 현재 시점의 스토리 임시 저장\n",
        "    lines = open(dir, \"rb\")\n",
        "\n",
        "    for line in lines:\n",
        "        line = line.decode(\"utf-8\") # b' 제거\n",
        "        line = line.strip() # '\\n' 제거\n",
        "        idx, text = line.split(\" \", 1) # 맨 앞에 있는 id number 분리\n",
        "        # 여기까지는 모든 줄에 적용되는 전처리\n",
        "\n",
        "        if int(idx) == 1:\n",
        "            story_temp = []\n",
        "\n",
        "        if \"\\t\" in text: # 현재 읽는 줄이 질문 (tab) 답변 (tab)인 경우\n",
        "            question, answer, _ = text.split(\"\\t\") # 질문과 답변을 각각 저장\n",
        "            stories.append([x for x in story_temp if x]) # 지금까지의 누적 스토리를 스토리에 저장\n",
        "            questions.append(question)\n",
        "            answers.append(answer)\n",
        "\n",
        "        else: # 현재 읽는 줄이 스토리인 경우\n",
        "            story_temp.append(text) # 임시 저장\n",
        "\n",
        "    lines.close()\n",
        "    return stories, questions, answers"
      ],
      "metadata": {
        "id": "8b7S8cQ6WxCx"
      },
      "execution_count": null,
      "outputs": []
    },
    {
      "cell_type": "code",
      "source": [
        "\n",
        "train_data = read_data(TRAIN_FILE)\n",
        "test_data = read_data(TEST_FILE)"
      ],
      "metadata": {
        "id": "9335IHkZWxFh"
      },
      "execution_count": null,
      "outputs": []
    },
    {
      "cell_type": "code",
      "source": [
        "\n",
        "train_stories, train_questions, train_answers = read_data(TRAIN_FILE)\n",
        "test_stories, test_questions, test_answers = read_data(TEST_FILE)"
      ],
      "metadata": {
        "id": "kWjT9Ij4WxIc"
      },
      "execution_count": null,
      "outputs": []
    },
    {
      "cell_type": "code",
      "source": [
        "print('훈련용 스토리의 개수 :', len(train_stories))\n",
        "print('훈련용 질문의 개수 :',len(train_questions))\n",
        "print('훈련용 답변의 개수 :',len(train_answers))\n",
        "print('테스트용 스토리의 개수 :',len(test_stories))\n",
        "print('테스트용 질문의 개수 :',len(test_questions))\n",
        "print('테스트용 답변의 개수 :',len(test_answers))"
      ],
      "metadata": {
        "colab": {
          "base_uri": "https://localhost:8080/"
        },
        "id": "rj93OfmQWxLc",
        "outputId": "eaf5417f-6740-44f2-d13d-75c22dd6d4c2"
      },
      "execution_count": null,
      "outputs": [
        {
          "output_type": "stream",
          "name": "stdout",
          "text": [
            "훈련용 스토리의 개수 : 10000\n",
            "훈련용 질문의 개수 : 10000\n",
            "훈련용 답변의 개수 : 10000\n",
            "테스트용 스토리의 개수 : 1000\n",
            "테스트용 질문의 개수 : 1000\n",
            "테스트용 답변의 개수 : 1000\n"
          ]
        }
      ]
    },
    {
      "cell_type": "code",
      "source": [
        "train_stories[3576]\n"
      ],
      "metadata": {
        "colab": {
          "base_uri": "https://localhost:8080/"
        },
        "id": "U8wZPQ_QWxOU",
        "outputId": "4f3e47f8-4cc9-4a11-8ebc-d7617d9281c2"
      },
      "execution_count": null,
      "outputs": [
        {
          "output_type": "execute_result",
          "data": {
            "text/plain": [
              "['John went back to the garden.',\n",
              " 'Mary went to the kitchen.',\n",
              " 'Sandra went back to the bedroom.',\n",
              " 'John travelled to the bedroom.']"
            ]
          },
          "metadata": {},
          "execution_count": 30
        }
      ]
    },
    {
      "cell_type": "code",
      "source": [
        "train_questions[3576]\n"
      ],
      "metadata": {
        "colab": {
          "base_uri": "https://localhost:8080/",
          "height": 36
        },
        "id": "-4DHwnW5WxRL",
        "outputId": "bf0084f2-242b-4980-96af-21388d178828"
      },
      "execution_count": null,
      "outputs": [
        {
          "output_type": "execute_result",
          "data": {
            "text/plain": [
              "'Where is John? '"
            ],
            "application/vnd.google.colaboratory.intrinsic+json": {
              "type": "string"
            }
          },
          "metadata": {},
          "execution_count": 31
        }
      ]
    },
    {
      "cell_type": "code",
      "source": [
        "train_answers[3576]\n"
      ],
      "metadata": {
        "colab": {
          "base_uri": "https://localhost:8080/",
          "height": 36
        },
        "id": "zxuSWcLqWxT9",
        "outputId": "ba6ab4f1-b604-47fc-dda2-beabc3936d5c"
      },
      "execution_count": null,
      "outputs": [
        {
          "output_type": "execute_result",
          "data": {
            "text/plain": [
              "'bedroom'"
            ],
            "application/vnd.google.colaboratory.intrinsic+json": {
              "type": "string"
            }
          },
          "metadata": {},
          "execution_count": 32
        }
      ]
    },
    {
      "cell_type": "code",
      "source": [
        "def tokenize(sent):\n",
        "    return [ x.strip() for x in re.split('(\\W+)', sent) if x and x.strip()]"
      ],
      "metadata": {
        "id": "X0V5VOb3WxW6"
      },
      "execution_count": null,
      "outputs": []
    },
    {
      "cell_type": "code",
      "source": [
        "\n",
        "def preprocess_data(train_data, test_data):\n",
        "    counter = FreqDist()\n",
        "\n",
        "    # 두 문장의 story를 하나의 문장으로 통합하는 함수\n",
        "    flatten = lambda data: reduce(lambda x, y: x + y, data)\n",
        "\n",
        "    # 각 샘플의 길이를 저장하는 리스트\n",
        "    story_len = []\n",
        "    question_len = []\n",
        "\n",
        "    for stories, questions, answers in [train_data, test_data]:\n",
        "        for story in stories:\n",
        "            stories = tokenize(flatten(story)) # 스토리의 문장들을 펼친 후 토큰화\n",
        "            story_len.append(len(stories)) # 각 story의 길이 저장\n",
        "            for word in stories: # 단어 집합에 단어 추가\n",
        "                counter[word] += 1\n",
        "        for question in questions:\n",
        "            question = tokenize(question)\n",
        "            question_len.append(len(question))\n",
        "            for word in question:\n",
        "                counter[word] += 1\n",
        "        for answer in answers:\n",
        "            answer = tokenize(answer)\n",
        "            for word in answer:\n",
        "                counter[word] += 1\n",
        "\n",
        "    # 단어 집합 생성\n",
        "    word2idx = {word : (idx + 1) for idx, (word, _) in enumerate(counter.most_common())}\n",
        "    idx2word = {idx : word for word, idx in word2idx.items()}\n",
        "\n",
        "    # 가장 긴 샘플의 길이\n",
        "    story_max_len = np.max(story_len)\n",
        "    question_max_len = np.max(question_len)\n",
        "\n",
        "    return word2idx, idx2word, story_max_len, question_max_len"
      ],
      "metadata": {
        "id": "lw0t52HFWxZx"
      },
      "execution_count": null,
      "outputs": []
    },
    {
      "cell_type": "code",
      "source": [
        "word2idx, idx2word, story_max_len, question_max_len = preprocess_data(train_data, test_data)\n"
      ],
      "metadata": {
        "id": "d1i_6FE9Wxcu"
      },
      "execution_count": null,
      "outputs": []
    },
    {
      "cell_type": "code",
      "source": [],
      "metadata": {
        "id": "E-x4g3EYWxfk"
      },
      "execution_count": null,
      "outputs": []
    },
    {
      "cell_type": "code",
      "source": [],
      "metadata": {
        "id": "nkP5hW0NWxiZ"
      },
      "execution_count": null,
      "outputs": []
    },
    {
      "cell_type": "code",
      "source": [],
      "metadata": {
        "id": "p9LPfHidWxlQ"
      },
      "execution_count": null,
      "outputs": []
    },
    {
      "cell_type": "code",
      "source": [],
      "metadata": {
        "id": "jlgD1DhxWxoI"
      },
      "execution_count": null,
      "outputs": []
    },
    {
      "cell_type": "code",
      "source": [],
      "metadata": {
        "id": "ciaMsZ81Wxqy"
      },
      "execution_count": null,
      "outputs": []
    },
    {
      "cell_type": "code",
      "execution_count": null,
      "metadata": {
        "colab": {
          "base_uri": "https://localhost:8080/",
          "height": 36
        },
        "id": "_fMBRE1ryxBZ",
        "outputId": "d087e75e-f0c2-4593-f815-9ad4d54ac153"
      },
      "outputs": [
        {
          "output_type": "execute_result",
          "data": {
            "text/plain": [
              "'2.9.2'"
            ],
            "application/vnd.google.colaboratory.intrinsic+json": {
              "type": "string"
            }
          },
          "metadata": {},
          "execution_count": 38
        }
      ],
      "source": [
        "import tensorflow as tf\n",
        "tf.__version__"
      ]
    },
    {
      "cell_type": "code",
      "source": [
        "pip install customized_konlpy\n"
      ],
      "metadata": {
        "colab": {
          "base_uri": "https://localhost:8080/"
        },
        "id": "CGHE_sFGy8oz",
        "outputId": "247dc080-51de-496c-a3f9-70ced97b8a71"
      },
      "execution_count": null,
      "outputs": [
        {
          "output_type": "stream",
          "name": "stdout",
          "text": [
            "Looking in indexes: https://pypi.org/simple, https://us-python.pkg.dev/colab-wheels/public/simple/\n",
            "Requirement already satisfied: customized_konlpy in /usr/local/lib/python3.8/dist-packages (0.0.64)\n",
            "Requirement already satisfied: konlpy>=0.4.4 in /usr/local/lib/python3.8/dist-packages (from customized_konlpy) (0.6.0)\n",
            "Requirement already satisfied: Jpype1>=0.6.1 in /usr/local/lib/python3.8/dist-packages (from customized_konlpy) (1.4.1)\n",
            "Requirement already satisfied: packaging in /usr/local/lib/python3.8/dist-packages (from Jpype1>=0.6.1->customized_konlpy) (23.0)\n",
            "Requirement already satisfied: lxml>=4.1.0 in /usr/local/lib/python3.8/dist-packages (from konlpy>=0.4.4->customized_konlpy) (4.9.2)\n",
            "Requirement already satisfied: numpy>=1.6 in /usr/local/lib/python3.8/dist-packages (from konlpy>=0.4.4->customized_konlpy) (1.21.6)\n"
          ]
        }
      ]
    },
    {
      "cell_type": "code",
      "source": [
        "from ckonlpy.tag import Twitter\n"
      ],
      "metadata": {
        "id": "w_noYB7vzBR4"
      },
      "execution_count": null,
      "outputs": []
    },
    {
      "cell_type": "code",
      "source": [
        "\n",
        "twitter = Twitter()\n",
        "twitter.morphs('은경이는 사무실로 갔습니다.')\n",
        "     "
      ],
      "metadata": {
        "colab": {
          "base_uri": "https://localhost:8080/"
        },
        "id": "P-Rr8sqmzCSp",
        "outputId": "575b0a73-0344-42bb-c851-0ec7f8443cec"
      },
      "execution_count": null,
      "outputs": [
        {
          "output_type": "stream",
          "name": "stderr",
          "text": [
            "/usr/local/lib/python3.8/dist-packages/konlpy/tag/_okt.py:17: UserWarning: \"Twitter\" has changed to \"Okt\" since KoNLPy v0.4.5.\n",
            "  warn('\"Twitter\" has changed to \"Okt\" since KoNLPy v0.4.5.')\n"
          ]
        },
        {
          "output_type": "execute_result",
          "data": {
            "text/plain": [
              "['은', '경이', '는', '사무실', '로', '갔습니다', '.']"
            ]
          },
          "metadata": {},
          "execution_count": 41
        }
      ]
    },
    {
      "cell_type": "code",
      "source": [
        "\n",
        "twitter.add_dictionary('은경이', 'Noun')\n",
        "twitter.morphs('은경이는 사무실로 갔습니다.')"
      ],
      "metadata": {
        "colab": {
          "base_uri": "https://localhost:8080/"
        },
        "id": "hymlax3yzKV5",
        "outputId": "acf945b7-f7f6-4db3-c851-8a708c032664"
      },
      "execution_count": null,
      "outputs": [
        {
          "output_type": "execute_result",
          "data": {
            "text/plain": [
              "['은경이', '는', '사무실', '로', '갔습니다', '.']"
            ]
          },
          "metadata": {},
          "execution_count": 42
        }
      ]
    },
    {
      "cell_type": "code",
      "source": [
        "\n",
        "from ckonlpy.tag import Twitter\n",
        "from tensorflow.keras.utils import get_file\n",
        "from tensorflow.keras.preprocessing.sequence import pad_sequences\n",
        "from tensorflow.keras.utils import to_categorical\n",
        "import numpy as np\n",
        "import tarfile\n",
        "from nltk import FreqDist\n",
        "from functools import reduce\n",
        "import os\n",
        "import re\n",
        "import matplotlib.pyplot as plt"
      ],
      "metadata": {
        "id": "BfMUCYBszLHx"
      },
      "execution_count": null,
      "outputs": []
    },
    {
      "cell_type": "code",
      "source": [
        "from google.colab import drive"
      ],
      "metadata": {
        "id": "F2Jrxmmazua4"
      },
      "execution_count": null,
      "outputs": []
    },
    {
      "cell_type": "code",
      "source": [
        "\n",
        "TRAIN_FILE = os.path.join(\"/content/drive/MyDrive/Colab Notebooks/qa1_single-supporting-fact_train_kor.txt\")\n",
        "TEST_FILE = os.path.join(\"/content/drive/MyDrive/Colab Notebooks/qa1_single-supporting-fact_test_kor.txt\")"
      ],
      "metadata": {
        "id": "FYVog8BSzMjA"
      },
      "execution_count": null,
      "outputs": []
    },
    {
      "cell_type": "markdown",
      "source": [
        "# 새 섹션"
      ],
      "metadata": {
        "id": "U5jTOc6DV8uW"
      }
    },
    {
      "cell_type": "code",
      "source": [
        "\n",
        "# TRAIN_FILE = os.path.join(\"qa1_single-supporting-fact_train_kor.txt\")\n",
        "# TEST_FILE = os.path.join(\"qa1_single-supporting-fact_test_kor.txt\")"
      ],
      "metadata": {
        "id": "2RTmX__u3dVk"
      },
      "execution_count": null,
      "outputs": []
    },
    {
      "cell_type": "code",
      "source": [
        "i = 0\n",
        "lines = open(TRAIN_FILE , \"rb\")\n",
        "for line in lines:\n",
        "    line = line.decode(\"utf-8\").strip()\n",
        "    i = i + 1\n",
        "    print(line)\n",
        "    if i == 20:\n",
        "      break"
      ],
      "metadata": {
        "colab": {
          "base_uri": "https://localhost:8080/"
        },
        "id": "qggW7lUjzNcg",
        "outputId": "9349c813-a19d-4dc2-fbb4-201740086d65"
      },
      "execution_count": null,
      "outputs": [
        {
          "output_type": "stream",
          "name": "stdout",
          "text": [
            "1 필웅이는 화장실로 갔습니다.\n",
            "2 은경이는 복도로 이동했습니다.\n",
            "3 필웅이는 어디야? \t화장실\t1\n",
            "4 수종이는 복도로 복귀했습니다.\n",
            "5 경임이는 정원으로 갔습니다.\n",
            "6 수종이는 어디야? \t복도\t4\n",
            "7 은경이는 사무실로 갔습니다.\n",
            "8 경임이는 화장실로 뛰어갔습니다.\n",
            "9 수종이는 어디야? \t복도\t4\n",
            "10 필웅이는 복도로 갔습니다.\n",
            "11 수종이는 사무실로 가버렸습니다.\n",
            "12 수종이는 어디야? \t사무실\t11\n",
            "13 은경이는 정원으로 복귀했습니다.\n",
            "14 은경이는 침실로 갔습니다.\n",
            "15 경임이는 어디야? \t화장실\t8\n",
            "1 경임이는 사무실로 가버렸습니다.\n",
            "2 경임이는 화장실로 이동했습니다.\n",
            "3 경임이는 어디야? \t화장실\t2\n",
            "4 필웅이는 침실로 이동했습니다.\n",
            "5 수종이는 복도로 갔습니다.\n"
          ]
        }
      ]
    },
    {
      "cell_type": "code",
      "source": [
        "def read_data(dir):\n",
        "    stories, questions, answers = [], [], [] # 각각 스토리, 질문, 답변을 저장할 예정\n",
        "    story_temp = [] # 현재 시점의 스토리 임시 저장\n",
        "    lines = open(dir, \"rb\")\n",
        "\n",
        "    for line in lines:\n",
        "        line = line.decode(\"utf-8\") # b' 제거\n",
        "        line = line.strip() # '\\n' 제거\n",
        "        idx, text = line.split(\" \", 1) # 맨 앞에 있는 id number 분리\n",
        "        # 여기까지는 모든 줄에 적용되는 전처리\n",
        "\n",
        "        if int(idx) == 1:\n",
        "            story_temp = []\n",
        "\n",
        "        if \"\\t\" in text: # 현재 읽는 줄이 질문 (tab) 답변 (tab)인 경우\n",
        "            question, answer, _ = text.split(\"\\t\") # 질문과 답변을 각각 저장\n",
        "            stories.append([x for x in story_temp if x]) # 지금까지의 누적 스토리를 스토리에 저장\n",
        "            questions.append(question)\n",
        "            answers.append(answer)\n",
        "\n",
        "        else: # 현재 읽는 줄이 스토리인 경우\n",
        "            story_temp.append(text) # 임시 저장\n",
        "\n",
        "    lines.close()\n",
        "    return stories, questions, answers"
      ],
      "metadata": {
        "id": "KGjkL1e4zOgj"
      },
      "execution_count": null,
      "outputs": []
    },
    {
      "cell_type": "code",
      "source": [
        "\n",
        "train_data = read_data(TRAIN_FILE)\n",
        "test_data = read_data(TEST_FILE)"
      ],
      "metadata": {
        "id": "hMukVt3e0CmA"
      },
      "execution_count": null,
      "outputs": []
    },
    {
      "cell_type": "code",
      "source": [
        "\n",
        "train_stories, train_questions, train_answers = read_data(TRAIN_FILE)\n",
        "test_stories, test_questions, test_answers = read_data(TEST_FILE)"
      ],
      "metadata": {
        "id": "fYCkZY0W0ESg"
      },
      "execution_count": null,
      "outputs": []
    },
    {
      "cell_type": "code",
      "source": [
        "print('훈련용 스토리의 개수 :', len(train_stories))\n",
        "print('훈련용 질문의 개수 :',len(train_questions))\n",
        "print('훈련용 답변의 개수 :',len(train_answers))\n",
        "print('테스트용 스토리의 개수 :',len(test_stories))\n",
        "print('테스트용 질문의 개수 :',len(test_questions))\n",
        "print('테스트용 답변의 개수 :',len(test_answers))\n",
        "     "
      ],
      "metadata": {
        "id": "YqFAUXod0FCo",
        "colab": {
          "base_uri": "https://localhost:8080/"
        },
        "outputId": "9b8ba6de-7e02-4d99-e401-7a1ffaace0a3"
      },
      "execution_count": null,
      "outputs": [
        {
          "output_type": "stream",
          "name": "stdout",
          "text": [
            "훈련용 스토리의 개수 : 10000\n",
            "훈련용 질문의 개수 : 10000\n",
            "훈련용 답변의 개수 : 10000\n",
            "테스트용 스토리의 개수 : 1000\n",
            "테스트용 질문의 개수 : 1000\n",
            "테스트용 답변의 개수 : 1000\n"
          ]
        }
      ]
    },
    {
      "cell_type": "code",
      "source": [
        "train_stories[3572]\n"
      ],
      "metadata": {
        "id": "ad3TC0Fa0F7g",
        "colab": {
          "base_uri": "https://localhost:8080/"
        },
        "outputId": "a7ced689-ee71-4a23-a2a9-c3eb5acfdea5"
      },
      "execution_count": null,
      "outputs": [
        {
          "output_type": "execute_result",
          "data": {
            "text/plain": [
              "['은경이는 부엌으로 가버렸습니다.',\n",
              " '필웅이는 사무실로 가버렸습니다.',\n",
              " '수종이는 복도로 뛰어갔습니다.',\n",
              " '은경이는 사무실로 복귀했습니다.',\n",
              " '경임이는 사무실로 이동했습니다.',\n",
              " '경임이는 침실로 갔습니다.']"
            ]
          },
          "metadata": {},
          "execution_count": 51
        }
      ]
    },
    {
      "cell_type": "code",
      "source": [
        "train_questions[3572]\n"
      ],
      "metadata": {
        "id": "317rmHFl0Gvg",
        "colab": {
          "base_uri": "https://localhost:8080/",
          "height": 36
        },
        "outputId": "0f132675-6063-4d4d-9045-9cc36f42fbdd"
      },
      "execution_count": null,
      "outputs": [
        {
          "output_type": "execute_result",
          "data": {
            "text/plain": [
              "'은경이는 어디야? '"
            ],
            "application/vnd.google.colaboratory.intrinsic+json": {
              "type": "string"
            }
          },
          "metadata": {},
          "execution_count": 52
        }
      ]
    },
    {
      "cell_type": "code",
      "source": [
        "train_answers[3572]\n"
      ],
      "metadata": {
        "id": "DvC5NDUi0H6g",
        "colab": {
          "base_uri": "https://localhost:8080/",
          "height": 36
        },
        "outputId": "a14653ae-2f93-41b6-b97a-4d9bfb89c530"
      },
      "execution_count": null,
      "outputs": [
        {
          "output_type": "execute_result",
          "data": {
            "text/plain": [
              "'사무실'"
            ],
            "application/vnd.google.colaboratory.intrinsic+json": {
              "type": "string"
            }
          },
          "metadata": {},
          "execution_count": 53
        }
      ]
    },
    {
      "cell_type": "code",
      "source": [
        "\n",
        "def tokenize(sent):\n",
        "  return [ x.strip() for x in re.split('(\\W+)', sent) if x and x.strip()]"
      ],
      "metadata": {
        "id": "CC8IGbpp0Iug"
      },
      "execution_count": null,
      "outputs": []
    },
    {
      "cell_type": "code",
      "source": [
        "def preprocess_data(train_data, test_data):\n",
        "    counter = FreqDist()\n",
        "\n",
        "    # 두 문장의 story를 하나의 문장으로 통합하는 함수\n",
        "    flatten = lambda data: reduce(lambda x, y: x + y, data)\n",
        "\n",
        "    # 각 샘플의 길이를 저장하는 리스트\n",
        "    story_len = []\n",
        "    question_len = []\n",
        "\n",
        "    for stories, questions, answers in [train_data, test_data]:\n",
        "        for story in stories:\n",
        "            stories = tokenize(flatten(story)) # 스토리의 문장들을 펼친 후 토큰화\n",
        "            story_len.append(len(stories)) # 각 story의 길이 저장\n",
        "            for word in stories: # 단어 집합에 단어 추가\n",
        "                counter[word] += 1\n",
        "        for question in questions:\n",
        "            question = tokenize(question)\n",
        "            question_len.append(len(question))\n",
        "            for word in question:\n",
        "                counter[word] += 1\n",
        "        for answer in answers:\n",
        "            answer = tokenize(answer)\n",
        "            for word in answer:\n",
        "                counter[word] += 1\n",
        "\n",
        "    # 단어 집합 생성\n",
        "    word2idx = {word : (idx + 1) for idx, (word, _) in enumerate(counter.most_common())}\n",
        "    idx2word = {idx : word for word, idx in word2idx.items()}\n",
        "\n",
        "    # 가장 긴 샘플의 길이\n",
        "    story_max_len = np.max(story_len)\n",
        "    question_max_len = np.max(question_len)\n",
        "\n",
        "    return word2idx, idx2word, story_max_len, question_max_len"
      ],
      "metadata": {
        "id": "JNjR9wFx0-xT"
      },
      "execution_count": null,
      "outputs": []
    },
    {
      "cell_type": "code",
      "source": [
        "word2idx, idx2word, story_max_len, question_max_len = preprocess_data(train_data, test_data)\n"
      ],
      "metadata": {
        "id": "LY5HfQot1Zie"
      },
      "execution_count": null,
      "outputs": []
    },
    {
      "cell_type": "code",
      "source": [
        "print(word2idx)\n"
      ],
      "metadata": {
        "id": "9L79T2Ej1AgI",
        "colab": {
          "base_uri": "https://localhost:8080/"
        },
        "outputId": "7b375f0e-8e9d-4319-c7c4-158ad03dd060"
      },
      "execution_count": null,
      "outputs": [
        {
          "output_type": "stream",
          "name": "stdout",
          "text": [
            "{'.': 1, '경임이는': 2, '은경이는': 3, '수종이는': 4, '필웅이는': 5, '이동했습니다': 6, '가버렸습니다': 7, '뛰어갔습니다': 8, '복귀했습니다': 9, '갔습니다': 10, '화장실로': 11, '정원으로': 12, '복도로': 13, '어디야': 14, '?': 15, '부엌으로': 16, '사무실로': 17, '침실로': 18, '화장실': 19, '정원': 20, '사무실': 21, '침실': 22, '복도': 23, '부엌': 24}\n"
          ]
        }
      ]
    },
    {
      "cell_type": "code",
      "source": [
        "vocab_size = len(word2idx) + 1\n"
      ],
      "metadata": {
        "id": "UG8cUEdW1CcA"
      },
      "execution_count": null,
      "outputs": []
    },
    {
      "cell_type": "code",
      "source": [
        "\n",
        "print('스토리의 최대 길이 :',story_max_len)\n",
        "print('질문의 최대 길이 :',question_max_len)"
      ],
      "metadata": {
        "colab": {
          "base_uri": "https://localhost:8080/"
        },
        "id": "HJud-l5HZ49v",
        "outputId": "de475f26-bdcf-489f-8320-4acaddfe8633"
      },
      "execution_count": null,
      "outputs": [
        {
          "output_type": "stream",
          "name": "stdout",
          "text": [
            "스토리의 최대 길이 : 40\n",
            "질문의 최대 길이 : 3\n"
          ]
        }
      ]
    },
    {
      "cell_type": "code",
      "source": [
        "\n",
        "def vectorize(data, word2idx, story_maxlen, question_maxlen):\n",
        "    Xs, Xq, Y = [], [], []\n",
        "    flatten = lambda data: reduce(lambda x, y: x + y, data)\n",
        "\n",
        "    stories, questions, answers = data\n",
        "    for story, question, answer in zip(stories, questions, answers):\n",
        "        xs = [word2idx[w] for w in tokenize(flatten(story))]\n",
        "        xq = [word2idx[w] for w in tokenize(question)]\n",
        "        Xs.append(xs)\n",
        "        Xq.append(xq)\n",
        "        Y.append(word2idx[answer])\n",
        "\n",
        "        # 스토리와 질문은 각각의 최대 길이로 패딩\n",
        "        # 정답은 원-핫 인코딩\n",
        "    return pad_sequences(Xs, maxlen=story_maxlen),\\\n",
        "           pad_sequences(Xq, maxlen=question_maxlen),\\\n",
        "           to_categorical(Y, num_classes=len(word2idx) + 1)"
      ],
      "metadata": {
        "id": "2QLrEubnZ54Y"
      },
      "execution_count": null,
      "outputs": []
    },
    {
      "cell_type": "code",
      "source": [
        "Xstrain, Xqtrain, Ytrain = vectorize(train_data, word2idx, story_max_len, question_max_len)\n",
        "Xstest, Xqtest, Ytest = vectorize(test_data, word2idx, story_max_len, question_max_len)"
      ],
      "metadata": {
        "id": "E-fxihyEZ7I5"
      },
      "execution_count": null,
      "outputs": []
    },
    {
      "cell_type": "code",
      "source": [
        "print(Xstrain.shape, Xqtrain.shape, Ytrain.shape, Xstest.shape, Xqtest.shape, Ytest.shape)\n"
      ],
      "metadata": {
        "colab": {
          "base_uri": "https://localhost:8080/"
        },
        "id": "j3k3tY86Z8aw",
        "outputId": "e6145ff1-0bc4-466e-a971-f90c747284e3"
      },
      "execution_count": null,
      "outputs": [
        {
          "output_type": "stream",
          "name": "stdout",
          "text": [
            "(10000, 40) (10000, 3) (10000, 25) (1000, 40) (1000, 3) (1000, 25)\n"
          ]
        }
      ]
    },
    {
      "cell_type": "markdown",
      "source": [
        "# 3. 메모리 네트워크로 QA 태스크 풀기\n"
      ],
      "metadata": {
        "id": "GLgEe9RmVqIs"
      }
    },
    {
      "cell_type": "code",
      "source": [
        "Xstrain[3576]\n"
      ],
      "metadata": {
        "colab": {
          "base_uri": "https://localhost:8080/"
        },
        "id": "2xGEADScZ9No",
        "outputId": "804c375a-a373-4c8e-cef1-fd035481757e"
      },
      "execution_count": null,
      "outputs": [
        {
          "output_type": "execute_result",
          "data": {
            "text/plain": [
              "array([ 0,  0,  0,  0,  0,  0,  0,  0,  0,  0,  0,  0,  0,  0,  0,  0,  0,\n",
              "        0,  0,  0,  0,  0,  0,  0,  3, 12,  9,  1,  5, 16,  6,  1,  2, 18,\n",
              "        9,  1,  3, 18,  7,  1], dtype=int32)"
            ]
          },
          "metadata": {},
          "execution_count": 75
        }
      ]
    },
    {
      "cell_type": "code",
      "source": [
        "Xqtrain[3576]\n"
      ],
      "metadata": {
        "colab": {
          "base_uri": "https://localhost:8080/"
        },
        "id": "kGTRO4v9Z-Bo",
        "outputId": "c059fcc8-68ab-4149-e5d4-42ff36d2c81e"
      },
      "execution_count": null,
      "outputs": [
        {
          "output_type": "execute_result",
          "data": {
            "text/plain": [
              "array([ 3, 14, 15], dtype=int32)"
            ]
          },
          "metadata": {},
          "execution_count": 76
        }
      ]
    },
    {
      "cell_type": "code",
      "source": [
        "Ytrain[3576]\n"
      ],
      "metadata": {
        "colab": {
          "base_uri": "https://localhost:8080/"
        },
        "id": "vtd9S1F9Z_G5",
        "outputId": "043a0af2-5f33-4d84-f346-f916796930f9"
      },
      "execution_count": null,
      "outputs": [
        {
          "output_type": "execute_result",
          "data": {
            "text/plain": [
              "array([0., 0., 0., 0., 0., 0., 0., 0., 0., 0., 0., 0., 0., 0., 0., 0., 0.,\n",
              "       0., 0., 0., 0., 0., 1., 0., 0.], dtype=float32)"
            ]
          },
          "metadata": {},
          "execution_count": 77
        }
      ]
    },
    {
      "cell_type": "code",
      "source": [
        "\n",
        "from tensorflow.keras.models import Sequential, Model\n",
        "from tensorflow.keras.layers import Embedding\n",
        "from tensorflow.keras.layers import Permute, dot, add, concatenate\n",
        "from tensorflow.keras.layers import LSTM, Dense, Dropout, Input, Activation"
      ],
      "metadata": {
        "id": "XlP86oiiaAQR"
      },
      "execution_count": null,
      "outputs": []
    },
    {
      "cell_type": "code",
      "source": [
        "\n",
        "# 에포크 횟수\n",
        "train_epochs = 120\n",
        "# 배치 크기\n",
        "batch_size = 32\n",
        "# 임베딩 크기\n",
        "embed_size = 50\n",
        "# LSTM의 크기\n",
        "lstm_size = 64\n",
        "# 과적합 방지 기법인 드롭아웃 적용 비율\n",
        "dropout_rate = 0.30"
      ],
      "metadata": {
        "id": "ds1lxv5Bal8Y"
      },
      "execution_count": null,
      "outputs": []
    },
    {
      "cell_type": "code",
      "source": [
        "\n",
        "# 플레이스 홀더. 입력을 담는 변수\n",
        "input_sequence = Input((story_max_len,))\n",
        "question = Input((question_max_len,))\n",
        "\n",
        "print('Stories :', input_sequence)\n",
        "print('Question:', question)"
      ],
      "metadata": {
        "colab": {
          "base_uri": "https://localhost:8080/"
        },
        "id": "PcNwgaAFamxA",
        "outputId": "fd7f8293-f9c8-4f26-9aea-866aabf92447"
      },
      "execution_count": null,
      "outputs": [
        {
          "output_type": "stream",
          "name": "stdout",
          "text": [
            "Stories : KerasTensor(type_spec=TensorSpec(shape=(None, 40), dtype=tf.float32, name='input_1'), name='input_1', description=\"created by layer 'input_1'\")\n",
            "Question: KerasTensor(type_spec=TensorSpec(shape=(None, 3), dtype=tf.float32, name='input_2'), name='input_2', description=\"created by layer 'input_2'\")\n"
          ]
        }
      ]
    },
    {
      "cell_type": "code",
      "source": [
        "\n",
        "# 스토리를 위한 첫번째 임베딩. 그림에서의 Embedding A\n",
        "input_encoder_m = Sequential()\n",
        "input_encoder_m.add(Embedding(input_dim=vocab_size,\n",
        "                              output_dim=embed_size))\n",
        "input_encoder_m.add(Dropout(dropout_rate))\n",
        "# 결과 : (samples, story_max_len, embedding_dim) / 샘플의 수, 문장의 최대 길이, 임베딩 벡터의 차원\n",
        "\n",
        "# 스토리를 위한 두번째 임베딩. 그림에서의 Embedding C\n",
        "# 임베딩 벡터의 차원을 question_max_len(질문의 최대 길이)로 한다.\n",
        "input_encoder_c = Sequential()\n",
        "input_encoder_c.add(Embedding(input_dim=vocab_size,\n",
        "                              output_dim=question_max_len))\n",
        "input_encoder_c.add(Dropout(dropout_rate))\n",
        "# 결과 : (samples, story_max_len, question_max_len) / 샘플의 수, 문장의 최대 길이, 질문의 최대 길이(임베딩 벡터의 차원)"
      ],
      "metadata": {
        "id": "zdpXIE39an3H"
      },
      "execution_count": null,
      "outputs": []
    },
    {
      "cell_type": "code",
      "source": [
        "\n",
        "# 질문을 위한 임베딩. 그림에서의 Embedding B\n",
        "question_encoder = Sequential()\n",
        "question_encoder.add(Embedding(input_dim=vocab_size,\n",
        "                               output_dim=embed_size,\n",
        "                               input_length=question_max_len))\n",
        "question_encoder.add(Dropout(dropout_rate))\n",
        "# 결과 : (samples, question_max_len, embedding_dim) / 샘플의 수, 질문의 최대 길이, 임베딩 벡터의 차원"
      ],
      "metadata": {
        "id": "iDZqB8cFapHA"
      },
      "execution_count": null,
      "outputs": []
    },
    {
      "cell_type": "code",
      "source": [
        "\n",
        "# 실질적인 임베딩 과정\n",
        "input_encoded_m = input_encoder_m(input_sequence)\n",
        "input_encoded_c = input_encoder_c(input_sequence)\n",
        "question_encoded = question_encoder(question)\n",
        "\n",
        "print('Input encoded m', input_encoded_m)\n",
        "print('Input encoded c', input_encoded_c)\n",
        "print('Question encoded', question_encoded)"
      ],
      "metadata": {
        "colab": {
          "base_uri": "https://localhost:8080/"
        },
        "id": "DaQhzC38aqLR",
        "outputId": "21133f6d-e010-4b2c-cd22-13af96d917d0"
      },
      "execution_count": null,
      "outputs": [
        {
          "output_type": "stream",
          "name": "stdout",
          "text": [
            "Input encoded m KerasTensor(type_spec=TensorSpec(shape=(None, 40, 50), dtype=tf.float32, name=None), name='sequential/dropout/Identity:0', description=\"created by layer 'sequential'\")\n",
            "Input encoded c KerasTensor(type_spec=TensorSpec(shape=(None, 40, 3), dtype=tf.float32, name=None), name='sequential_1/dropout_1/Identity:0', description=\"created by layer 'sequential_1'\")\n",
            "Question encoded KerasTensor(type_spec=TensorSpec(shape=(None, 3, 50), dtype=tf.float32, name=None), name='sequential_2/dropout_2/Identity:0', description=\"created by layer 'sequential_2'\")\n"
          ]
        }
      ]
    },
    {
      "cell_type": "code",
      "source": [
        "\n",
        "# 스토리 단어들과 질문 단어들 간의 유사도를 구하는 과정\n",
        "# 유사도는 내적을 사용한다.\n",
        "match = dot([input_encoded_m, question_encoded], axes=-1, normalize=False)\n",
        "match = Activation('softmax')(match)\n",
        "print('Match shape', match)\n",
        "# 결과 : (samples, story_maxlen, question_max_len) / 샘플의 수, 문장의 최대 길이, 질문의 최대 길이"
      ],
      "metadata": {
        "colab": {
          "base_uri": "https://localhost:8080/"
        },
        "id": "WGp6rfnSarMA",
        "outputId": "edace756-b158-4fb5-b60a-7dc1d8485dd6"
      },
      "execution_count": null,
      "outputs": [
        {
          "output_type": "stream",
          "name": "stdout",
          "text": [
            "Match shape KerasTensor(type_spec=TensorSpec(shape=(None, 40, 3), dtype=tf.float32, name=None), name='activation/Softmax:0', description=\"created by layer 'activation'\")\n"
          ]
        }
      ]
    },
    {
      "cell_type": "code",
      "source": [
        "# 유사도가 반영된 어텐션 분포 행렬과 임베딩 C를 거친 스토리 행렬을 더한다.\n",
        "# 두 행렬 모두 크기는 (68, 4)이다.\n",
        "# 이로부터 얻은 행렬은 어텐션 값 행렬(Attention Value Matrix)이다.\n",
        "response = add([match, input_encoded_c])"
      ],
      "metadata": {
        "id": "QBN_VxEqau1o"
      },
      "execution_count": null,
      "outputs": []
    },
    {
      "cell_type": "code",
      "source": [
        "# 질문 행렬은 (4, 50)의 크기를 가진다.\n",
        "# 하지만 어텐션 값 행렬의 크기는 (68, 4)이다.\n",
        "# 이 두 개를 연결시켜주기 위해서 어텐션 값 행렬의 크기를 (4, 68)로 변환해준다.\n",
        "response = Permute((2, 1))(response)  # (samples, question_max_len, story_max_len)\n",
        "print('Response shape', response)\n",
        "\n",
        "# 질문 행렬과 어텐션 값 행렬을 연결한다.\n",
        "# (4, 118)의 크기를 가진다.\n",
        "answer = concatenate([response, question_encoded])\n",
        "print('Answer shape', answer)\n",
        "     "
      ],
      "metadata": {
        "colab": {
          "base_uri": "https://localhost:8080/"
        },
        "id": "r4B_T5vWav1Y",
        "outputId": "3c0fae78-f984-42b3-bd11-253ab4d24878"
      },
      "execution_count": null,
      "outputs": [
        {
          "output_type": "stream",
          "name": "stdout",
          "text": [
            "Response shape KerasTensor(type_spec=TensorSpec(shape=(None, 3, 40), dtype=tf.float32, name=None), name='permute/transpose:0', description=\"created by layer 'permute'\")\n",
            "Answer shape KerasTensor(type_spec=TensorSpec(shape=(None, 3, 90), dtype=tf.float32, name=None), name='concatenate/concat:0', description=\"created by layer 'concatenate'\")\n"
          ]
        }
      ]
    },
    {
      "cell_type": "code",
      "source": [
        "\n",
        "answer = LSTM(lstm_size)(answer)\n",
        "answer = Dropout(dropout_rate)(answer)\n",
        "answer = Dense(vocab_size)(answer)\n",
        "answer = Activation('softmax')(answer)"
      ],
      "metadata": {
        "id": "fR8SCBsjawwQ"
      },
      "execution_count": null,
      "outputs": []
    },
    {
      "cell_type": "code",
      "source": [
        "\n",
        "# build the final model\n",
        "model = Model([input_sequence, question], answer)\n",
        "model.compile(optimizer='rmsprop', loss='categorical_crossentropy',\n",
        "              metrics=['acc'])\n",
        "\n",
        "print(model.summary())\n",
        "\n",
        "# start training the model\n",
        "history = model.fit([Xstrain, Xqtrain],\n",
        "         Ytrain, batch_size, train_epochs,\n",
        "         validation_data=([Xstest, Xqtest], Ytest))\n",
        "\n",
        "# save model\n",
        "model.save('model.h5')"
      ],
      "metadata": {
        "colab": {
          "base_uri": "https://localhost:8080/"
        },
        "id": "DspwH9t4axng",
        "outputId": "9df1dbc4-8ac2-4aca-d471-b6581e33b00c"
      },
      "execution_count": null,
      "outputs": [
        {
          "output_type": "stream",
          "name": "stdout",
          "text": [
            "Model: \"model\"\n",
            "__________________________________________________________________________________________________\n",
            " Layer (type)                   Output Shape         Param #     Connected to                     \n",
            "==================================================================================================\n",
            " input_1 (InputLayer)           [(None, 40)]         0           []                               \n",
            "                                                                                                  \n",
            " input_2 (InputLayer)           [(None, 3)]          0           []                               \n",
            "                                                                                                  \n",
            " sequential (Sequential)        (None, None, 50)     1250        ['input_1[0][0]']                \n",
            "                                                                                                  \n",
            " sequential_2 (Sequential)      (None, 3, 50)        1250        ['input_2[0][0]']                \n",
            "                                                                                                  \n",
            " dot (Dot)                      (None, 40, 3)        0           ['sequential[0][0]',             \n",
            "                                                                  'sequential_2[0][0]']           \n",
            "                                                                                                  \n",
            " activation (Activation)        (None, 40, 3)        0           ['dot[0][0]']                    \n",
            "                                                                                                  \n",
            " sequential_1 (Sequential)      (None, None, 3)      75          ['input_1[0][0]']                \n",
            "                                                                                                  \n",
            " add (Add)                      (None, 40, 3)        0           ['activation[0][0]',             \n",
            "                                                                  'sequential_1[0][0]']           \n",
            "                                                                                                  \n",
            " permute (Permute)              (None, 3, 40)        0           ['add[0][0]']                    \n",
            "                                                                                                  \n",
            " concatenate (Concatenate)      (None, 3, 90)        0           ['permute[0][0]',                \n",
            "                                                                  'sequential_2[0][0]']           \n",
            "                                                                                                  \n",
            " lstm (LSTM)                    (None, 64)           39680       ['concatenate[0][0]']            \n",
            "                                                                                                  \n",
            " dropout_3 (Dropout)            (None, 64)           0           ['lstm[0][0]']                   \n",
            "                                                                                                  \n",
            " dense (Dense)                  (None, 25)           1625        ['dropout_3[0][0]']              \n",
            "                                                                                                  \n",
            " activation_1 (Activation)      (None, 25)           0           ['dense[0][0]']                  \n",
            "                                                                                                  \n",
            "==================================================================================================\n",
            "Total params: 43,880\n",
            "Trainable params: 43,880\n",
            "Non-trainable params: 0\n",
            "__________________________________________________________________________________________________\n",
            "None\n",
            "Epoch 1/120\n",
            "313/313 [==============================] - 15s 18ms/step - loss: 1.9024 - acc: 0.1685 - val_loss: 1.7768 - val_acc: 0.2400\n",
            "Epoch 2/120\n",
            "313/313 [==============================] - 3s 11ms/step - loss: 1.7017 - acc: 0.2535 - val_loss: 1.5987 - val_acc: 0.3750\n",
            "Epoch 3/120\n",
            "313/313 [==============================] - 4s 13ms/step - loss: 1.5515 - acc: 0.3629 - val_loss: 1.5095 - val_acc: 0.3690\n",
            "Epoch 4/120\n",
            "313/313 [==============================] - 3s 9ms/step - loss: 1.5049 - acc: 0.3792 - val_loss: 1.4792 - val_acc: 0.3940\n",
            "Epoch 5/120\n",
            "313/313 [==============================] - 3s 9ms/step - loss: 1.4885 - acc: 0.3962 - val_loss: 1.4889 - val_acc: 0.3850\n",
            "Epoch 6/120\n",
            "313/313 [==============================] - 2s 6ms/step - loss: 1.4817 - acc: 0.4074 - val_loss: 1.4510 - val_acc: 0.4200\n",
            "Epoch 7/120\n",
            "313/313 [==============================] - 2s 7ms/step - loss: 1.4559 - acc: 0.4254 - val_loss: 1.4076 - val_acc: 0.4540\n",
            "Epoch 8/120\n",
            "313/313 [==============================] - 2s 6ms/step - loss: 1.4006 - acc: 0.4635 - val_loss: 1.3355 - val_acc: 0.5030\n",
            "Epoch 9/120\n",
            "313/313 [==============================] - 2s 6ms/step - loss: 1.3626 - acc: 0.4761 - val_loss: 1.2966 - val_acc: 0.5090\n",
            "Epoch 10/120\n",
            "313/313 [==============================] - 2s 6ms/step - loss: 1.3266 - acc: 0.4912 - val_loss: 1.2808 - val_acc: 0.5090\n",
            "Epoch 11/120\n",
            "313/313 [==============================] - 3s 9ms/step - loss: 1.3069 - acc: 0.4980 - val_loss: 1.2743 - val_acc: 0.4960\n",
            "Epoch 12/120\n",
            "313/313 [==============================] - 2s 7ms/step - loss: 1.2910 - acc: 0.4982 - val_loss: 1.2582 - val_acc: 0.5130\n",
            "Epoch 13/120\n",
            "313/313 [==============================] - 2s 7ms/step - loss: 1.2799 - acc: 0.5023 - val_loss: 1.2302 - val_acc: 0.5260\n",
            "Epoch 14/120\n",
            "313/313 [==============================] - 2s 7ms/step - loss: 1.2632 - acc: 0.5059 - val_loss: 1.2445 - val_acc: 0.5050\n",
            "Epoch 15/120\n",
            "313/313 [==============================] - 2s 7ms/step - loss: 1.2588 - acc: 0.5089 - val_loss: 1.2213 - val_acc: 0.5200\n",
            "Epoch 16/120\n",
            "313/313 [==============================] - 2s 6ms/step - loss: 1.2436 - acc: 0.5156 - val_loss: 1.2046 - val_acc: 0.5230\n",
            "Epoch 17/120\n",
            "313/313 [==============================] - 3s 9ms/step - loss: 1.2340 - acc: 0.5150 - val_loss: 1.2048 - val_acc: 0.5270\n",
            "Epoch 18/120\n",
            "313/313 [==============================] - 2s 8ms/step - loss: 1.2367 - acc: 0.5124 - val_loss: 1.2121 - val_acc: 0.5090\n",
            "Epoch 19/120\n",
            "313/313 [==============================] - 2s 7ms/step - loss: 1.2171 - acc: 0.5142 - val_loss: 1.2042 - val_acc: 0.5080\n",
            "Epoch 20/120\n",
            "313/313 [==============================] - 2s 6ms/step - loss: 1.2104 - acc: 0.5168 - val_loss: 1.1923 - val_acc: 0.5160\n",
            "Epoch 21/120\n",
            "313/313 [==============================] - 2s 7ms/step - loss: 1.1989 - acc: 0.5224 - val_loss: 1.1893 - val_acc: 0.5320\n",
            "Epoch 22/120\n",
            "313/313 [==============================] - 2s 7ms/step - loss: 1.1944 - acc: 0.5267 - val_loss: 1.1776 - val_acc: 0.5450\n",
            "Epoch 23/120\n",
            "313/313 [==============================] - 3s 9ms/step - loss: 1.1753 - acc: 0.5340 - val_loss: 1.1675 - val_acc: 0.5470\n",
            "Epoch 24/120\n",
            "313/313 [==============================] - 3s 8ms/step - loss: 1.1448 - acc: 0.5610 - val_loss: 1.1070 - val_acc: 0.5920\n",
            "Epoch 25/120\n",
            "313/313 [==============================] - 2s 7ms/step - loss: 1.0920 - acc: 0.5922 - val_loss: 1.0290 - val_acc: 0.6530\n",
            "Epoch 26/120\n",
            "313/313 [==============================] - 2s 6ms/step - loss: 1.0043 - acc: 0.6361 - val_loss: 0.9226 - val_acc: 0.6910\n",
            "Epoch 27/120\n",
            "313/313 [==============================] - 2s 6ms/step - loss: 0.9217 - acc: 0.6769 - val_loss: 0.8352 - val_acc: 0.7260\n",
            "Epoch 28/120\n",
            "313/313 [==============================] - 2s 6ms/step - loss: 0.8400 - acc: 0.7083 - val_loss: 0.7719 - val_acc: 0.7380\n",
            "Epoch 29/120\n",
            "313/313 [==============================] - 2s 8ms/step - loss: 0.7716 - acc: 0.7312 - val_loss: 0.7467 - val_acc: 0.7400\n",
            "Epoch 30/120\n",
            "313/313 [==============================] - 3s 9ms/step - loss: 0.7254 - acc: 0.7506 - val_loss: 0.6744 - val_acc: 0.7620\n",
            "Epoch 31/120\n",
            "313/313 [==============================] - 2s 6ms/step - loss: 0.6731 - acc: 0.7614 - val_loss: 0.6533 - val_acc: 0.7710\n",
            "Epoch 32/120\n",
            "313/313 [==============================] - 2s 6ms/step - loss: 0.6295 - acc: 0.7788 - val_loss: 0.6082 - val_acc: 0.7810\n",
            "Epoch 33/120\n",
            "313/313 [==============================] - 2s 6ms/step - loss: 0.5817 - acc: 0.7949 - val_loss: 0.5895 - val_acc: 0.7840\n",
            "Epoch 34/120\n",
            "313/313 [==============================] - 2s 7ms/step - loss: 0.5470 - acc: 0.8067 - val_loss: 0.5747 - val_acc: 0.7870\n",
            "Epoch 35/120\n",
            "313/313 [==============================] - 2s 8ms/step - loss: 0.5191 - acc: 0.8148 - val_loss: 0.5306 - val_acc: 0.8120\n",
            "Epoch 36/120\n",
            "313/313 [==============================] - 3s 9ms/step - loss: 0.4817 - acc: 0.8271 - val_loss: 0.5009 - val_acc: 0.8250\n",
            "Epoch 37/120\n",
            "313/313 [==============================] - 2s 7ms/step - loss: 0.4535 - acc: 0.8390 - val_loss: 0.4867 - val_acc: 0.8340\n",
            "Epoch 38/120\n",
            "313/313 [==============================] - 2s 6ms/step - loss: 0.4273 - acc: 0.8436 - val_loss: 0.4677 - val_acc: 0.8350\n",
            "Epoch 39/120\n",
            "313/313 [==============================] - 2s 7ms/step - loss: 0.4069 - acc: 0.8565 - val_loss: 0.4395 - val_acc: 0.8350\n",
            "Epoch 40/120\n",
            "313/313 [==============================] - 2s 7ms/step - loss: 0.3941 - acc: 0.8545 - val_loss: 0.4294 - val_acc: 0.8490\n",
            "Epoch 41/120\n",
            "313/313 [==============================] - 2s 7ms/step - loss: 0.3725 - acc: 0.8616 - val_loss: 0.4379 - val_acc: 0.8460\n",
            "Epoch 42/120\n",
            "313/313 [==============================] - 3s 9ms/step - loss: 0.3617 - acc: 0.8681 - val_loss: 0.3936 - val_acc: 0.8570\n",
            "Epoch 43/120\n",
            "313/313 [==============================] - 2s 7ms/step - loss: 0.3534 - acc: 0.8657 - val_loss: 0.4099 - val_acc: 0.8460\n",
            "Epoch 44/120\n",
            "313/313 [==============================] - 2s 7ms/step - loss: 0.3431 - acc: 0.8726 - val_loss: 0.3896 - val_acc: 0.8600\n",
            "Epoch 45/120\n",
            "313/313 [==============================] - 2s 7ms/step - loss: 0.3329 - acc: 0.8741 - val_loss: 0.3892 - val_acc: 0.8580\n",
            "Epoch 46/120\n",
            "313/313 [==============================] - 2s 6ms/step - loss: 0.3235 - acc: 0.8802 - val_loss: 0.3743 - val_acc: 0.8670\n",
            "Epoch 47/120\n",
            "313/313 [==============================] - 3s 9ms/step - loss: 0.3230 - acc: 0.8810 - val_loss: 0.3653 - val_acc: 0.8630\n",
            "Epoch 48/120\n",
            "313/313 [==============================] - 3s 11ms/step - loss: 0.3111 - acc: 0.8838 - val_loss: 0.3801 - val_acc: 0.8620\n",
            "Epoch 49/120\n",
            "313/313 [==============================] - 2s 7ms/step - loss: 0.3048 - acc: 0.8840 - val_loss: 0.3695 - val_acc: 0.8690\n",
            "Epoch 50/120\n",
            "313/313 [==============================] - 2s 7ms/step - loss: 0.2984 - acc: 0.8892 - val_loss: 0.3558 - val_acc: 0.8700\n",
            "Epoch 51/120\n",
            "313/313 [==============================] - 2s 7ms/step - loss: 0.2925 - acc: 0.8921 - val_loss: 0.3599 - val_acc: 0.8690\n",
            "Epoch 52/120\n",
            "313/313 [==============================] - 2s 6ms/step - loss: 0.2903 - acc: 0.8909 - val_loss: 0.3600 - val_acc: 0.8690\n",
            "Epoch 53/120\n",
            "313/313 [==============================] - 2s 8ms/step - loss: 0.2799 - acc: 0.8964 - val_loss: 0.3478 - val_acc: 0.8750\n",
            "Epoch 54/120\n",
            "313/313 [==============================] - 3s 9ms/step - loss: 0.2683 - acc: 0.9020 - val_loss: 0.3528 - val_acc: 0.8720\n",
            "Epoch 55/120\n",
            "313/313 [==============================] - 2s 6ms/step - loss: 0.2638 - acc: 0.9025 - val_loss: 0.3521 - val_acc: 0.8820\n",
            "Epoch 56/120\n",
            "313/313 [==============================] - 2s 6ms/step - loss: 0.2529 - acc: 0.9083 - val_loss: 0.3427 - val_acc: 0.8830\n",
            "Epoch 57/120\n",
            "313/313 [==============================] - 2s 6ms/step - loss: 0.2496 - acc: 0.9084 - val_loss: 0.3377 - val_acc: 0.8840\n",
            "Epoch 58/120\n",
            "313/313 [==============================] - 2s 7ms/step - loss: 0.2418 - acc: 0.9114 - val_loss: 0.3222 - val_acc: 0.8920\n",
            "Epoch 59/120\n",
            "313/313 [==============================] - 2s 7ms/step - loss: 0.2334 - acc: 0.9150 - val_loss: 0.3269 - val_acc: 0.8880\n",
            "Epoch 60/120\n",
            "313/313 [==============================] - 3s 10ms/step - loss: 0.2293 - acc: 0.9175 - val_loss: 0.3079 - val_acc: 0.8990\n",
            "Epoch 61/120\n",
            "313/313 [==============================] - 2s 7ms/step - loss: 0.2203 - acc: 0.9197 - val_loss: 0.3280 - val_acc: 0.8920\n",
            "Epoch 62/120\n",
            "313/313 [==============================] - 2s 7ms/step - loss: 0.2225 - acc: 0.9203 - val_loss: 0.3131 - val_acc: 0.8950\n",
            "Epoch 63/120\n",
            "313/313 [==============================] - 2s 6ms/step - loss: 0.2047 - acc: 0.9255 - val_loss: 0.2972 - val_acc: 0.9030\n",
            "Epoch 64/120\n",
            "313/313 [==============================] - 2s 7ms/step - loss: 0.1989 - acc: 0.9291 - val_loss: 0.3002 - val_acc: 0.9040\n",
            "Epoch 65/120\n",
            "313/313 [==============================] - 2s 7ms/step - loss: 0.1946 - acc: 0.9317 - val_loss: 0.2901 - val_acc: 0.9110\n",
            "Epoch 66/120\n",
            "313/313 [==============================] - 3s 9ms/step - loss: 0.1895 - acc: 0.9365 - val_loss: 0.2801 - val_acc: 0.9120\n",
            "Epoch 67/120\n",
            "313/313 [==============================] - 2s 7ms/step - loss: 0.1796 - acc: 0.9384 - val_loss: 0.2862 - val_acc: 0.9110\n",
            "Epoch 68/120\n",
            "313/313 [==============================] - 2s 7ms/step - loss: 0.1807 - acc: 0.9350 - val_loss: 0.2688 - val_acc: 0.9150\n",
            "Epoch 69/120\n",
            "313/313 [==============================] - 2s 7ms/step - loss: 0.1713 - acc: 0.9415 - val_loss: 0.2726 - val_acc: 0.9130\n",
            "Epoch 70/120\n",
            "313/313 [==============================] - 2s 6ms/step - loss: 0.1586 - acc: 0.9421 - val_loss: 0.2607 - val_acc: 0.9140\n",
            "Epoch 71/120\n",
            "313/313 [==============================] - 2s 6ms/step - loss: 0.1632 - acc: 0.9433 - val_loss: 0.2552 - val_acc: 0.9220\n",
            "Epoch 72/120\n",
            "313/313 [==============================] - 3s 9ms/step - loss: 0.1462 - acc: 0.9502 - val_loss: 0.2508 - val_acc: 0.9230\n",
            "Epoch 73/120\n",
            "313/313 [==============================] - 2s 8ms/step - loss: 0.1525 - acc: 0.9465 - val_loss: 0.2589 - val_acc: 0.9190\n",
            "Epoch 74/120\n",
            "313/313 [==============================] - 2s 7ms/step - loss: 0.1382 - acc: 0.9508 - val_loss: 0.2415 - val_acc: 0.9260\n",
            "Epoch 75/120\n",
            "313/313 [==============================] - 2s 7ms/step - loss: 0.1371 - acc: 0.9541 - val_loss: 0.2477 - val_acc: 0.9250\n",
            "Epoch 76/120\n",
            "313/313 [==============================] - 2s 7ms/step - loss: 0.1338 - acc: 0.9541 - val_loss: 0.2483 - val_acc: 0.9170\n",
            "Epoch 77/120\n",
            "313/313 [==============================] - 2s 7ms/step - loss: 0.1321 - acc: 0.9540 - val_loss: 0.2351 - val_acc: 0.9290\n",
            "Epoch 78/120\n",
            "313/313 [==============================] - 3s 9ms/step - loss: 0.1191 - acc: 0.9577 - val_loss: 0.2497 - val_acc: 0.9290\n",
            "Epoch 79/120\n",
            "313/313 [==============================] - 2s 8ms/step - loss: 0.1213 - acc: 0.9589 - val_loss: 0.2280 - val_acc: 0.9270\n",
            "Epoch 80/120\n",
            "313/313 [==============================] - 2s 7ms/step - loss: 0.1153 - acc: 0.9621 - val_loss: 0.2165 - val_acc: 0.9330\n",
            "Epoch 81/120\n",
            "313/313 [==============================] - 2s 7ms/step - loss: 0.1176 - acc: 0.9581 - val_loss: 0.2185 - val_acc: 0.9370\n",
            "Epoch 82/120\n",
            "313/313 [==============================] - 2s 6ms/step - loss: 0.1061 - acc: 0.9636 - val_loss: 0.2233 - val_acc: 0.9360\n",
            "Epoch 83/120\n",
            "313/313 [==============================] - 2s 7ms/step - loss: 0.1090 - acc: 0.9618 - val_loss: 0.2207 - val_acc: 0.9320\n",
            "Epoch 84/120\n",
            "313/313 [==============================] - 3s 9ms/step - loss: 0.1029 - acc: 0.9652 - val_loss: 0.2206 - val_acc: 0.9340\n",
            "Epoch 85/120\n",
            "313/313 [==============================] - 2s 8ms/step - loss: 0.1084 - acc: 0.9639 - val_loss: 0.2208 - val_acc: 0.9320\n",
            "Epoch 86/120\n",
            "313/313 [==============================] - 2s 7ms/step - loss: 0.1030 - acc: 0.9643 - val_loss: 0.2190 - val_acc: 0.9320\n",
            "Epoch 87/120\n",
            "313/313 [==============================] - 2s 7ms/step - loss: 0.0935 - acc: 0.9721 - val_loss: 0.2326 - val_acc: 0.9330\n",
            "Epoch 88/120\n",
            "313/313 [==============================] - 2s 7ms/step - loss: 0.0965 - acc: 0.9677 - val_loss: 0.2313 - val_acc: 0.9370\n",
            "Epoch 89/120\n",
            "313/313 [==============================] - 2s 7ms/step - loss: 0.0968 - acc: 0.9674 - val_loss: 0.2185 - val_acc: 0.9410\n",
            "Epoch 90/120\n",
            "313/313 [==============================] - 3s 9ms/step - loss: 0.0884 - acc: 0.9688 - val_loss: 0.2243 - val_acc: 0.9340\n",
            "Epoch 91/120\n",
            "313/313 [==============================] - 3s 8ms/step - loss: 0.0911 - acc: 0.9679 - val_loss: 0.2261 - val_acc: 0.9380\n",
            "Epoch 92/120\n",
            "313/313 [==============================] - 2s 7ms/step - loss: 0.0781 - acc: 0.9744 - val_loss: 0.2359 - val_acc: 0.9360\n",
            "Epoch 93/120\n",
            "313/313 [==============================] - 2s 7ms/step - loss: 0.0891 - acc: 0.9684 - val_loss: 0.2219 - val_acc: 0.9310\n",
            "Epoch 94/120\n",
            "313/313 [==============================] - 2s 7ms/step - loss: 0.0835 - acc: 0.9728 - val_loss: 0.2146 - val_acc: 0.9400\n",
            "Epoch 95/120\n",
            "313/313 [==============================] - 2s 7ms/step - loss: 0.0790 - acc: 0.9734 - val_loss: 0.2328 - val_acc: 0.9360\n",
            "Epoch 96/120\n",
            "313/313 [==============================] - 3s 10ms/step - loss: 0.0719 - acc: 0.9767 - val_loss: 0.2028 - val_acc: 0.9400\n",
            "Epoch 97/120\n",
            "313/313 [==============================] - 2s 8ms/step - loss: 0.0752 - acc: 0.9753 - val_loss: 0.2165 - val_acc: 0.9350\n",
            "Epoch 98/120\n",
            "313/313 [==============================] - 2s 7ms/step - loss: 0.0733 - acc: 0.9759 - val_loss: 0.2441 - val_acc: 0.9280\n",
            "Epoch 99/120\n",
            "313/313 [==============================] - 2s 7ms/step - loss: 0.0667 - acc: 0.9775 - val_loss: 0.2153 - val_acc: 0.9410\n",
            "Epoch 100/120\n",
            "313/313 [==============================] - 2s 7ms/step - loss: 0.0645 - acc: 0.9794 - val_loss: 0.2099 - val_acc: 0.9420\n",
            "Epoch 101/120\n",
            "313/313 [==============================] - 2s 7ms/step - loss: 0.0635 - acc: 0.9791 - val_loss: 0.2087 - val_acc: 0.9410\n",
            "Epoch 102/120\n",
            "313/313 [==============================] - 3s 9ms/step - loss: 0.0663 - acc: 0.9775 - val_loss: 0.2150 - val_acc: 0.9370\n",
            "Epoch 103/120\n",
            "313/313 [==============================] - 2s 8ms/step - loss: 0.0577 - acc: 0.9800 - val_loss: 0.2316 - val_acc: 0.9400\n",
            "Epoch 104/120\n",
            "313/313 [==============================] - 2s 7ms/step - loss: 0.0668 - acc: 0.9765 - val_loss: 0.2098 - val_acc: 0.9370\n",
            "Epoch 105/120\n",
            "313/313 [==============================] - 2s 7ms/step - loss: 0.0624 - acc: 0.9783 - val_loss: 0.2122 - val_acc: 0.9410\n",
            "Epoch 106/120\n",
            "313/313 [==============================] - 2s 7ms/step - loss: 0.0679 - acc: 0.9784 - val_loss: 0.2278 - val_acc: 0.9390\n",
            "Epoch 107/120\n",
            "313/313 [==============================] - 2s 7ms/step - loss: 0.0580 - acc: 0.9803 - val_loss: 0.2107 - val_acc: 0.9380\n",
            "Epoch 108/120\n",
            "313/313 [==============================] - 3s 9ms/step - loss: 0.0584 - acc: 0.9795 - val_loss: 0.2108 - val_acc: 0.9460\n",
            "Epoch 109/120\n",
            "313/313 [==============================] - 2s 8ms/step - loss: 0.0556 - acc: 0.9815 - val_loss: 0.2202 - val_acc: 0.9390\n",
            "Epoch 110/120\n",
            "313/313 [==============================] - 2s 7ms/step - loss: 0.0511 - acc: 0.9852 - val_loss: 0.1982 - val_acc: 0.9460\n",
            "Epoch 111/120\n",
            "313/313 [==============================] - 2s 7ms/step - loss: 0.0543 - acc: 0.9819 - val_loss: 0.2377 - val_acc: 0.9420\n",
            "Epoch 112/120\n",
            "313/313 [==============================] - 2s 7ms/step - loss: 0.0551 - acc: 0.9816 - val_loss: 0.2183 - val_acc: 0.9420\n",
            "Epoch 113/120\n",
            "313/313 [==============================] - 2s 7ms/step - loss: 0.0519 - acc: 0.9828 - val_loss: 0.2061 - val_acc: 0.9540\n",
            "Epoch 114/120\n",
            "313/313 [==============================] - 3s 9ms/step - loss: 0.0478 - acc: 0.9835 - val_loss: 0.2137 - val_acc: 0.9490\n",
            "Epoch 115/120\n",
            "313/313 [==============================] - 2s 8ms/step - loss: 0.0493 - acc: 0.9844 - val_loss: 0.2159 - val_acc: 0.9420\n",
            "Epoch 116/120\n",
            "313/313 [==============================] - 2s 7ms/step - loss: 0.0477 - acc: 0.9859 - val_loss: 0.1998 - val_acc: 0.9460\n",
            "Epoch 117/120\n",
            "313/313 [==============================] - 2s 7ms/step - loss: 0.0510 - acc: 0.9837 - val_loss: 0.2070 - val_acc: 0.9430\n",
            "Epoch 118/120\n",
            "313/313 [==============================] - 2s 7ms/step - loss: 0.0473 - acc: 0.9847 - val_loss: 0.2125 - val_acc: 0.9490\n",
            "Epoch 119/120\n",
            "313/313 [==============================] - 2s 7ms/step - loss: 0.0446 - acc: 0.9864 - val_loss: 0.2019 - val_acc: 0.9480\n",
            "Epoch 120/120\n",
            "313/313 [==============================] - 3s 9ms/step - loss: 0.0423 - acc: 0.9855 - val_loss: 0.2049 - val_acc: 0.9460\n"
          ]
        }
      ]
    },
    {
      "cell_type": "code",
      "source": [
        "print(\"\\n 테스트 정확도: %.4f\" % (model.evaluate([Xstest, Xqtest], Ytest)[1]))\n"
      ],
      "metadata": {
        "colab": {
          "base_uri": "https://localhost:8080/"
        },
        "id": "S-6Rep5layoH",
        "outputId": "640d95c0-64e8-46fd-fae4-36d0d5682c14"
      },
      "execution_count": null,
      "outputs": [
        {
          "output_type": "stream",
          "name": "stdout",
          "text": [
            "32/32 [==============================] - 0s 5ms/step - loss: 0.2049 - acc: 0.9460\n",
            "\n",
            " 테스트 정확도: 0.9460\n"
          ]
        }
      ]
    },
    {
      "cell_type": "code",
      "source": [
        "\n",
        "# plot accuracy and loss plot\n",
        "plt.subplot(211)\n",
        "plt.title(\"Accuracy\")\n",
        "plt.plot(history.history[\"acc\"], color=\"g\", label=\"train\")\n",
        "plt.plot(history.history[\"val_acc\"], color=\"b\", label=\"validation\")\n",
        "plt.legend(loc=\"best\")\n",
        "\n",
        "plt.subplot(212)\n",
        "plt.title(\"Loss\")\n",
        "plt.plot(history.history[\"loss\"], color=\"g\", label=\"train\")\n",
        "plt.plot(history.history[\"val_loss\"], color=\"b\", label=\"validation\")\n",
        "plt.legend(loc=\"best\")\n",
        "\n",
        "plt.tight_layout()\n",
        "plt.show()\n",
        "\n",
        "# labels\n",
        "ytest = np.argmax(Ytest, axis=1)\n",
        "\n",
        "# get predictions\n",
        "Ytest_ = model.predict([Xstest, Xqtest])\n",
        "ytest_ = np.argmax(Ytest_, axis=1)"
      ],
      "metadata": {
        "colab": {
          "base_uri": "https://localhost:8080/",
          "height": 316
        },
        "id": "rmu16TVGa0jA",
        "outputId": "14aa7b2b-1c7d-4811-fe96-f5474071f198"
      },
      "execution_count": null,
      "outputs": [
        {
          "output_type": "display_data",
          "data": {
            "text/plain": [
              "<Figure size 432x288 with 2 Axes>"
            ],
            "image/png": "[encoded data removed]"
          },
          "metadata": {
            "needs_background": "light"
          }
        },
        {
          "output_type": "stream",
          "name": "stdout",
          "text": [
            "32/32 [==============================] - 1s 3ms/step\n"
          ]
        }
      ]
    },
    {
      "cell_type": "code",
      "source": [],
      "metadata": {
        "id": "okbC9-3pa1lA"
      },
      "execution_count": null,
      "outputs": []
    }
  ]
}