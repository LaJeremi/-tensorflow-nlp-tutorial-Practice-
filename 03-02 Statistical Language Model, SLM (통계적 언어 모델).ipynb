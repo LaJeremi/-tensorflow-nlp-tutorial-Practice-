{
 "cells": [
  {
   "cell_type": "markdown",
   "id": "1e578c9a",
   "metadata": {},
   "source": [
    "# 03-02 Statistical Language Model, \n",
    "\n",
    "# SLM (통계적 언어 모델)\n",
    "\n",
    "출처: https://wikidocs.net/21687\n",
    "\n",
    "실제 그림 수식은 출처 참고. \n",
    "\n",
    "언어 모델의 전통적인 접근 방법인 통계적 언어 모델\n",
    "\n",
    "통계적 언어 모델(Statistical Language Model)은 줄여서 SLM\n",
    "\n",
    "\n",
    "### 1. 조건부 확률\n",
    "\n",
    "- 조건부 확률에 대한 정의를 통해 문장의 확률을 구해보겠습니다.\n",
    "\n",
    "\n",
    "\n",
    "### 2. 문장에 대한 확률\n",
    "\n",
    "- 문장 'An adorable little boy is spreading smiles'의 확률 \n",
    "\n",
    "- 문장의 확률을 구하고자 조건부 확률을 사용\n",
    "\n",
    "-  문장의 확률 관점에서 다시 적어보면 문장의 확률은 각 단어들이 이전 단어가 주어졌을 때 다음 단어로 등장할 확률의 곱으로 구성\n",
    "\n",
    "\n",
    "\n",
    "### 3. 카운트 기반의 접근\n",
    "\n",
    "- 문장의 확률을 구하기 위해서 다음 단어에 대한 예측 확률을 모두 곱한다는 것은 알았습니다. 그렇다면 SLM은 이전 단어로부터 다음 단어에 대한 확률은 어떻게 구할까요? 정답은 카운트에 기반하여 확률을 계산합니다.\n",
    "\n",
    "### 4. 카운트 기반 접근의 한계 - 희소 문제(Sparsity Problem)\n",
    "\n",
    "- 언어 모델은 실생활에서 사용되는 언어의 확률 분포를 근사 모델링 합니다. 실제로 정확하게 알아볼 방법은 없겠지만 현실에서도 An adorable little boy가 나왔을 때 is가 나올 확률이라는 것이 존재합니다. 이를 실제 자연어의 확률 분포, 현실에서의 확률 분포라고 명칭합시다. 기계에게 많은 코퍼스를 훈련시켜서 언어 모델을 통해 현실에서의 확률 분포를 근사하는 것이 언어 모델의 목표입니다. 그런데 카운트 기반으로 접근하려고 한다면 갖고있는 코퍼스(corpus). 즉, 다시 말해 기계가 훈련하는 데이터는 정말 방대한 양이 필요합니다.\n",
    "\n",
    "- 기계가 훈련한 코퍼스에 An adorable little boy is라는 단어 시퀀스가 없었다면 이 단어 시퀀스에 대한 확률은 0이 됩니다. 또는 An adorable little boy라는 단어 시퀀스가 없었다면 분모가 0이 되어 확률은 정의되지 않습니다. 그렇다면 코퍼스에 단어 시퀀스가 없다고 해서 이 확률을 0 또는 정의되지 않는 확률이라고 하는 것이 정확한 모델링 방법일까요? 아닙니다. 현실에선 An adorable little boy is 라는 단어 시퀀스가 존재하고 또 문법에도 적합하므로 정답일 가능성 또한 높습니다. 이와 같이 충분한 데이터를 관측하지 못하여 언어를 정확히 모델링하지 못하는 문제를 희소 문제(sparsity problem)라고 합니다.\n",
    "\n",
    "- 희소 문제 - 실제는 있을 수 있고 사용하지만, 학습한 데이터에 없으므로 확률이 0 or 정의되지 않음. \n",
    "\n",
    "- 여러 해결책이 나왔으나 근본적인 해결책은 못 됨. (n-gram 언어 모델 or 이 책에서 다루지는 않지만 스무딩이나 백오프와 같은 여러가지 일반화(generalization) 기법이 존재)\n",
    "\n",
    "- 이러한 한계로 인해서 언어 모델의 트렌드는 통계에서 결국 인공 신경망 언어 모델로 넘어가게 됨."
   ]
  },
  {
   "cell_type": "code",
   "execution_count": null,
   "id": "b86162fa",
   "metadata": {},
   "outputs": [],
   "source": []
  }
 ],
 "metadata": {
  "kernelspec": {
   "display_name": "Python 3 (ipykernel)",
   "language": "python",
   "name": "python3"
  },
  "language_info": {
   "codemirror_mode": {
    "name": "ipython",
    "version": 3
   },
   "file_extension": ".py",
   "mimetype": "text/x-python",
   "name": "python",
   "nbconvert_exporter": "python",
   "pygments_lexer": "ipython3",
   "version": "3.8.16"
  }
 },
 "nbformat": 4,
 "nbformat_minor": 5
}
