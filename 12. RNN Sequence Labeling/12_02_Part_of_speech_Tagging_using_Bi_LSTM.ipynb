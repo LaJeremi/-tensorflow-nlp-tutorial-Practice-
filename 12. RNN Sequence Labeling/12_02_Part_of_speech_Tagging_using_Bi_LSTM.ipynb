{
  "nbformat": 4,
  "nbformat_minor": 0,
  "metadata": {
    "colab": {
      "provenance": [],
      "authorship_tag": "ABX9TyPfAjEdTCoyXfTtHuEVCY3s",
      "include_colab_link": true
    },
    "kernelspec": {
      "name": "python3",
      "display_name": "Python 3"
    },
    "language_info": {
      "name": "python"
    }
  },
  "cells": [
    {
      "cell_type": "markdown",
      "metadata": {
        "id": "view-in-github",
        "colab_type": "text"
      },
      "source": [
        "<a href=\"https://colab.research.google.com/github/LaJeremi/Tensorflow-nlp-tutorial-Practice-/blob/main/12.%20RNN%20Sequence%20Labeling/12_02_Part_of_speech_Tagging_using_Bi_LSTM.ipynb\" target=\"_parent\"><img src=\"https://colab.research.google.com/assets/colab-badge.svg\" alt=\"Open In Colab\"/></a>"
      ]
    },
    {
      "cell_type": "markdown",
      "source": [
        "# 12_02 Part-of-speech Tagging using Bi-LSTM- 양방향 LSTM를 이용한 품사 태깅\n",
        "\n",
        "출처: https://wikidocs.net/33532\n",
        "\n",
        "품사 태깅에 대해서는 이미 텍스트 전처리 챕터에서 토큰화와 함께 언급한 바 있습니다. 그 당시에는 NLTK와 KoNLPy를 이용해서 품사 태깅을 수행하였지만, 여기서는 직접 양방향 LSTM을 이용한 품사 태깅을 수행하는 모델\n",
        "\n",
        "## 1. 품사 태깅 데이터에 대한 이해와 전처리\n"
      ],
      "metadata": {
        "id": "uB8wVs0SC3Qx"
      }
    },
    {
      "cell_type": "code",
      "execution_count": null,
      "metadata": {
        "colab": {
          "base_uri": "https://localhost:8080/",
          "height": 36
        },
        "id": "Aig2Yg6JtCal",
        "outputId": "ea745672-e46c-45bf-d371-2eca96714044"
      },
      "outputs": [
        {
          "output_type": "execute_result",
          "data": {
            "text/plain": [
              "'2.11.0'"
            ],
            "application/vnd.google.colaboratory.intrinsic+json": {
              "type": "string"
            }
          },
          "metadata": {},
          "execution_count": 1
        }
      ],
      "source": [
        "import tensorflow as tf\n",
        "tf.__version__"
      ]
    },
    {
      "cell_type": "code",
      "source": [
        "\n",
        "import nltk\n",
        "import numpy as np\n",
        "import matplotlib.pyplot as plt\n",
        "from tensorflow.keras.preprocessing.text import Tokenizer\n",
        "from tensorflow.keras.preprocessing.sequence import pad_sequences\n",
        "from tensorflow.keras.utils import to_categorical\n",
        "from sklearn.model_selection import train_test_split\n",
        "     "
      ],
      "metadata": {
        "id": "psYf3HKptyiB"
      },
      "execution_count": null,
      "outputs": []
    },
    {
      "cell_type": "code",
      "source": [
        "nltk.download('treebank')\n"
      ],
      "metadata": {
        "colab": {
          "base_uri": "https://localhost:8080/"
        },
        "id": "sBuT0PJzuX1l",
        "outputId": "0e60141c-b686-40b6-91ed-aaf4aadb04c8"
      },
      "execution_count": null,
      "outputs": [
        {
          "output_type": "stream",
          "name": "stderr",
          "text": [
            "[nltk_data] Downloading package treebank to /root/nltk_data...\n",
            "[nltk_data]   Unzipping corpora/treebank.zip.\n"
          ]
        },
        {
          "output_type": "execute_result",
          "data": {
            "text/plain": [
              "True"
            ]
          },
          "metadata": {},
          "execution_count": 3
        }
      ]
    },
    {
      "cell_type": "code",
      "source": [
        "# 토큰화에 품사 태깅이 된 데이터 받아오기\n",
        "tagged_sentences = nltk.corpus.treebank.tagged_sents()\n",
        "print(\"품사 태깅이 된 문장 개수: \", len(tagged_sentences))"
      ],
      "metadata": {
        "colab": {
          "base_uri": "https://localhost:8080/"
        },
        "id": "2eHmQ4_-uY5m",
        "outputId": "20354698-c5ad-4f6c-dd9d-f3e0d54999a9"
      },
      "execution_count": null,
      "outputs": [
        {
          "output_type": "stream",
          "name": "stdout",
          "text": [
            "품사 태깅이 된 문장 개수:  3914\n"
          ]
        }
      ]
    },
    {
      "cell_type": "code",
      "source": [
        "print(tagged_sentences[0])\n"
      ],
      "metadata": {
        "colab": {
          "base_uri": "https://localhost:8080/"
        },
        "id": "07MHPynzvE0x",
        "outputId": "f6e9048f-3e6c-4c00-b7a3-75c7b1e26b8e"
      },
      "execution_count": null,
      "outputs": [
        {
          "output_type": "stream",
          "name": "stdout",
          "text": [
            "[('Pierre', 'NNP'), ('Vinken', 'NNP'), (',', ','), ('61', 'CD'), ('years', 'NNS'), ('old', 'JJ'), (',', ','), ('will', 'MD'), ('join', 'VB'), ('the', 'DT'), ('board', 'NN'), ('as', 'IN'), ('a', 'DT'), ('nonexecutive', 'JJ'), ('director', 'NN'), ('Nov.', 'NNP'), ('29', 'CD'), ('.', '.')]\n"
          ]
        }
      ]
    },
    {
      "cell_type": "markdown",
      "source": [
        "품사 태깅 전처리가 수행된 첫번째 문장이 출력\n",
        "\n",
        "총 3914개 있음. \n",
        "\n",
        " 훈련을 시키려면 훈련 데이터에서 단어에 해당되는 부분 - 품사 태깅 정보에 해당되는 부분을 분리\n",
        "\n",
        " Pierre과 Vinken을 같이 저장하고, NNP와 NNP를 같이 저장할 필요가 있음. \n",
        "\n",
        " 이런 경우 파이썬 함수 중에서 zip()함수가 유용한 역할을 합니다. zip()함수는 동일한 개수를 가지는 시퀀스 자료형에서 동일한 순서에 등장하는 원소들끼리 묶어주는 역할\n",
        "\n"
      ],
      "metadata": {
        "id": "BK7kHgjZDbsr"
      }
    },
    {
      "cell_type": "code",
      "source": [
        "sentences, pos_tags = [], [] \n",
        "for tagged_sentence in tagged_sentences: # 3,914개의 문장 샘플을 1개씩 불러온다.\n",
        "    sentence, tag_info = zip(*tagged_sentence) # 각 샘플에서 단어들은 sentence에 품사 태깅 정보들은 tag_info에 저장한다.\n",
        "    sentences.append(list(sentence)) # 각 샘플에서 단어 정보만 저장한다.\n",
        "    pos_tags.append(list(tag_info)) # 각 샘플에서 품사 태깅 정보만 저장한다."
      ],
      "metadata": {
        "id": "Se4MjOElvGWu"
      },
      "execution_count": null,
      "outputs": []
    },
    {
      "cell_type": "code",
      "source": [
        "print(sentences[0])\n",
        "print(pos_tags[0])"
      ],
      "metadata": {
        "colab": {
          "base_uri": "https://localhost:8080/"
        },
        "id": "4uTUIBmuvIen",
        "outputId": "2b8648f1-288f-495d-e026-c757eb62f03b"
      },
      "execution_count": null,
      "outputs": [
        {
          "output_type": "stream",
          "name": "stdout",
          "text": [
            "['Pierre', 'Vinken', ',', '61', 'years', 'old', ',', 'will', 'join', 'the', 'board', 'as', 'a', 'nonexecutive', 'director', 'Nov.', '29', '.']\n",
            "['NNP', 'NNP', ',', 'CD', 'NNS', 'JJ', ',', 'MD', 'VB', 'DT', 'NN', 'IN', 'DT', 'JJ', 'NN', 'NNP', 'CD', '.']\n"
          ]
        }
      ]
    },
    {
      "cell_type": "markdown",
      "source": [
        "첫번째 샘플에 대해서 단어에 대해서 sentences[0]에, 품사에 대해서만 pos_tags[0]에 저장된 것을 볼 수 있습니다\n",
        "\n",
        "뒤에서 보겠지만, sentences는 예측을 위한 X에 해당되며 pos_tags는 예측 대상인 y에 해당\n",
        "\n",
        "8번 인덱스도 확인. "
      ],
      "metadata": {
        "id": "R0lNWtJ4ELEK"
      }
    },
    {
      "cell_type": "code",
      "source": [
        "print(sentences[8])\n",
        "print(pos_tags[8])"
      ],
      "metadata": {
        "colab": {
          "base_uri": "https://localhost:8080/"
        },
        "id": "bAKuY0c_vJif",
        "outputId": "daaf0850-a971-421c-b024-929fcc20e1b8"
      },
      "execution_count": null,
      "outputs": [
        {
          "output_type": "stream",
          "name": "stdout",
          "text": [
            "['We', \"'re\", 'talking', 'about', 'years', 'ago', 'before', 'anyone', 'heard', 'of', 'asbestos', 'having', 'any', 'questionable', 'properties', '.']\n",
            "['PRP', 'VBP', 'VBG', 'IN', 'NNS', 'IN', 'IN', 'NN', 'VBD', 'IN', 'NN', 'VBG', 'DT', 'JJ', 'NNS', '.']\n"
          ]
        }
      ]
    },
    {
      "cell_type": "markdown",
      "source": [
        "단어에 대해서만 sentences[8]에, 또한 품사에 대해서만 pos_tags[8]에 저장된 것을 확인\n",
        "\n",
        "길이는 제각각 분포 확인 후. 샘플 길이가 대부분 0~50의 길이를 가짐. \n",
        "\n",
        "토크나이저 실행."
      ],
      "metadata": {
        "id": "ngDXLkL5EabI"
      }
    },
    {
      "cell_type": "code",
      "source": [
        "print('샘플의 최대 길이 : %d' % max(len(l) for l in sentences))\n",
        "print('샘플의 평균 길이 : %f' % (sum(map(len, sentences))/len(sentences)))\n",
        "plt.hist([len(s) for s in sentences], bins=50)\n",
        "plt.xlabel('length of samples')\n",
        "plt.ylabel('number of samples')\n",
        "plt.show()"
      ],
      "metadata": {
        "colab": {
          "base_uri": "https://localhost:8080/",
          "height": 320
        },
        "id": "jqg4DQNbvKpH",
        "outputId": "917f557d-c862-4640-a544-047410b956d9"
      },
      "execution_count": null,
      "outputs": [
        {
          "output_type": "stream",
          "name": "stdout",
          "text": [
            "샘플의 최대 길이 : 271\n",
            "샘플의 평균 길이 : 25.722024\n"
          ]
        },
        {
          "output_type": "display_data",
          "data": {
            "text/plain": [
              "<Figure size 432x288 with 1 Axes>"
            ],
            "image/png": "[encoded data removed]"
          },
          "metadata": {
            "needs_background": "light"
          }
        }
      ]
    },
    {
      "cell_type": "code",
      "source": [
        "def tokenize(samples):\n",
        "  tokenizer = Tokenizer()\n",
        "  tokenizer.fit_on_texts(samples)\n",
        "  return tokenizer"
      ],
      "metadata": {
        "id": "qlWRlGo3vL2n"
      },
      "execution_count": null,
      "outputs": []
    },
    {
      "cell_type": "code",
      "source": [
        "src_tokenizer = tokenize(sentences)\n",
        "tar_tokenizer = tokenize(pos_tags)"
      ],
      "metadata": {
        "id": "hwY0tzrOvNV2"
      },
      "execution_count": null,
      "outputs": []
    },
    {
      "cell_type": "markdown",
      "source": [
        "단어 집합과 태깅 정보의 크기를 확인. "
      ],
      "metadata": {
        "id": "hZTsvHwQEooZ"
      }
    },
    {
      "cell_type": "code",
      "source": [
        "vocab_size = len(src_tokenizer.word_index) + 1\n",
        "tag_size = len(tar_tokenizer.word_index) + 1\n",
        "print('단어 집합의 크기 : {}'.format(vocab_size))\n",
        "print('태깅 정보 집합의 크기 : {}'.format(tag_size))"
      ],
      "metadata": {
        "colab": {
          "base_uri": "https://localhost:8080/"
        },
        "id": "emuDkGuavOPe",
        "outputId": "88b75b6e-0720-42de-9e0b-3f7e2c3249bd"
      },
      "execution_count": null,
      "outputs": [
        {
          "output_type": "stream",
          "name": "stdout",
          "text": [
            "단어 집합의 크기 : 11388\n",
            "태깅 정보 집합의 크기 : 47\n"
          ]
        }
      ]
    },
    {
      "cell_type": "markdown",
      "source": [
        "정수 인코딩을 수행"
      ],
      "metadata": {
        "id": "gi6h6W3eEtDG"
      }
    },
    {
      "cell_type": "code",
      "source": [
        "X_train = src_tokenizer.texts_to_sequences(sentences)\n",
        "y_train = tar_tokenizer.texts_to_sequences(pos_tags)"
      ],
      "metadata": {
        "id": "1n4a-9yxvPTu"
      },
      "execution_count": null,
      "outputs": []
    },
    {
      "cell_type": "code",
      "source": [
        "print(X_train[:2])\n",
        "print(y_train[:2])"
      ],
      "metadata": {
        "colab": {
          "base_uri": "https://localhost:8080/"
        },
        "id": "lJDHJjaUvQXF",
        "outputId": "96a58d13-a260-4e93-fb5e-cb6f261b8ffb"
      },
      "execution_count": null,
      "outputs": [
        {
          "output_type": "stream",
          "name": "stdout",
          "text": [
            "[[5601, 3746, 1, 2024, 86, 331, 1, 46, 2405, 2, 131, 27, 6, 2025, 332, 459, 2026, 3], [31, 3746, 20, 177, 4, 5602, 2915, 1, 2, 2916, 637, 147, 3]]\n",
            "[[3, 3, 8, 10, 6, 7, 8, 21, 13, 4, 1, 2, 4, 7, 1, 3, 10, 9], [3, 3, 17, 1, 2, 3, 3, 8, 4, 3, 19, 1, 9]]\n"
          ]
        }
      ]
    },
    {
      "cell_type": "markdown",
      "source": [
        "샘플들의 모든 길이를 임의로 150정도로 맞춤.\n",
        "\n",
        "훈련데이터와 테스트 데이터를 8:2의 비율로 분리"
      ],
      "metadata": {
        "id": "hk8dyXViE6gp"
      }
    },
    {
      "cell_type": "code",
      "source": [
        "max_len = 150\n",
        "X_train = pad_sequences(X_train, padding='post', maxlen=max_len)\n",
        "y_train = pad_sequences(y_train, padding='post', maxlen=max_len)"
      ],
      "metadata": {
        "id": "x7z8QvD2vRXW"
      },
      "execution_count": null,
      "outputs": []
    },
    {
      "cell_type": "markdown",
      "source": [
        "각 데이터에 대한 크기(shape)를 확인해보겠습니다.\n",
        "\n"
      ],
      "metadata": {
        "id": "JaFJl2quFKZ_"
      }
    },
    {
      "cell_type": "code",
      "source": [
        "X_train, X_test, y_train, y_test = train_test_split(X_train, y_train, test_size=.2, random_state=777)"
      ],
      "metadata": {
        "id": "7_NyBfuwvSUN"
      },
      "execution_count": null,
      "outputs": []
    },
    {
      "cell_type": "code",
      "source": [
        "print('훈련 샘플 문장의 크기 : {}'.format(X_train.shape))\n",
        "print('훈련 샘플 레이블의 크기 : {}'.format(y_train.shape))\n",
        "print('테스트 샘플 문장의 크기 : {}'.format(X_test.shape))\n",
        "print('테스트 샘플 레이블의 크기 : {}'.format(y_test.shape))"
      ],
      "metadata": {
        "colab": {
          "base_uri": "https://localhost:8080/"
        },
        "id": "L4uqQ08hvTWe",
        "outputId": "b48ad661-1d2e-4ea3-a5c6-ac423205b715"
      },
      "execution_count": null,
      "outputs": [
        {
          "output_type": "stream",
          "name": "stdout",
          "text": [
            "훈련 샘플 문장의 크기 : (3131, 150)\n",
            "훈련 샘플 레이블의 크기 : (3131, 150)\n",
            "테스트 샘플 문장의 크기 : (783, 150)\n",
            "테스트 샘플 레이블의 크기 : (783, 150)\n"
          ]
        }
      ]
    },
    {
      "cell_type": "markdown",
      "source": [
        "# 2. 양방향 LSTM(Bi-directional LSTM)으로 POS Tagger 만들기\n",
        "\n",
        "임베딩 벡터의 차원과 LSTM의 은닉 상태의 차원은 128로 지정\n",
        "\n",
        "* 다대다 문제이므로 LSTM의 return_sequences의 값은 True로 지정\n",
        "\n",
        "양방향 사용을 위해 LSTM을 Bidirectional()로 감싸주었습니다.\n",
        "\n",
        " validation_data로는 테스트 데이터를 기재하여 학습 중간에 테스트 데이터의 정확도를 확인\n",
        "\n",
        "### * 레이블에 대해서 원-핫 인코딩을 하고 손실 함수를 categorical_crossentropy를 사용할 수도 있겠지만, 만약 레이블에 원-핫 인코딩을 하지 않고 학습을 진행하고자 한다면 손실 함수를 categorical_crossentropy 대신 sparse_categorical_crossentropy를 선택\n",
        "\n",
        "여기서는 후자의 방법"
      ],
      "metadata": {
        "id": "uF6V3WAcFM1c"
      }
    },
    {
      "cell_type": "code",
      "source": [
        "from tensorflow.keras.models import Sequential\n",
        "from tensorflow.keras.layers import Dense, LSTM, InputLayer, Bidirectional, TimeDistributed, Embedding\n",
        "from tensorflow.keras.optimizers import Adam\n",
        "\n",
        "embedding_dim = 128\n",
        "hidden_units = 128\n",
        "\n",
        "model = Sequential()\n",
        "model.add(Embedding(vocab_size, embedding_dim, mask_zero=True))\n",
        "model.add(Bidirectional(LSTM(hidden_units, return_sequences=True)))\n",
        "model.add(TimeDistributed(Dense(tag_size, activation=('softmax'))))\n",
        "\n",
        "model.compile(loss='sparse_categorical_crossentropy', optimizer=Adam(0.001), metrics=['accuracy'])\n",
        "model.fit(X_train, y_train, batch_size=128, epochs=7, validation_data=(X_test, y_test))"
      ],
      "metadata": {
        "colab": {
          "base_uri": "https://localhost:8080/"
        },
        "id": "rE3tZDpGvUYW",
        "outputId": "b5c4bcd8-48d5-4724-efcf-62a614d6910d"
      },
      "execution_count": null,
      "outputs": [
        {
          "output_type": "stream",
          "name": "stdout",
          "text": [
            "Epoch 1/7\n",
            "25/25 [==============================] - 53s 2s/step - loss: 3.4364 - accuracy: 0.1398 - val_loss: 3.0066 - val_accuracy: 0.1947\n",
            "Epoch 2/7\n",
            "25/25 [==============================] - 40s 2s/step - loss: 2.9154 - accuracy: 0.2172 - val_loss: 2.7866 - val_accuracy: 0.2661\n",
            "Epoch 3/7\n",
            "25/25 [==============================] - 37s 1s/step - loss: 2.5904 - accuracy: 0.3855 - val_loss: 2.2860 - val_accuracy: 0.4725\n",
            "Epoch 4/7\n",
            "25/25 [==============================] - 40s 2s/step - loss: 1.9098 - accuracy: 0.5338 - val_loss: 1.5191 - val_accuracy: 0.6236\n",
            "Epoch 5/7\n",
            "25/25 [==============================] - 37s 1s/step - loss: 1.1858 - accuracy: 0.7256 - val_loss: 0.9121 - val_accuracy: 0.8069\n",
            "Epoch 6/7\n",
            "25/25 [==============================] - 37s 1s/step - loss: 0.6468 - accuracy: 0.8788 - val_loss: 0.5436 - val_accuracy: 0.8863\n",
            "Epoch 7/7\n",
            "25/25 [==============================] - 37s 2s/step - loss: 0.3559 - accuracy: 0.9336 - val_loss: 0.3834 - val_accuracy: 0.9094\n"
          ]
        },
        {
          "output_type": "execute_result",
          "data": {
            "text/plain": [
              "<keras.callbacks.History at 0x7f0a882d9250>"
            ]
          },
          "metadata": {},
          "execution_count": 18
        }
      ]
    },
    {
      "cell_type": "code",
      "source": [
        "print(\"\\n 테스트 정확도: %.4f\" % (model.evaluate(X_test, y_test)[1]))\n"
      ],
      "metadata": {
        "colab": {
          "base_uri": "https://localhost:8080/"
        },
        "id": "psaRqk2BvVw9",
        "outputId": "34620ce0-4fd5-4378-bf04-910674096af8"
      },
      "execution_count": null,
      "outputs": [
        {
          "output_type": "stream",
          "name": "stdout",
          "text": [
            "25/25 [==============================] - 6s 235ms/step - loss: 0.3832 - accuracy: 0.9094\n",
            "\n",
            " 테스트 정확도: 0.9094\n"
          ]
        }
      ]
    },
    {
      "cell_type": "markdown",
      "source": [
        "실제로 맞추고 있는지를 특정 테스트 샘플(10번 인덱스)을 통해 확인/ 정수로부터 단어와 품사 태깅 정보를 리턴하는 index_to_word와 index_to_tag를 만들고 이를 이용하여 실제값과 예측값을 출력"
      ],
      "metadata": {
        "id": "nHMd4ZOdFrGd"
      }
    },
    {
      "cell_type": "code",
      "source": [
        "index_to_word = src_tokenizer.index_word\n",
        "index_to_tag = tar_tokenizer.index_word\n",
        "\n",
        "i = 10 # 확인하고 싶은 테스트용 샘플의 인덱스.\n",
        "y_predicted = model.predict(np.array([X_test[i]])) # 입력한 테스트용 샘플에 대해서 예측값 y를 리턴\n",
        "y_predicted = np.argmax(y_predicted, axis=-1) # 확률 벡터를 정수 레이블로 변환.\n",
        "\n",
        "print(\"{:15}|{:5}|{}\".format(\"단어\", \"실제값\", \"예측값\"))\n",
        "print(35 * \"-\")\n",
        "\n",
        "for word, tag, pred in zip(X_test[i], y_test[i], y_predicted[0]):\n",
        "    if word != 0: # PAD값은 제외함.\n",
        "        print(\"{:17}: {:7} {}\".format(index_to_word[word], index_to_tag[tag].upper(), index_to_tag[pred].upper()))"
      ],
      "metadata": {
        "colab": {
          "base_uri": "https://localhost:8080/"
        },
        "id": "eGGMw6xjvW3G",
        "outputId": "c0b6b1e7-e2fc-4cac-ed97-a0b02da29c6f"
      },
      "execution_count": null,
      "outputs": [
        {
          "output_type": "stream",
          "name": "stdout",
          "text": [
            "1/1 [==============================] - 3s 3s/step\n",
            "단어             |실제값  |예측값\n",
            "-----------------------------------\n",
            "in               : IN      IN\n",
            "addition         : NN      NN\n",
            ",                : ,       ,\n",
            "buick            : NNP     NNP\n",
            "is               : VBZ     VBZ\n",
            "a                : DT      DT\n",
            "relatively       : RB      RB\n",
            "respected        : VBN     VBN\n",
            "nameplate        : NN      NN\n",
            "among            : IN      IN\n",
            "american         : NNP     NNP\n",
            "express          : NNP     NNP\n",
            "card             : NN      NN\n",
            "holders          : NNS     NNS\n",
            ",                : ,       ,\n",
            "says             : VBZ     VBZ\n",
            "0                : -NONE-  -NONE-\n",
            "*t*-1            : -NONE-  -NONE-\n",
            "an               : DT      DT\n",
            "american         : NNP     NNP\n",
            "express          : NNP     NNP\n",
            "spokeswoman      : NN      NN\n",
            ".                : .       .\n"
          ]
        }
      ]
    },
    {
      "cell_type": "code",
      "source": [],
      "metadata": {
        "id": "-6FoEM5_vZIV"
      },
      "execution_count": null,
      "outputs": []
    }
  ]
}