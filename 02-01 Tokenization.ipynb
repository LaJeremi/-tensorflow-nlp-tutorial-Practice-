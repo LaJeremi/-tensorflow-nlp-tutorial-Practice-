{
 "cells": [
  {
   "cell_type": "markdown",
   "id": "9765d3bc",
   "metadata": {},
   "source": [
    "# 02-01 토큰화(Tokenization)"
   ]
  },
  {
   "cell_type": "markdown",
   "id": "956a3865",
   "metadata": {},
   "source": [
    "### 02-01 토큰화(Tokenization)"
   ]
  },
  {
   "cell_type": "markdown",
   "id": "6a5a73a6",
   "metadata": {},
   "source": [
    "실습 출처: https://wikidocs.net/21698"
   ]
  },
  {
   "cell_type": "markdown",
   "id": "1fc03af6",
   "metadata": {},
   "source": [
    "#### 1. 단어 토큰화(Word Tokenization)"
   ]
  },
  {
   "cell_type": "markdown",
   "id": "f3d1a3c3",
   "metadata": {},
   "source": [
    "자연어 상태에서 크롤링 등으로 얻어낸 코퍼스 데이터가 맞게 전처리 되지 않은 상태라면, 용도에 맞게 토큰화(tokenization) & 정제(cleaning) & 정규화(normalizatin)하는 일을 하게 된다. \n",
    "\n",
    "토큰(token)이라는 단위로 나누는 작업을 토큰화(tokenization)이라고 한다. \n",
    "여기서는 Nltk, KoNLPY를 통해 실습을 진행하며 토큰화를 수행한다. \n"
   ]
  },
  {
   "cell_type": "markdown",
   "id": "c0165463",
   "metadata": {},
   "source": [
    "입력: Time is an illusion. Lunchtime double so!\n",
    "    \n",
    "구두점 제외하는 간단한 토큰화. \n",
    "\n",
    "출력 : \"Time\", \"is\", \"an\", \"illustion\", \"Lunchtime\", \"double\", \"so\""
   ]
  },
  {
   "cell_type": "markdown",
   "id": "4e4909d9",
   "metadata": {},
   "source": [
    "#### 2. 토큰화 중 생기는 선택의 순간\n"
   ]
  },
  {
   "cell_type": "markdown",
   "id": "448eadae",
   "metadata": {},
   "source": [
    " 예를 들어 영어권 언어에서 아포스트로피를(')가 들어가있는 단어는 어떻게 토큰으로 분류해야 하는지에 대한 선택해야함. \n",
    "\n",
    "Don't be fooled by the dark sounding name, Mr. Jone's Orphanage is as cheery as cheery goes for a pastry shop.\n",
    "\n",
    "'마크가 있는 상황에서 Don't와 Jone's를 토큰화 할 수 있는 방법들. \n",
    "\n",
    "Don't\n",
    "Don t\n",
    "Dont\n",
    "Do n't\n",
    "Jone's\n",
    "Jone s\n",
    "Jone\n",
    "Jones\n",
    "\n",
    "이런 경우에 목적과 일치하는 도구를 사용가능함.\n",
    "NLTK = 영어 코퍼스를 토큰화하기 위한 도구를 제공"
   ]
  },
  {
   "cell_type": "code",
   "execution_count": 58,
   "id": "ac9083a3",
   "metadata": {},
   "outputs": [],
   "source": [
    "from nltk.tokenize import word_tokenize\n",
    "from nltk.tokenize import WordPunctTokenizer\n",
    "from tensorflow.keras.preprocessing.text import text_to_word_sequence"
   ]
  },
  {
   "cell_type": "markdown",
   "id": "c91b57b7",
   "metadata": {},
   "source": [
    "우선 word_tokenize를 사용"
   ]
  },
  {
   "cell_type": "code",
   "execution_count": 4,
   "id": "9f7a7ace",
   "metadata": {},
   "outputs": [
    {
     "name": "stdout",
     "output_type": "stream",
     "text": [
      "단어 토큰화1 : ['Do', \"n't\", 'be', 'fooled', 'by', 'the', 'dark', 'sounding', 'name', ',', 'Mr.', 'Jone', \"'s\", 'Orphanage', 'is', 'as', 'cheery', 'as', 'cheery', 'goes', 'for', 'a', 'pastry', 'shop', '.']\n"
     ]
    }
   ],
   "source": [
    "print('단어 토큰화1 :',word_tokenize(\"Don't be fooled by the dark sounding name, Mr. Jone's Orphanage is as cheery as cheery goes for a pastry shop.\"))\n"
   ]
  },
  {
   "cell_type": "markdown",
   "id": "80066e2f",
   "metadata": {},
   "source": [
    "word_tokenize는 Don't를 Do와 n't로 분리\n",
    "반면 Jone's는 Jone과 's로 분리"
   ]
  },
  {
   "cell_type": "code",
   "execution_count": 5,
   "id": "92b71b6c",
   "metadata": {
    "scrolled": true
   },
   "outputs": [
    {
     "name": "stdout",
     "output_type": "stream",
     "text": [
      "단어 토큰화2 : ['Don', \"'\", 't', 'be', 'fooled', 'by', 'the', 'dark', 'sounding', 'name', ',', 'Mr', '.', 'Jone', \"'\", 's', 'Orphanage', 'is', 'as', 'cheery', 'as', 'cheery', 'goes', 'for', 'a', 'pastry', 'shop', '.']\n"
     ]
    }
   ],
   "source": [
    "print('단어 토큰화2 :',WordPunctTokenizer().tokenize(\"Don't be fooled by the dark sounding name, Mr. Jone's Orphanage is as cheery as cheery goes for a pastry shop.\"))"
   ]
  },
  {
   "cell_type": "markdown",
   "id": "07dbff0b",
   "metadata": {},
   "source": [
    "WordPunctTokenizer는 구두점을 별도로 분류하는 특징\n",
    "앞서 확인했던 word_tokenize와는 달리 \n",
    "Don't를 Don과 '와 t로 분리, \n",
    "이와 마찬가지로 Jone's를 Jone과 '와 s로 분리하였음. \n",
    "\n"
   ]
  },
  {
   "cell_type": "markdown",
   "id": "034676f1",
   "metadata": {},
   "source": [
    "케라스 또한 토큰화 도구로서 text_to_word_sequence를 지원합니다."
   ]
  },
  {
   "cell_type": "code",
   "execution_count": 57,
   "id": "1d1b37dd",
   "metadata": {},
   "outputs": [
    {
     "name": "stdout",
     "output_type": "stream",
     "text": [
      "단어 토큰화3 : [\"don't\", 'be', 'fooled', 'by', 'the', 'dark', 'sounding', 'name', 'mr', \"jone's\", 'orphanage', 'is', 'as', 'cheery', 'as', 'cheery', 'goes', 'for', 'a', 'pastry', 'shop']\n"
     ]
    }
   ],
   "source": [
    "print('단어 토큰화3 :',text_to_word_sequence(\"Don't be fooled by the dark sounding name, Mr. Jone's Orphanage is as cheery as cheery goes for a pastry shop.\"))"
   ]
  },
  {
   "cell_type": "markdown",
   "id": "927938d8",
   "metadata": {},
   "source": [
    "케라스의 text_to_word_sequence는 \n",
    "기본적으로 모든 알파벳을 소문자로 바꾸면서 마침표,컴마, 느낌표, 구두점 등 제거.\n",
    "\n",
    "그러나 on't나 jone's와 같은 경우 아포스트로피는 보존"
   ]
  },
  {
   "cell_type": "markdown",
   "id": "4bdde2ba",
   "metadata": {},
   "source": [
    "\n",
    "#### 3. 토큰화에서 고려해야할 사항\n",
    "\n",
    "\n"
   ]
  },
  {
   "cell_type": "markdown",
   "id": "d43b7366",
   "metadata": {},
   "source": [
    "1)  \n",
    "   구두점이나 특수 문자를 단순 제외해서는 안 된다. \n",
    "   m.p.h나 Ph.D\n",
    "   01/02/06은 날짜\n",
    "   45.55\n",
    "\n",
    "2)  줄임말과 단어 내에 띄어쓰기가 있는 경우-\n",
    "\n",
    "   what're는 what are의 줄임말\n",
    "   rock 'n' roll 하나의 단어이지만 중간에 띄어쓰기가 존재"
   ]
  },
  {
   "cell_type": "markdown",
   "id": "9f094571",
   "metadata": {},
   "source": [
    "3) 표준 토큰화 예제\n"
   ]
  },
  {
   "cell_type": "markdown",
   "id": "b5de5b99",
   "metadata": {},
   "source": [
    "Penn Treebank Tokenization의 규칙에 대해서 소개\n",
    "\n",
    "규칙 1. 하이푼으로 구성된 단어는 하나로 유지한다.\n",
    "\n",
    "규칙 2. doesn't와 같이 아포스트로피로 '접어'가 함께하는 단어는 분리해준다.\n",
    "\n",
    "\"Starting a home-based restaurant may be an ideal. it doesn't have a food chain or restaurant of their own.\""
   ]
  },
  {
   "cell_type": "code",
   "execution_count": 63,
   "id": "75c12a78",
   "metadata": {},
   "outputs": [
    {
     "name": "stdout",
     "output_type": "stream",
     "text": [
      "트리뱅크 워드토크나이저 : ['Starting', 'a', 'home-based', 'restaurant', 'may', 'be', 'an', 'ideal.', 'it', 'does', \"n't\", 'have', 'a', 'food', 'chain', 'or', 'restaurant', 'of', 'their', 'own', '.']\n"
     ]
    }
   ],
   "source": [
    "from nltk.tokenize import TreebankWordTokenizer\n",
    "\n",
    "tokenizer = TreebankWordTokenizer()\n",
    "\n",
    "text = \"Starting a home-based restaurant may be an ideal. it doesn't have a food chain or restaurant of their own.\"\n",
    "print('트리뱅크 워드토크나이저 :',tokenizer.tokenize(text))"
   ]
  },
  {
   "cell_type": "markdown",
   "id": "1dc171cf",
   "metadata": {},
   "source": [
    "결과를 보면, 각각 규칙1과 규칙2에 \n",
    "\n",
    "따라서 home-based는 하나의 토큰으로 취급하고 있으며,\n",
    "\n",
    "dosen't의 경우 does와 n't는 분리되었음을 볼 수 있습니다."
   ]
  },
  {
   "cell_type": "markdown",
   "id": "cf4098be",
   "metadata": {},
   "source": [
    "#### 4. 문장 토큰화(Sentence Tokenization)\n"
   ]
  },
  {
   "cell_type": "markdown",
   "id": "908aab9f",
   "metadata": {},
   "source": [
    "토큰의 단위가 문장(sentence)일 경우에 대한 논의\n",
    "\n",
    "문장 단위로 구분하는 작업으로 때로는 문장 분류(sentence segmentation)\n",
    "\n",
    "? 나 ! 기준으로 문장을 잘라내면 괜찮지 않을까 싶지만\n",
    "\n",
    ". 마침표는 그렇지 않다. 문장의 끝이 아니더라도 등장 가능. \n",
    "\n",
    "예) EX1) IP 192.168.56.31 서버에 들어가서 로그 파일 저장해서 aaa@gmail.com로 결과 좀 보내줘. 그 후 점심 먹으러 가자."
   ]
  },
  {
   "cell_type": "markdown",
   "id": "d9234c3c",
   "metadata": {},
   "source": [
    "### NLTK에서는 영어 문장의 토큰화를 수행하는 sent_tokenize를 지원하고 있습니다. \n",
    "\n",
    "NLTK를 통해 문장 토큰화를 실습해보겠습니다"
   ]
  },
  {
   "cell_type": "code",
   "execution_count": 1,
   "id": "81bb4c30",
   "metadata": {
    "scrolled": true
   },
   "outputs": [
    {
     "name": "stdout",
     "output_type": "stream",
     "text": [
      "문장 토큰화1 : ['His barber kept his word.', 'But keeping such a huge secret to himself was driving him crazy.', 'Finally, the barber went up a mountain and almost to the edge of a cliff.', 'He dug a hole in the midst of some reeds.', 'He looked about, to make sure no one was near.']\n"
     ]
    }
   ],
   "source": [
    "from nltk.tokenize import sent_tokenize\n",
    "\n",
    "text = \"His barber kept his word. But keeping such a huge secret to himself was driving him crazy. Finally, the barber went up a mountain and almost to the edge of a cliff. He dug a hole in the midst of some reeds. He looked about, to make sure no one was near.\"\n",
    "print('문장 토큰화1 :',sent_tokenize(text))"
   ]
  },
  {
   "cell_type": "markdown",
   "id": "589cf697",
   "metadata": {},
   "source": [
    "위 코드는 text에 저장된 여러 개의 문장들로부터 문장을 구분하는 코드입니다."
   ]
  },
  {
   "cell_type": "code",
   "execution_count": 2,
   "id": "349baa6f",
   "metadata": {
    "scrolled": true
   },
   "outputs": [
    {
     "name": "stdout",
     "output_type": "stream",
     "text": [
      "문장 토큰화2 : ['I am actively looking for Ph.D. students.', 'and you are a Ph.D student.']\n"
     ]
    }
   ],
   "source": [
    "text = \"I am actively looking for Ph.D. students. and you are a Ph.D student.\"\n",
    "print('문장 토큰화2 :',sent_tokenize(text))"
   ]
  },
  {
   "cell_type": "markdown",
   "id": "8eb493d6",
   "metadata": {},
   "source": [
    "NLTK는 단순히 마침표를 구분자로 하여 문장을 구분하지 않았기 때문에, Ph.D.를 문장 내의 단어로 인식하여 성공적으로 인식"
   ]
  },
  {
   "cell_type": "markdown",
   "id": "61710fb8",
   "metadata": {},
   "source": [
    "-----"
   ]
  },
  {
   "cell_type": "markdown",
   "id": "2519a3ee",
   "metadata": {},
   "source": [
    "#### 국어에 대한 문장 토큰화 도구 또한 존재합니다.  \n",
    "\n",
    "#### 한국어의 경우에는 박상길님이 개발한 KSS(Korean Sentence Splitter)를 추천\n"
   ]
  },
  {
   "cell_type": "code",
   "execution_count": 3,
   "id": "9d470769",
   "metadata": {
    "scrolled": true
   },
   "outputs": [
    {
     "name": "stdout",
     "output_type": "stream",
     "text": [
      "Requirement already satisfied: kss in c:\\users\\user\\anaconda3\\envs\\la1\\lib\\site-packages (4.5.1)\n",
      "Requirement already satisfied: regex in c:\\users\\user\\anaconda3\\envs\\la1\\lib\\site-packages (from kss) (2022.7.9)\n",
      "Requirement already satisfied: networkx in c:\\users\\user\\anaconda3\\envs\\la1\\lib\\site-packages (from kss) (2.8.4)\n",
      "Requirement already satisfied: emoji==1.2.0 in c:\\users\\user\\anaconda3\\envs\\la1\\lib\\site-packages (from kss) (1.2.0)\n",
      "Requirement already satisfied: pecab in c:\\users\\user\\anaconda3\\envs\\la1\\lib\\site-packages (from kss) (1.0.8)\n",
      "Requirement already satisfied: pyarrow in c:\\users\\user\\anaconda3\\envs\\la1\\lib\\site-packages (from pecab->kss) (11.0.0)\n",
      "Requirement already satisfied: pytest in c:\\users\\user\\anaconda3\\envs\\la1\\lib\\site-packages (from pecab->kss) (7.1.2)\n",
      "Requirement already satisfied: numpy in c:\\users\\user\\anaconda3\\envs\\la1\\lib\\site-packages (from pecab->kss) (1.23.5)\n",
      "Requirement already satisfied: attrs>=19.2.0 in c:\\users\\user\\anaconda3\\envs\\la1\\lib\\site-packages (from pytest->pecab->kss) (22.1.0)\n",
      "Requirement already satisfied: iniconfig in c:\\users\\user\\anaconda3\\envs\\la1\\lib\\site-packages (from pytest->pecab->kss) (1.1.1)\n",
      "Requirement already satisfied: packaging in c:\\users\\user\\anaconda3\\envs\\la1\\lib\\site-packages (from pytest->pecab->kss) (22.0)\n",
      "Requirement already satisfied: pluggy<2.0,>=0.12 in c:\\users\\user\\anaconda3\\envs\\la1\\lib\\site-packages (from pytest->pecab->kss) (1.0.0)\n",
      "Requirement already satisfied: py>=1.8.2 in c:\\users\\user\\anaconda3\\envs\\la1\\lib\\site-packages (from pytest->pecab->kss) (1.11.0)\n",
      "Requirement already satisfied: tomli>=1.0.0 in c:\\users\\user\\anaconda3\\envs\\la1\\lib\\site-packages (from pytest->pecab->kss) (2.0.1)\n",
      "Requirement already satisfied: atomicwrites>=1.0 in c:\\users\\user\\anaconda3\\envs\\la1\\lib\\site-packages (from pytest->pecab->kss) (1.4.0)\n",
      "Requirement already satisfied: colorama in c:\\users\\user\\anaconda3\\envs\\la1\\lib\\site-packages (from pytest->pecab->kss) (0.4.6)\n",
      "Note: you may need to restart the kernel to use updated packages.\n"
     ]
    }
   ],
   "source": [
    "pip install kss"
   ]
  },
  {
   "cell_type": "code",
   "execution_count": 4,
   "id": "4a9e4d50",
   "metadata": {},
   "outputs": [
    {
     "name": "stderr",
     "output_type": "stream",
     "text": [
      "[Kss]: Because there's no supported C++ morpheme analyzer, Kss will take pecab as a backend. :D\n",
      "For your information, Kss also supports mecab backend.\n",
      "We recommend you to install mecab or konlpy.tag.Mecab for faster execution of Kss.\n",
      "Please refer to following web sites for details:\n",
      "- mecab: https://cleancode-ws.tistory.com/97\n",
      "- konlpy.tag.Mecab: https://uwgdqo.tistory.com/363\n",
      "\n"
     ]
    },
    {
     "name": "stdout",
     "output_type": "stream",
     "text": [
      "한국어 문장 토큰화 : ['딥 러닝 자연어 처리가 재미있기는 합니다.', '그런데 문제는 영어보다 한국어로 할 때 너무 어렵습니다.', '이제 해보면 알걸요?']\n"
     ]
    }
   ],
   "source": [
    "import kss\n",
    "\n",
    "text = '딥 러닝 자연어 처리가 재미있기는 합니다. 그런데 문제는 영어보다 한국어로 할 때 너무 어렵습니다. 이제 해보면 알걸요?'\n",
    "print('한국어 문장 토큰화 :',kss.split_sentences(text))"
   ]
  },
  {
   "cell_type": "code",
   "execution_count": 10,
   "id": "93336d32",
   "metadata": {},
   "outputs": [
    {
     "name": "stdout",
     "output_type": "stream",
     "text": [
      "한국어 문장 토큰화 : ['IP 192.168.56.31 서버에 들어가서 로그 파일 저장해서 aaa@gmail.com로 결과 좀 보내줘.', '그 후 점심 먹으러 가자.']\n"
     ]
    }
   ],
   "source": [
    "## 실험\n",
    "\n",
    "text = \" IP 192.168.56.31 서버에 들어가서 로그 파일 저장해서 aaa@gmail.com로 결과 좀 보내줘. 그 후 점심 먹으러 가자.\"\n",
    "print('한국어 문장 토큰화 :',kss.split_sentences(text))"
   ]
  },
  {
   "cell_type": "markdown",
   "id": "6692c11e",
   "metadata": {},
   "source": [
    "#### 5. 한국어에서의 토큰화의 어려움."
   ]
  },
  {
   "cell_type": "markdown",
   "id": "b03bcdd9",
   "metadata": {},
   "source": [
    "영어는 줄임말에 대한 예외처리만 한다면 띄어쓰기 기준으로 토큰화를 진행가능.\n",
    "\n",
    "그러나 한국어는 그렇지 않음. \n",
    "\n",
    " 1-교착어의 특성\n",
    "\n",
    "한국어 토큰화에서는 형태소(morpheme) 란 개념을 반드시 이해해야 합니다. 형태소(morpheme)란 뜻을 가진 가장 작은 말의 단위를 말합니다. 이 형태소에는 두 가지 형태소가 있는데 자립 형태소와 의존 형태소입니다.\n",
    "\n",
    "자립 형태소 : 접사, 어미, 조사와 상관없이 자립하여 사용할 수 있는 형태소. 그 자체로 단어가 된다. 체언(명사, 대명사, 수사), 수식언(관형사, 부사), 감탄사 등이 있다.\n",
    "\n",
    "의존 형태소 : 다른 형태소와 결합하여 사용되는 형태소. 접사, 어미, 조사, 어간을 말한다.\n",
    "\n",
    "\n",
    "\n",
    "2-한국어는 띄어쓰기가 영어보다 잘 지켜지지 않는다.\n",
    "\n",
    "EX1) 제가이렇게띄어쓰기를전혀하지않고글을썼다고하더라도글을이해할수있습니다."
   ]
  },
  {
   "cell_type": "markdown",
   "id": "d6f1a5a3",
   "metadata": {},
   "source": [
    "#### 6. 품사 태깅(Part-of-speech tagging) "
   ]
  },
  {
   "cell_type": "markdown",
   "id": "c85f4fcb",
   "metadata": {},
   "source": [
    "fly = 파리 or 날다\n",
    "\n",
    "못 = 명사-목재 따위를 고정\n",
    "     부사- 못 하다\n",
    "     \n",
    "그에 따라 단어 토큰화 과정에서 각 단어가 어떤 품사로 쓰였는지를 구분해놓기도 하는데, 이 작업을 품사 태깅(part-of-speech tagging)이라고 합니다. NLTK와 KoNLPy를 통해 품사 태깅 실습을 진행합니다."
   ]
  },
  {
   "cell_type": "markdown",
   "id": "56090115",
   "metadata": {},
   "source": [
    "#### 7. NLTK와 KoNLPy를 이용한 영어, 한국어 토큰화 실습 "
   ]
  },
  {
   "cell_type": "code",
   "execution_count": 11,
   "id": "a0b66169",
   "metadata": {
    "scrolled": true
   },
   "outputs": [
    {
     "name": "stdout",
     "output_type": "stream",
     "text": [
      "단어 토큰화 : ['I', 'am', 'actively', 'looking', 'for', 'Ph.D.', 'students', '.', 'and', 'you', 'are', 'a', 'Ph.D.', 'student', '.']\n",
      "품사 태깅 : [('I', 'PRP'), ('am', 'VBP'), ('actively', 'RB'), ('looking', 'VBG'), ('for', 'IN'), ('Ph.D.', 'NNP'), ('students', 'NNS'), ('.', '.'), ('and', 'CC'), ('you', 'PRP'), ('are', 'VBP'), ('a', 'DT'), ('Ph.D.', 'NNP'), ('student', 'NN'), ('.', '.')]\n"
     ]
    }
   ],
   "source": [
    "from nltk.tokenize import word_tokenize\n",
    "from nltk.tag import pos_tag\n",
    "\n",
    "text = \"I am actively looking for Ph.D. students. and you are a Ph.D. student.\"\n",
    "tokenized_sentence = word_tokenize(text)\n",
    "\n",
    "print('단어 토큰화 :',tokenized_sentence)\n",
    "print('품사 태깅 :',pos_tag(tokenized_sentence))"
   ]
  },
  {
   "cell_type": "markdown",
   "id": "6b0a8642",
   "metadata": {},
   "source": [
    "영어 문장에 대해서 토큰화를 수행한 결과를 입력으로 품사 태깅을 수행하였습니다. \n",
    "\n",
    "Penn Treebank POG Tags에서 \n",
    "\n",
    "PRP는 인칭 대명사, \n",
    "\n",
    "VBP는 동사, RB는 부사, \n",
    "\n",
    "VBG는 현재부사, \n",
    "\n",
    "IN은 전치사, \n",
    "\n",
    "NNP는 고유 명사, \n",
    "\n",
    "NNS는 복수형 명사, \n",
    "\n",
    "CC는 접속사, \n",
    "\n",
    "DT는 관사를 의미합니다."
   ]
  },
  {
   "cell_type": "markdown",
   "id": "79860813",
   "metadata": {},
   "source": [
    "\n",
    "### 한국어 자연어 처리를 위해서는 KoNLPy(코엔엘파이)라는 파이썬 패키지를 사용할 수 있습니다. \n",
    "\n",
    "### 코엔엘파이를 통해서 사용할 수 있는 형태소 분석기로 Okt(Open Korea Text), 메캅(Mecab), 코모란(Komoran), 한나눔(Hannanum), 꼬꼬마(Kkma)가 있습니다."
   ]
  },
  {
   "cell_type": "markdown",
   "id": "d82c55f4",
   "metadata": {},
   "source": [
    "한국어 NLP에서 형태소 분석기를 사용하여 단어 토큰화. 더 정확히는 형태소 토큰화(morpheme tokenization)를 수행\n",
    "\n",
    " Okt와 꼬꼬마 두 개의 형태소 분석기를 사용하여 토큰화를 수행"
   ]
  },
  {
   "cell_type": "code",
   "execution_count": 12,
   "id": "30b089cb",
   "metadata": {},
   "outputs": [
    {
     "name": "stdout",
     "output_type": "stream",
     "text": [
      "OKT 형태소 분석 : ['열심히', '코딩', '한', '당신', ',', '연휴', '에는', '여행', '을', '가봐요']\n",
      "OKT 품사 태깅 : [('열심히', 'Adverb'), ('코딩', 'Noun'), ('한', 'Josa'), ('당신', 'Noun'), (',', 'Punctuation'), ('연휴', 'Noun'), ('에는', 'Josa'), ('여행', 'Noun'), ('을', 'Josa'), ('가봐요', 'Verb')]\n",
      "OKT 명사 추출 : ['코딩', '당신', '연휴', '여행']\n"
     ]
    }
   ],
   "source": [
    "from konlpy.tag import Okt\n",
    "from konlpy.tag import Kkma\n",
    "\n",
    "okt = Okt()\n",
    "kkma = Kkma()\n",
    "\n",
    "print('OKT 형태소 분석 :',okt.morphs(\"열심히 코딩한 당신, 연휴에는 여행을 가봐요\"))\n",
    "print('OKT 품사 태깅 :',okt.pos(\"열심히 코딩한 당신, 연휴에는 여행을 가봐요\"))\n",
    "print('OKT 명사 추출 :',okt.nouns(\"열심히 코딩한 당신, 연휴에는 여행을 가봐요\")) "
   ]
  },
  {
   "cell_type": "markdown",
   "id": "91ff6672",
   "metadata": {},
   "source": [
    "1) morphs : 형태소 추출\n",
    "2) pos : 품사 태깅(Part-of-speech tagging)\n",
    "3) nouns : 명사 추출\n",
    "\n",
    "한국어 NLP에서 전처리에 형태소 분석기를 사용하는 것은 굉장히 유용"
   ]
  },
  {
   "cell_type": "markdown",
   "id": "c7d8739a",
   "metadata": {},
   "source": [
    "------"
   ]
  },
  {
   "cell_type": "markdown",
   "id": "1eb74738",
   "metadata": {},
   "source": [
    " 이번에는 꼬꼬마 형태소 분석기를 사용하여 같은 문장에 대해서 토큰화를 진행해봅시다."
   ]
  },
  {
   "cell_type": "code",
   "execution_count": 14,
   "id": "98983043",
   "metadata": {},
   "outputs": [
    {
     "name": "stdout",
     "output_type": "stream",
     "text": [
      "꼬꼬마 형태소 분석 : ['열심히', '코딩', '하', 'ㄴ', '당신', ',', '연휴', '에', '는', '여행', '을', '가보', '아요']\n",
      "꼬꼬마 품사 태깅 : [('열심히', 'MAG'), ('코딩', 'NNG'), ('하', 'XSV'), ('ㄴ', 'ETD'), ('당신', 'NP'), (',', 'SP'), ('연휴', 'NNG'), ('에', 'JKM'), ('는', 'JX'), ('여행', 'NNG'), ('을', 'JKO'), ('가보', 'VV'), ('아요', 'EFN')]\n",
      "꼬꼬마 명사 추출 : ['코딩', '당신', '연휴', '여행']\n"
     ]
    }
   ],
   "source": [
    "print('꼬꼬마 형태소 분석 :',kkma.morphs(\"열심히 코딩한 당신, 연휴에는 여행을 가봐요\"))\n",
    "print('꼬꼬마 품사 태깅 :',kkma.pos(\"열심히 코딩한 당신, 연휴에는 여행을 가봐요\"))\n",
    "print('꼬꼬마 명사 추출 :',kkma.nouns(\"열심히 코딩한 당신, 연휴에는 여행을 가봐요\"))  "
   ]
  },
  {
   "cell_type": "markdown",
   "id": "f65830b2",
   "metadata": {},
   "source": [
    "앞서 사용한 Okt 형태소 분석기와 결과가 다른 것을 볼 수 있습니다. 각 형태소 분석기는 성능과 결과가 다르게 나오기 때문에, 형태소 분석기의 선택은 사용하고자 하는 필요 용도에 어떤 형태소 분석기가 가장 적절한지를 판단하고 사용하면 됩니다. 예를 들어서 속도를 중시한다면 메캅을 사용할 수 있습니다"
   ]
  },
  {
   "cell_type": "code",
   "execution_count": null,
   "id": "5af552b3",
   "metadata": {},
   "outputs": [],
   "source": []
  },
  {
   "cell_type": "code",
   "execution_count": null,
   "id": "69c8f774",
   "metadata": {},
   "outputs": [],
   "source": []
  },
  {
   "cell_type": "code",
   "execution_count": null,
   "id": "235888f5",
   "metadata": {},
   "outputs": [],
   "source": []
  },
  {
   "cell_type": "code",
   "execution_count": null,
   "id": "7e6392fa",
   "metadata": {},
   "outputs": [],
   "source": []
  }
 ],
 "metadata": {
  "kernelspec": {
   "display_name": "Python 3 (ipykernel)",
   "language": "python",
   "name": "python3"
  },
  "language_info": {
   "codemirror_mode": {
    "name": "ipython",
    "version": 3
   },
   "file_extension": ".py",
   "mimetype": "text/x-python",
   "name": "python",
   "nbconvert_exporter": "python",
   "pygments_lexer": "ipython3",
   "version": "3.8.16"
  }
 },
 "nbformat": 4,
 "nbformat_minor": 5
}
