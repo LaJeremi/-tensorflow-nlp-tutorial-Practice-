{
 "cells": [
  {
   "cell_type": "markdown",
   "id": "1e578c9a",
   "metadata": {},
   "source": [
    "# 07-03 행렬곱으로 이해하는 신경망\n",
    "\n",
    "\n",
    "\n",
    "\n",
    "출처:https://wikidocs.net/150781\n",
    "\n",
    "## 1. 순전파(Foward Propagation)\n",
    "\n",
    "## 2. 행렬곱으로 순전파 이해하기\n"
   ]
  },
  {
   "cell_type": "code",
   "execution_count": 1,
   "id": "ff903b15",
   "metadata": {},
   "outputs": [],
   "source": [
    "# 입력의 차원이 3, 출력의 차원이 2인 위 인공 신경망\n",
    "\n",
    "from tensorflow.keras.models import Sequential\n",
    "from tensorflow.keras.layers import Dense\n",
    "\n",
    "model = Sequential()\n",
    "\n",
    "# 3개의 입력과 2개의 출력\n",
    "model.add(Dense(2, input_dim=3, activation='softmax'))"
   ]
  },
  {
   "cell_type": "code",
   "execution_count": 2,
   "id": "04b0030a",
   "metadata": {},
   "outputs": [
    {
     "name": "stdout",
     "output_type": "stream",
     "text": [
      "Model: \"sequential\"\n",
      "_________________________________________________________________\n",
      " Layer (type)                Output Shape              Param #   \n",
      "=================================================================\n",
      " dense (Dense)               (None, 2)                 8         \n",
      "                                                                 \n",
      "=================================================================\n",
      "Total params: 8\n",
      "Trainable params: 8\n",
      "Non-trainable params: 0\n",
      "_________________________________________________________________\n"
     ]
    }
   ],
   "source": [
    "model.summary()\n",
    "\n",
    "# 매개변수의 수가 8개라고 나옵니다. 위 신경망에서 학습가능한 매개변수인 w와 b의 개수가 \n",
    "# 총 합해서 8개라는 의미입니다. 실제로 그런지 위 신경망을 행렬의 곱셈 관점에서 이해해봅시다."
   ]
  },
  {
   "cell_type": "markdown",
   "id": "3d983439",
   "metadata": {},
   "source": [
    "# 3. 행렬곱으로 병렬 연산 이해하기\n",
    "\n",
    "# 4. 행렬곱으로 다층 퍼셉트론의 순전파 이해하기\n",
    "\n",
    "## 1) 코드로 구현하기\n"
   ]
  },
  {
   "cell_type": "code",
   "execution_count": 3,
   "id": "1f43f003",
   "metadata": {},
   "outputs": [],
   "source": [
    "from tensorflow.keras.models import Sequential\n",
    "from tensorflow.keras.layers import Dense\n",
    "\n",
    "model = Sequential()\n",
    "\n",
    "# 4개의 입력과 8개의 출력\n",
    "model.add(Dense(8, input_dim=4, activation='relu'))\n",
    "\n",
    "# 이어서 8개의 출력\n",
    "model.add(Dense(8, activation='relu'))\n",
    "\n",
    "# 이어서 3개의 출력\n",
    "model.add(Dense(3, activation='softmax'))"
   ]
  },
  {
   "cell_type": "markdown",
   "id": "23f37175",
   "metadata": {},
   "source": [
    "2) 행렬의 크기 추정해보기\n",
    "\n",
    "우선 각 층을 기준으로 입력과 출력의 개수를 정리하면 다음과 같습니다.\n",
    "\n",
    "입력층 : 4개의 입력과 8개의 출력\n",
    "\n",
    "은닉층1 : 8개의 입력과 8개의 출력\n",
    "\n",
    "은닉층2 : 8개의 입력과 3개의 출력\n",
    "\n",
    "출력층 : 3개의 입력과 3개의 출력\n",
    "\n",
    "위의 정보를 가지고 층마다 생기는 가중치와 편향 행렬의 크기를 추정해봅시다. 단, 배치 크기는 1을 가정합니다."
   ]
  },
  {
   "cell_type": "markdown",
   "id": "d620f965",
   "metadata": {},
   "source": [
    "이와 같이 순전파를 진행하고 예측값을 구하고나서 이 다음에 \n",
    "\n",
    "인공 신경망이 해야할 일은 예측값과 실제값으로부터 오차를 계산하고, \n",
    "\n",
    "오차로부터 가중치와 편향을 업데이트하는 일입니다.\n",
    "\n",
    "즉, 인공 신경망의 학습 단계에 해당됩니다. \n",
    "\n",
    "이때 인공 신경망은 순전파와는 반대 방향으로 연산을 진행하며 가중치를 업데이트하는데, \n",
    "\n",
    "이 과정을 역전파(BackPropagation)라고 합니다. \n",
    "\n",
    "인공 신경망의 역전파에 대해서는 뒤에서 다룹니다."
   ]
  },
  {
   "cell_type": "code",
   "execution_count": null,
   "id": "249e39da",
   "metadata": {},
   "outputs": [],
   "source": []
  }
 ],
 "metadata": {
  "kernelspec": {
   "display_name": "Python 3 (ipykernel)",
   "language": "python",
   "name": "python3"
  },
  "language_info": {
   "codemirror_mode": {
    "name": "ipython",
    "version": 3
   },
   "file_extension": ".py",
   "mimetype": "text/x-python",
   "name": "python",
   "nbconvert_exporter": "python",
   "pygments_lexer": "ipython3",
   "version": "3.8.16"
  }
 },
 "nbformat": 4,
 "nbformat_minor": 5
}
