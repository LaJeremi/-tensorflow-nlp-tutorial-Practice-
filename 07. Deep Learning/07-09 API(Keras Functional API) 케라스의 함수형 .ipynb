{
 "cells": [
  {
   "cell_type": "markdown",
   "id": "1e578c9a",
   "metadata": {},
   "source": [
    "# 07-09 API(Keras Functional API) 케라스의 함수형\n",
    "\n",
    "\n",
    "출처:  https://wikidocs.net/38861\n",
    "\n",
    "Sequential API는 여러층을 공유하거나 다양한 종류의 입력과 출력을 사용하는 등의 복잡한 모델을 만드는 일에는 한계가 있습니다. \n",
    "\n",
    "-> 이번에는 더욱 복잡한 모델을 생성할 수 있는 방식인 Functional API(함수형 API)에 대해서 알아봅니다.\n",
    "\n",
    "## 1. Sequential API로 만든 모델\n"
   ]
  },
  {
   "cell_type": "code",
   "execution_count": 1,
   "id": "ab4d09c9",
   "metadata": {},
   "outputs": [],
   "source": [
    "from tensorflow.keras.models import Sequential\n",
    "from tensorflow.keras.layers import Dense\n",
    "\n",
    "model = Sequential()\n",
    "model.add(Dense(3, input_dim=4, activation='softmax'))"
   ]
  },
  {
   "cell_type": "markdown",
   "id": "f761d987",
   "metadata": {},
   "source": [
    "## 2. Functional API로 만든 모델\n",
    "\n",
    "1) 전결합 피드 포워드 신경망(Fully-connected FFNN)\n",
    "\n"
   ]
  },
  {
   "cell_type": "code",
   "execution_count": 2,
   "id": "7b4fa1f9",
   "metadata": {},
   "outputs": [],
   "source": [
    "from tensorflow.keras.layers import Input, Dense\n",
    "from tensorflow.keras.models import Model"
   ]
  },
  {
   "cell_type": "code",
   "execution_count": 3,
   "id": "5e3fbc5e",
   "metadata": {},
   "outputs": [],
   "source": [
    "inputs = Input(shape=(10,))\n",
    "# 위의 코드는 10개의 입력을 받는 입력층을 보여줍니다"
   ]
  },
  {
   "cell_type": "code",
   "execution_count": 4,
   "id": "6549d1f0",
   "metadata": {},
   "outputs": [],
   "source": [
    "inputs = Input(shape=(10,))\n",
    "hidden1 = Dense(64, activation='relu')(inputs)  # <- 새로 추가\n",
    "hidden2 = Dense(64, activation='relu')(hidden1) # <- 새로 추가\n",
    "output = Dense(1, activation='sigmoid')(hidden2) # <- 새로 추가"
   ]
  },
  {
   "cell_type": "code",
   "execution_count": 5,
   "id": "36dade7e",
   "metadata": {},
   "outputs": [],
   "source": [
    "inputs = Input(shape=(10,))\n",
    "hidden1 = Dense(64, activation='relu')(inputs)\n",
    "hidden2 = Dense(64, activation='relu')(hidden1)\n",
    "output = Dense(1, activation='sigmoid')(hidden2)\n",
    "model = Model(inputs=inputs, outputs=output) # <- 새로 추가\n",
    "\n",
    "지금까지의 내용을 정리하면 다음과 같습니다.\n",
    "\n",
    "# Input() 함수에 입력의 크기를 정의합니다.\n",
    "# 이전층을 다음층 함수의 입력으로 사용하고, 변수에 할당합니다.\n",
    "# Model() 함수에 입력과 출력을 정의합니다.\n",
    "# 이를 model로 저장하면 sequential\n",
    "# API를 사용할 때와 마찬가지로 model.compile, model.fit 등을 사용 가능합니다."
   ]
  },
  {
   "cell_type": "code",
   "execution_count": 6,
   "id": "0543e570",
   "metadata": {},
   "outputs": [],
   "source": [
    "model.compile(optimizer='rmsprop', loss='categorical_crossentropy', metrics=['accuracy'])\n",
    "# model.fit(data, labels)"
   ]
  },
  {
   "cell_type": "code",
   "execution_count": 7,
   "id": "923fb51d",
   "metadata": {},
   "outputs": [],
   "source": [
    "# 이번에는 변수명을 달리해서 FFNN을 만들어보겠습니다.\n",
    "\n",
    "inputs = Input(shape=(10,))\n",
    "x = Dense(8, activation=\"relu\")(inputs)\n",
    "x = Dense(4, activation=\"relu\")(x)\n",
    "x = Dense(1, activation=\"linear\")(x)\n",
    "model = Model(inputs, x)"
   ]
  },
  {
   "cell_type": "markdown",
   "id": "f8cc27af",
   "metadata": {},
   "source": [
    "### 2) 선형 회귀(Linear Regression)\n",
    "\n",
    "앞서 ( https://wikidocs.net/111472 ) Sequential API로 구현했던 선형 회귀를 Functional API로 구현해봅시다.\n",
    "\n",
    "from tensorflow.keras.layers import Input, Dense\n",
    "from tensorflow.keras import optimizers\n",
    "from tensorflow.keras.models import Model\n",
    "​\n",
    "X = [1, 2, 3, 4, 5, 6, 7, 8, 9] # 공부하는 시간\n",
    "y = [11, 22, 33, 44, 53, 66, 77, 87, 95] # 각 공부하는 시간에 맵핑되는 성적\n",
    "​\n",
    "inputs = Input(shape=(1,))\n",
    "output = Dense(1, activation='linear')(inputs)\n",
    "linear_model = Model(inputs, output)\n",
    "​\n",
    "sgd = optimizers.SGD(lr=0.01)\n",
    "​\n",
    "linear_model.compile(optimizer=sgd, loss='mse', metrics=['mse'])\n",
    "linear_model.fit(X, y, epochs=300)"
   ]
  },
  {
   "cell_type": "markdown",
   "id": "774f7c90",
   "metadata": {},
   "source": [
    "### 3) 로지스틱 회귀(Logistic Regression)\n",
    "\n",
    "\n",
    "from tensorflow.keras.layers import Input, Dense\n",
    "from tensorflow.keras.models import Model\n",
    "\n",
    "inputs = Input(shape=(3,))\n",
    "output = Dense(1, activation='sigmoid')(inputs)\n",
    "logistic_model = Model(inputs, output)\n",
    "\n",
    "### 4) 다중 입력을 받는 모델(model that accepts multiple inputs)\n",
    "\n",
    "functional API를 사용하면 아래와 같이 다중 입력과 다중 출력을 가지는 모델도 만들 수 있습니다.\n",
    "\n",
    "# 최종 완성된 다중 입력, 다중 출력 모델의 예\n",
    "model = Model(inputs=[a1, a2], outputs=[b1, b2, b3])\n",
    "\n",
    "from tensorflow.keras.layers import Input, Dense, concatenate\n",
    "from tensorflow.keras.models import Model\n",
    "\n",
    "두 개의 입력층을 정의\n",
    "\n",
    "inputA = Input(shape=(64,))\n",
    "\n",
    "inputB = Input(shape=(128,))\n",
    "\n",
    "첫번째 입력층으로부터 분기되어 진행되는 인공 신경망을 정의\n",
    "\n",
    "x = Dense(16, activation=\"relu\")(inputA)\n",
    "\n",
    "x = Dense(8, activation=\"relu\")(x)\n",
    "\n",
    "x = Model(inputs=inputA, outputs=x)\n",
    "\n",
    "\n",
    "두번째 입력층으로부터 분기되어 진행되는 인공 신경망을 정의\n",
    "\n",
    "y = Dense(64, activation=\"relu\")(inputB)\n",
    "\n",
    "y = Dense(32, activation=\"relu\")(y)\n",
    "\n",
    "y = Dense(8, activation=\"relu\")(y)\n",
    "\n",
    "y = Model(inputs=inputB, outputs=y)\n",
    "\n",
    "두개의 인공 신경망의 출력을 연결(concatenate)\n",
    "\n",
    "result = concatenate([x.output, y.output])\n",
    "\n",
    "z = Dense(2, activation=\"relu\")(result)\n",
    "\n",
    "z = Dense(1, activation=\"linear\")(z)\n",
    "\n",
    "model = Model(inputs=[x.input, y.input], outputs=z)\n",
    "\n",
    "\n",
    "\n",
    "### 5) RNN(Recurrence Neural Network) 은닉층 사용하기\n",
    "\n",
    "이번에는 RNN 은닉층을 가지는 모델을 설계해봅시다. 여기서는 하나의 특성(feature)에 50개의 시점(time-step)을 입력으로 받는 모델을 설계해보겠습니다. RNN에 대한 구체적인 내용은 다음 챕터인 RNN 챕터에서 배웁니다.\n",
    "\n",
    "from tensorflow.keras.layers import Input, Dense, LSTM\n",
    "\n",
    "from tensorflow.keras.models import Model\n",
    "\n",
    "inputs = Input(shape=(50,1))\n",
    "\n",
    "lstm_layer = LSTM(10)(inputs)\n",
    "\n",
    "x = Dense(10, activation='relu')(lstm_layer)\n",
    "\n",
    "output = Dense(1, activation='sigmoid')(x)\n",
    "\n",
    "model = Model(inputs=inputs, outputs=output)\n",
    "\n",
    "### 6) 다르게 보이지만 동일한 표기\n",
    "\n",
    "케라스의 Functional API가 익숙하지 않은 상태에서 Functional API를 사용한 코드를 보다가 혼동할 수 있는 점이 한 가지 있습니다. 바로 동일한 의미를 가지지만, 하나의 줄로 표현할 수 있는 코드를 두 개의 줄로 표현한 경우입니다.\n",
    "\n",
    "result = Dense(128)(input)\n",
    "\n",
    "위 코드는 아래와 같이 두 개의 줄로 표현할 수 있습니다.\n",
    "\n",
    "dense = Dense(128)\n",
    "\n",
    "result = dense(input)\n",
    "\n"
   ]
  },
  {
   "cell_type": "code",
   "execution_count": null,
   "id": "4cb250df",
   "metadata": {},
   "outputs": [],
   "source": []
  }
 ],
 "metadata": {
  "kernelspec": {
   "display_name": "Python 3 (ipykernel)",
   "language": "python",
   "name": "python3"
  },
  "language_info": {
   "codemirror_mode": {
    "name": "ipython",
    "version": 3
   },
   "file_extension": ".py",
   "mimetype": "text/x-python",
   "name": "python",
   "nbconvert_exporter": "python",
   "pygments_lexer": "ipython3",
   "version": "3.8.16"
  }
 },
 "nbformat": 4,
 "nbformat_minor": 5
}
