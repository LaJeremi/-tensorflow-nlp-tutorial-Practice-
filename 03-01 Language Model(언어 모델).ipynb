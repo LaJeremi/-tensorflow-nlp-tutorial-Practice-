{
 "cells": [
  {
   "cell_type": "markdown",
   "id": "1e578c9a",
   "metadata": {},
   "source": [
    "# 03. 언어 모델(Language Model)\n",
    "\n",
    "출처: https://wikidocs.net/21668\n",
    "\n",
    "\n",
    "언어 모델(Languagel Model)이란 단어 시퀀스(문장)에 확률을 할당하는 모델\n",
    "\n",
    "어떤 문장들이 있을 때, 기계가 이 문장은 적절해! 이 문장은 말이 안 돼! 라고 사람처럼 정확히 판단할 수 있다면, 기계의 자연어 처리의 성능이 뛰어나다 "
   ]
  },
  {
   "cell_type": "markdown",
   "id": "7cc1576b",
   "metadata": {},
   "source": [
    "### * 이번 챕터에서는 통계에 기반한 전통적인 언어 모델(Statistical Languagel Model, SLM)에 대해서 학습\n",
    "\n",
    "통계에 기반한 언어 모델은 우리가 실제 사용하는 자연어를 근사하기에는 많은 한계가 있었고, 요즘 들어 인공 신경망이 그러한 한계를 많이 해결해주면서 통계 기반 언어 모델은 많이 사용 용도가 줄었습니다. \n",
    "\n",
    "* 하지만 그럼에도 통계 기반 방법론에 대한 이해는 언어 모델에 대한 전체적인 시야를 갖는 일에 도움이 됩니다.\n",
    "\n",
    "\n",
    "* 통계를 이용한 방법 vs 인공 신경망을 이용한 방법 (최근 추세)\n",
    "##### 최근 핫한 자연어 처리의 기술인 GPT나 BERT 또한 인공 신경망 언어 모델의 개념을 사용하여 만들어졌습니다. 이번 챕터에서는 언어 모델의 개념과 언어 모델의 전통적 접근 방식인 통계적 언어 모델에 대해서 배웁니다."
   ]
  },
  {
   "cell_type": "markdown",
   "id": "15603c6d",
   "metadata": {},
   "source": [
    "## 1. 언어 모델(Language Model)\n",
    "\n",
    "언어 모델은 단어 시퀀스에 확률을 할당(assign) 하는 일을 하는 모델. \n",
    "\n",
    "이전 단어들이 주어졌을 때 다음 단어를 예측\n",
    "\n",
    "다른 유형의 언어 모델로는 주어진 양쪽의 단어들로부터 가운데 비어있는 단어를 예측하는 언어 모델- Bert\n",
    "\n",
    "언어 모델에 -ing를 붙인 언어 모델링(Language Modeling)은 주어진 단어들로부터 아직 모르는 단어를 예측하는 작업\n",
    "\n",
    "자연어 처리로 유명한 스탠포드 대학교에서는 언어 모델을 문법(grammar)이라고 비유하기도 합니다. 언어 모델이 단어들의 조합이 얼마나 적절한지, 또는 해당 문장이 얼마나 적합한지를 알려주는 일을 하는 것이 마치 문법이 하는 일 같기 때문입니다.\n",
    "\n"
   ]
  },
  {
   "cell_type": "markdown",
   "id": "299a31d8",
   "metadata": {},
   "source": [
    "## 2. 단어 시퀀스의 확률 할당\n",
    "\n",
    "a. 기계 번역(Machine Translation):\n",
    "P(나는 버스를 탔다) > P(나는 버스를 태운다)\n",
    "\n",
    "b. 오타 교정(Spell Correction)\n",
    "선생님이 교실로 부리나케  \n",
    "P(달려갔다) > P(잘려갔다) \n",
    "\n",
    "c. 음성 인식(Speech Recognition)\n",
    "P(나는 메롱을 먹는다) < P(나는 메론을 먹는다)\n",
    "\n",
    "\n",
    "a.b.c 모두 두 문장을 비교하여 확률이 높은 것을 선택함.\n"
   ]
  },
  {
   "cell_type": "markdown",
   "id": "1a508067",
   "metadata": {},
   "source": [
    "## 3. 주어진 이전 단어들로부터 다음 단어 예측하기\n",
    "\n",
    "가장 보편적으로 사용하는 방법은 이전 단어들이 주어졌을 때, 다음 단어를 예측\n",
    "\n",
    "A. 단어 시퀀스의 확률\n",
    "B. 다음 단어 등장 확률\n",
    "\n",
    "https://wikidocs.net/21668\n",
    "\n",
    "\n",
    "## 4. 언어 모델의 간단한 직관\n",
    "\n",
    "비행기를 타려고 공항에 갔는데 지각을 하는 바람에 비행기를 [?]라는 문장이 있습니다. '\n",
    "\n",
    "비행기를' 다음에 어떤 단어가 오게 될지 사람은 쉽게 \n",
    "\n",
    "'놓쳤다'라고 예상할 수 있습니다. \n",
    "우리 지식에 기반하여 나올 수 있는 여러 단어들을 후보에 놓고 놓쳤다는 단어가 나올 확률이 가장 높다고 판단한 것 \n",
    "\n",
    "그렇다면 기계에게 위 문장을 주고, '비행기를' 다음에 나올 단어를 예측해보라고 한다면 과연 어떻게 최대한 정확히 예측할 수 있을까요? 기계도 비슷합니다. 앞에 어떤 단어들이 나왔는지 고려하여 후보가 될 수 있는 여러 단어들에 대해서 확률을 예측해보고 가장 높은 확률을 가진 단어를 선택\n",
    "\n",
    "## 5. 구글 검색 엔진 - 자동 뒤 단어 예측"
   ]
  },
  {
   "cell_type": "code",
   "execution_count": null,
   "id": "b86162fa",
   "metadata": {},
   "outputs": [],
   "source": []
  }
 ],
 "metadata": {
  "kernelspec": {
   "display_name": "Python 3 (ipykernel)",
   "language": "python",
   "name": "python3"
  },
  "language_info": {
   "codemirror_mode": {
    "name": "ipython",
    "version": 3
   },
   "file_extension": ".py",
   "mimetype": "text/x-python",
   "name": "python",
   "nbconvert_exporter": "python",
   "pygments_lexer": "ipython3",
   "version": "3.8.16"
  }
 },
 "nbformat": 4,
 "nbformat_minor": 5
}
