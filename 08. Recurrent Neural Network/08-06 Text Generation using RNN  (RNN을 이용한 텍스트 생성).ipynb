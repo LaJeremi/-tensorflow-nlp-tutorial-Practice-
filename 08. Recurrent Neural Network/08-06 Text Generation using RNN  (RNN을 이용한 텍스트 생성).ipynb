{
 "cells": [
  {
   "cell_type": "markdown",
   "id": "1e578c9a",
   "metadata": {},
   "source": [
    "# 08-06 Text Generation using RNN  (RNN을 이용한 텍스트 생성)\n",
    "\n",
    "\n",
    "출처:https://wikidocs.net/45101\n",
    "\n",
    "\n",
    "## 1. 1. RNN을 이용하여 텍스트 생성하기\n",
    "\n",
    "\n",
    "'경마장에 있는 말이 뛰고 있다' \n",
    "'그의 말이 법이다'\n",
    "'가는 말이 고와야 오는 말이 곱다'라는 세 가지 문장\n",
    "\n",
    "모델이 문맥을 학습할 수 있도록 전체 문장의 앞의 단어들을 전부 고려하여 학습하도록 데이터를 재구성한다면 아래와 같이 총 11개의 샘플이 구성됩니다."
   ]
  },
  {
   "cell_type": "code",
   "execution_count": 1,
   "id": "95a5429b",
   "metadata": {},
   "outputs": [],
   "source": [
    "from IPython.display import Image"
   ]
  },
  {
   "cell_type": "code",
   "execution_count": 2,
   "id": "272fdb79",
   "metadata": {
    "scrolled": true
   },
   "outputs": [
    {
     "data": {
      "image/png": "[encoded data removed]",
      "text/plain": [
       "<IPython.core.display.Image object>"
      ]
     },
     "execution_count": 2,
     "metadata": {},
     "output_type": "execute_result"
    }
   ],
   "source": [
    "Image(\"image/08-06-01 Text Generation using RNN.png\")"
   ]
  },
  {
   "cell_type": "markdown",
   "id": "9b556747",
   "metadata": {},
   "source": [
    "## 1) 데이터에 대한 이해와 전처리"
   ]
  },
  {
   "cell_type": "code",
   "execution_count": 3,
   "id": "87dd559f",
   "metadata": {},
   "outputs": [],
   "source": [
    "# 1) 데이터에 대한 이해와 전처리\n",
    "\n",
    "import numpy as np\n",
    "from tensorflow.keras.preprocessing.text import Tokenizer\n",
    "from tensorflow.keras.preprocessing.sequence import pad_sequences\n",
    "from tensorflow.keras.utils import to_categorical"
   ]
  },
  {
   "cell_type": "code",
   "execution_count": 4,
   "id": "31ad7f51",
   "metadata": {},
   "outputs": [],
   "source": [
    "text = \"\"\"경마장에 있는 말이 뛰고 있다\\n\n",
    "그의 말이 법이다\\n\n",
    "가는 말이 고와야 오는 말이 곱다\\n\"\"\"\n",
    "\n",
    "# 우선 예제로 언급한 3개의 한국어 문장을 저장합니다.\n",
    "\n"
   ]
  },
  {
   "cell_type": "code",
   "execution_count": 5,
   "id": "39732a63",
   "metadata": {},
   "outputs": [
    {
     "name": "stdout",
     "output_type": "stream",
     "text": [
      "단어 집합의 크기 : 12\n"
     ]
    }
   ],
   "source": [
    "# 단어 집합을 생성하고 크기를 확인해보겠습니다. \n",
    "# 단어 집합의 크기를 저장할 때는 케라스 토크나이저의 정수 \n",
    "# 인코딩은 인덱스가 1부터 시작하지만, 패딩을 위한 0을 고려하여 +1을 해줍니다.\n",
    "\n",
    "tokenizer = Tokenizer()\n",
    "tokenizer.fit_on_texts([text])\n",
    "vocab_size = len(tokenizer.word_index) + 1\n",
    "print('단어 집합의 크기 : %d' % vocab_size)"
   ]
  },
  {
   "cell_type": "code",
   "execution_count": 6,
   "id": "e457671d",
   "metadata": {},
   "outputs": [
    {
     "name": "stdout",
     "output_type": "stream",
     "text": [
      "{'말이': 1, '경마장에': 2, '있는': 3, '뛰고': 4, '있다': 5, '그의': 6, '법이다': 7, '가는': 8, '고와야': 9, '오는': 10, '곱다': 11}\n"
     ]
    }
   ],
   "source": [
    "# 각 단어와 단어에 부여된 정수 인덱스를 출력해보겠습니다.\n",
    "\n",
    "\n",
    "print(tokenizer.word_index)\n"
   ]
  },
  {
   "cell_type": "code",
   "execution_count": 7,
   "id": "d88fce96",
   "metadata": {},
   "outputs": [
    {
     "name": "stdout",
     "output_type": "stream",
     "text": [
      "학습에 사용할 샘플의 개수: 11\n"
     ]
    }
   ],
   "source": [
    "# 훈련 데이터를 만들어보겠습니다.\n",
    "\n",
    "sequences = list()\n",
    "for line in text.split('\\n'): # 줄바꿈 문자를 기준으로 문장 토큰화\n",
    "    encoded = tokenizer.texts_to_sequences([line])[0]\n",
    "    for i in range(1, len(encoded)):\n",
    "        sequence = encoded[:i+1]\n",
    "        sequences.append(sequence)\n",
    "\n",
    "print('학습에 사용할 샘플의 개수: %d' % len(sequences))"
   ]
  },
  {
   "cell_type": "code",
   "execution_count": 8,
   "id": "b7cf6315",
   "metadata": {},
   "outputs": [
    {
     "name": "stdout",
     "output_type": "stream",
     "text": [
      "[[2, 3], [2, 3, 1], [2, 3, 1, 4], [2, 3, 1, 4, 5], [6, 1], [6, 1, 7], [8, 1], [8, 1, 9], [8, 1, 9, 10], [8, 1, 9, 10, 1], [8, 1, 9, 10, 1, 11]]\n"
     ]
    }
   ],
   "source": [
    "print(sequences)\n",
    "\n",
    "# 위의 데이터는 아직 레이블로 사용될 단어를 분리하지 않은 훈련 데이터입니다. \n",
    "# [2, 3]은 [경마장에, 있는]에 해당되며 [2, 3, 1]은 [경마장에, 있는, 말이]에 해당됩니다. \n",
    "# 전체 훈련 데이터에 대해서 맨 우측에 있는 단어에 대해서만 레이블로 분리해야 합니다.\n",
    "\n",
    "# 현재 육안으로 봤을 때, 길이가 가장 긴 샘플은 [8, 1, 9, 10, 1, 11]이고 길이는 6입니다.\n",
    "# 이를 코드로는 다음과 같이 구할 수 있습니다."
   ]
  },
  {
   "cell_type": "code",
   "execution_count": 9,
   "id": "f0e12cd5",
   "metadata": {},
   "outputs": [
    {
     "name": "stdout",
     "output_type": "stream",
     "text": [
      "샘플의 최대 길이 : 6\n"
     ]
    }
   ],
   "source": [
    "max_len = max(len(l) for l in sequences) # 모든 샘플에서 길이가 가장 긴 샘플의 길이 출력\n",
    "print('샘플의 최대 길이 : {}'.format(max_len))"
   ]
  },
  {
   "cell_type": "code",
   "execution_count": 10,
   "id": "d5e23774",
   "metadata": {},
   "outputs": [],
   "source": [
    "# 전체 훈련 데이터에서 가장 긴 샘플의 길이가 6임을 확인하였습니다. \n",
    "# 전체 샘플의 길이를 6으로 패딩합니다.\n",
    "\n",
    "sequences = pad_sequences(sequences, maxlen=max_len, padding='pre')\n",
    "\n",
    "# pad_sequences()는 모든 샘플에 대해서 0을 사용하여 길이를 맞춰줍니다. \n",
    "# maxlen의 값으로 6을 주면 모든 샘플의 길이를 6으로 맞춰주며, padding의 인자로 'pre'를 주면 길이가 6보다 짧은 샘플의 앞에 0으로 채웁니다.\n",
    "# 전체 훈련 데이터를 출력해봅니다."
   ]
  },
  {
   "cell_type": "code",
   "execution_count": 11,
   "id": "ffbb276d",
   "metadata": {},
   "outputs": [
    {
     "name": "stdout",
     "output_type": "stream",
     "text": [
      "[[ 0  0  0  0  2  3]\n",
      " [ 0  0  0  2  3  1]\n",
      " [ 0  0  2  3  1  4]\n",
      " [ 0  2  3  1  4  5]\n",
      " [ 0  0  0  0  6  1]\n",
      " [ 0  0  0  6  1  7]\n",
      " [ 0  0  0  0  8  1]\n",
      " [ 0  0  0  8  1  9]\n",
      " [ 0  0  8  1  9 10]\n",
      " [ 0  8  1  9 10  1]\n",
      " [ 8  1  9 10  1 11]]\n"
     ]
    }
   ],
   "source": [
    "print(sequences)\n"
   ]
  },
  {
   "cell_type": "code",
   "execution_count": 12,
   "id": "73816b22",
   "metadata": {},
   "outputs": [],
   "source": [
    "# 길이가 6보다 짧은 모든 샘플에 대해서 앞에 0을 채워서 모든 샘플의 길이를 6으로 바꿨습니다. \n",
    "# 이제 각 샘플의 마지막 단어를 레이블로 분리합시다. 레이블의 분리는 Numpy를 이용해서 가능합니다. \n",
    "# 리스트의 마지막 값을 제외하고 저장한 것은 X, \n",
    "# 리스트의 마지막 값만 저장한 것은 y. 이는 레이블에 해당됩니다.\n",
    "\n",
    "sequences = np.array(sequences)\n",
    "X = sequences[:,:-1]\n",
    "y = sequences[:,-1]"
   ]
  },
  {
   "cell_type": "code",
   "execution_count": 13,
   "id": "e4374a1f",
   "metadata": {},
   "outputs": [
    {
     "name": "stdout",
     "output_type": "stream",
     "text": [
      "[[ 0  0  0  0  2]\n",
      " [ 0  0  0  2  3]\n",
      " [ 0  0  2  3  1]\n",
      " [ 0  2  3  1  4]\n",
      " [ 0  0  0  0  6]\n",
      " [ 0  0  0  6  1]\n",
      " [ 0  0  0  0  8]\n",
      " [ 0  0  0  8  1]\n",
      " [ 0  0  8  1  9]\n",
      " [ 0  8  1  9 10]\n",
      " [ 8  1  9 10  1]]\n"
     ]
    }
   ],
   "source": [
    "print(X)\n"
   ]
  },
  {
   "cell_type": "code",
   "execution_count": 14,
   "id": "23d4b1d9",
   "metadata": {},
   "outputs": [
    {
     "name": "stdout",
     "output_type": "stream",
     "text": [
      "[ 3  1  4  5  1  7  1  9 10  1 11]\n"
     ]
    }
   ],
   "source": [
    "print(y)\n",
    "\n",
    "# 레이블이 분리되었습니다. \n",
    "# RNN 모델에 훈련 데이터를 훈련 시키기 전에 레이블에 대해서 원-핫 인코딩을 수행합니다."
   ]
  },
  {
   "cell_type": "code",
   "execution_count": 15,
   "id": "1eeeb201",
   "metadata": {},
   "outputs": [],
   "source": [
    "y = to_categorical(y, num_classes=vocab_size)\n"
   ]
  },
  {
   "cell_type": "code",
   "execution_count": 16,
   "id": "61815a54",
   "metadata": {},
   "outputs": [
    {
     "name": "stdout",
     "output_type": "stream",
     "text": [
      "[[0. 0. 0. 1. 0. 0. 0. 0. 0. 0. 0. 0.]\n",
      " [0. 1. 0. 0. 0. 0. 0. 0. 0. 0. 0. 0.]\n",
      " [0. 0. 0. 0. 1. 0. 0. 0. 0. 0. 0. 0.]\n",
      " [0. 0. 0. 0. 0. 1. 0. 0. 0. 0. 0. 0.]\n",
      " [0. 1. 0. 0. 0. 0. 0. 0. 0. 0. 0. 0.]\n",
      " [0. 0. 0. 0. 0. 0. 0. 1. 0. 0. 0. 0.]\n",
      " [0. 1. 0. 0. 0. 0. 0. 0. 0. 0. 0. 0.]\n",
      " [0. 0. 0. 0. 0. 0. 0. 0. 0. 1. 0. 0.]\n",
      " [0. 0. 0. 0. 0. 0. 0. 0. 0. 0. 1. 0.]\n",
      " [0. 1. 0. 0. 0. 0. 0. 0. 0. 0. 0. 0.]\n",
      " [0. 0. 0. 0. 0. 0. 0. 0. 0. 0. 0. 1.]]\n"
     ]
    }
   ],
   "source": [
    "print(y)\n",
    "\n",
    "# 정상적으로 원-핫 인코딩이 수행된 것을 볼 수 있습니다."
   ]
  },
  {
   "cell_type": "markdown",
   "id": "1038da9b",
   "metadata": {},
   "source": [
    "# 2) 모델 설계하기\n",
    "\n",
    "RNN 모델에 데이터를 훈련시킵니다.\n",
    "\n",
    "하이퍼파라미터인 임베딩 벡터의 차원은 10, 은닉 상태의 크기는 32\n",
    "\n",
    " 다 대 일 구조의 RNN을 사용\n",
    " \n",
    " 전결합층(Fully Connected Layer)을 출력층으로 단어 집합 크기만큼의 뉴런을 배치하여 모델을 설계\n",
    " \n",
    "  다중 클래스 분류 문제를 수행하는 모델\n",
    "  \n",
    "  다중 클래스 분류 문제의 경우, 출력층에 소프트맥스 회귀를 사용해야 하므로 활성화 함수로는 소프트맥스 함수를 사용하고, 손실 함수로 크로스 엔트로피 함수를 사용하여 200 에포크를 수행\n",
    "  "
   ]
  },
  {
   "cell_type": "code",
   "execution_count": 17,
   "id": "f374d6cb",
   "metadata": {},
   "outputs": [],
   "source": [
    "from tensorflow.keras.models import Sequential\n",
    "from tensorflow.keras.layers import Embedding, Dense, SimpleRNN"
   ]
  },
  {
   "cell_type": "code",
   "execution_count": 18,
   "id": "32fcc7a3",
   "metadata": {},
   "outputs": [
    {
     "name": "stdout",
     "output_type": "stream",
     "text": [
      "Epoch 1/200\n",
      "1/1 - 1s - loss: 2.4386 - accuracy: 0.3636 - 826ms/epoch - 826ms/step\n",
      "Epoch 2/200\n",
      "1/1 - 0s - loss: 2.4252 - accuracy: 0.3636 - 6ms/epoch - 6ms/step\n",
      "Epoch 3/200\n",
      "1/1 - 0s - loss: 2.4114 - accuracy: 0.3636 - 0s/epoch - 0s/step\n",
      "Epoch 4/200\n",
      "1/1 - 0s - loss: 2.3974 - accuracy: 0.3636 - 9ms/epoch - 9ms/step\n",
      "Epoch 5/200\n",
      "1/1 - 0s - loss: 2.3829 - accuracy: 0.3636 - 0s/epoch - 0s/step\n",
      "Epoch 6/200\n",
      "1/1 - 0s - loss: 2.3679 - accuracy: 0.3636 - 0s/epoch - 0s/step\n",
      "Epoch 7/200\n",
      "1/1 - 0s - loss: 2.3523 - accuracy: 0.4545 - 13ms/epoch - 13ms/step\n",
      "Epoch 8/200\n",
      "1/1 - 0s - loss: 2.3362 - accuracy: 0.4545 - 0s/epoch - 0s/step\n",
      "Epoch 9/200\n",
      "1/1 - 0s - loss: 2.3194 - accuracy: 0.4545 - 0s/epoch - 0s/step\n",
      "Epoch 10/200\n",
      "1/1 - 0s - loss: 2.3019 - accuracy: 0.4545 - 14ms/epoch - 14ms/step\n",
      "Epoch 11/200\n",
      "1/1 - 0s - loss: 2.2836 - accuracy: 0.4545 - 877us/epoch - 877us/step\n",
      "Epoch 12/200\n",
      "1/1 - 0s - loss: 2.2645 - accuracy: 0.4545 - 0s/epoch - 0s/step\n",
      "Epoch 13/200\n",
      "1/1 - 0s - loss: 2.2446 - accuracy: 0.4545 - 0s/epoch - 0s/step\n",
      "Epoch 14/200\n",
      "1/1 - 0s - loss: 2.2239 - accuracy: 0.4545 - 2ms/epoch - 2ms/step\n",
      "Epoch 15/200\n",
      "1/1 - 0s - loss: 2.2024 - accuracy: 0.4545 - 0s/epoch - 0s/step\n",
      "Epoch 16/200\n",
      "1/1 - 0s - loss: 2.1801 - accuracy: 0.4545 - 0s/epoch - 0s/step\n",
      "Epoch 17/200\n",
      "1/1 - 0s - loss: 2.1570 - accuracy: 0.4545 - 16ms/epoch - 16ms/step\n",
      "Epoch 18/200\n",
      "1/1 - 0s - loss: 2.1332 - accuracy: 0.4545 - 0s/epoch - 0s/step\n",
      "Epoch 19/200\n",
      "1/1 - 0s - loss: 2.1089 - accuracy: 0.4545 - 0s/epoch - 0s/step\n",
      "Epoch 20/200\n",
      "1/1 - 0s - loss: 2.0841 - accuracy: 0.4545 - 13ms/epoch - 13ms/step\n",
      "Epoch 21/200\n",
      "1/1 - 0s - loss: 2.0591 - accuracy: 0.4545 - 889us/epoch - 889us/step\n",
      "Epoch 22/200\n",
      "1/1 - 0s - loss: 2.0340 - accuracy: 0.4545 - 9ms/epoch - 9ms/step\n",
      "Epoch 23/200\n",
      "1/1 - 0s - loss: 2.0091 - accuracy: 0.4545 - 3ms/epoch - 3ms/step\n",
      "Epoch 24/200\n",
      "1/1 - 0s - loss: 1.9847 - accuracy: 0.4545 - 3ms/epoch - 3ms/step\n",
      "Epoch 25/200\n",
      "1/1 - 0s - loss: 1.9609 - accuracy: 0.4545 - 4ms/epoch - 4ms/step\n",
      "Epoch 26/200\n",
      "1/1 - 0s - loss: 1.9380 - accuracy: 0.4545 - 3ms/epoch - 3ms/step\n",
      "Epoch 27/200\n",
      "1/1 - 0s - loss: 1.9162 - accuracy: 0.4545 - 2ms/epoch - 2ms/step\n",
      "Epoch 28/200\n",
      "1/1 - 0s - loss: 1.8956 - accuracy: 0.4545 - 4ms/epoch - 4ms/step\n",
      "Epoch 29/200\n",
      "1/1 - 0s - loss: 1.8762 - accuracy: 0.4545 - 3ms/epoch - 3ms/step\n",
      "Epoch 30/200\n",
      "1/1 - 0s - loss: 1.8579 - accuracy: 0.4545 - 4ms/epoch - 4ms/step\n",
      "Epoch 31/200\n",
      "1/1 - 0s - loss: 1.8404 - accuracy: 0.4545 - 3ms/epoch - 3ms/step\n",
      "Epoch 32/200\n",
      "1/1 - 0s - loss: 1.8235 - accuracy: 0.4545 - 3ms/epoch - 3ms/step\n",
      "Epoch 33/200\n",
      "1/1 - 0s - loss: 1.8069 - accuracy: 0.4545 - 4ms/epoch - 4ms/step\n",
      "Epoch 34/200\n",
      "1/1 - 0s - loss: 1.7902 - accuracy: 0.4545 - 3ms/epoch - 3ms/step\n",
      "Epoch 35/200\n",
      "1/1 - 0s - loss: 1.7733 - accuracy: 0.4545 - 3ms/epoch - 3ms/step\n",
      "Epoch 36/200\n",
      "1/1 - 0s - loss: 1.7558 - accuracy: 0.4545 - 4ms/epoch - 4ms/step\n",
      "Epoch 37/200\n",
      "1/1 - 0s - loss: 1.7378 - accuracy: 0.4545 - 3ms/epoch - 3ms/step\n",
      "Epoch 38/200\n",
      "1/1 - 0s - loss: 1.7191 - accuracy: 0.4545 - 3ms/epoch - 3ms/step\n",
      "Epoch 39/200\n",
      "1/1 - 0s - loss: 1.6998 - accuracy: 0.4545 - 3ms/epoch - 3ms/step\n",
      "Epoch 40/200\n",
      "1/1 - 0s - loss: 1.6800 - accuracy: 0.4545 - 3ms/epoch - 3ms/step\n",
      "Epoch 41/200\n",
      "1/1 - 0s - loss: 1.6599 - accuracy: 0.4545 - 3ms/epoch - 3ms/step\n",
      "Epoch 42/200\n",
      "1/1 - 0s - loss: 1.6395 - accuracy: 0.4545 - 3ms/epoch - 3ms/step\n",
      "Epoch 43/200\n",
      "1/1 - 0s - loss: 1.6189 - accuracy: 0.4545 - 3ms/epoch - 3ms/step\n",
      "Epoch 44/200\n",
      "1/1 - 0s - loss: 1.5983 - accuracy: 0.4545 - 3ms/epoch - 3ms/step\n",
      "Epoch 45/200\n",
      "1/1 - 0s - loss: 1.5777 - accuracy: 0.4545 - 3ms/epoch - 3ms/step\n",
      "Epoch 46/200\n",
      "1/1 - 0s - loss: 1.5571 - accuracy: 0.4545 - 3ms/epoch - 3ms/step\n",
      "Epoch 47/200\n",
      "1/1 - 0s - loss: 1.5364 - accuracy: 0.4545 - 2ms/epoch - 2ms/step\n",
      "Epoch 48/200\n",
      "1/1 - 0s - loss: 1.5157 - accuracy: 0.4545 - 4ms/epoch - 4ms/step\n",
      "Epoch 49/200\n",
      "1/1 - 0s - loss: 1.4949 - accuracy: 0.4545 - 2ms/epoch - 2ms/step\n",
      "Epoch 50/200\n",
      "1/1 - 0s - loss: 1.4739 - accuracy: 0.4545 - 3ms/epoch - 3ms/step\n",
      "Epoch 51/200\n",
      "1/1 - 0s - loss: 1.4527 - accuracy: 0.4545 - 3ms/epoch - 3ms/step\n",
      "Epoch 52/200\n",
      "1/1 - 0s - loss: 1.4314 - accuracy: 0.4545 - 4ms/epoch - 4ms/step\n",
      "Epoch 53/200\n",
      "1/1 - 0s - loss: 1.4099 - accuracy: 0.4545 - 3ms/epoch - 3ms/step\n",
      "Epoch 54/200\n",
      "1/1 - 0s - loss: 1.3883 - accuracy: 0.4545 - 3ms/epoch - 3ms/step\n",
      "Epoch 55/200\n",
      "1/1 - 0s - loss: 1.3666 - accuracy: 0.4545 - 4ms/epoch - 4ms/step\n",
      "Epoch 56/200\n",
      "1/1 - 0s - loss: 1.3450 - accuracy: 0.4545 - 3ms/epoch - 3ms/step\n",
      "Epoch 57/200\n",
      "1/1 - 0s - loss: 1.3236 - accuracy: 0.4545 - 3ms/epoch - 3ms/step\n",
      "Epoch 58/200\n",
      "1/1 - 0s - loss: 1.3023 - accuracy: 0.4545 - 3ms/epoch - 3ms/step\n",
      "Epoch 59/200\n",
      "1/1 - 0s - loss: 1.2813 - accuracy: 0.4545 - 3ms/epoch - 3ms/step\n",
      "Epoch 60/200\n",
      "1/1 - 0s - loss: 1.2606 - accuracy: 0.6364 - 2ms/epoch - 2ms/step\n",
      "Epoch 61/200\n",
      "1/1 - 0s - loss: 1.2401 - accuracy: 0.6364 - 3ms/epoch - 3ms/step\n",
      "Epoch 62/200\n",
      "1/1 - 0s - loss: 1.2200 - accuracy: 0.6364 - 3ms/epoch - 3ms/step\n",
      "Epoch 63/200\n",
      "1/1 - 0s - loss: 1.2001 - accuracy: 0.6364 - 3ms/epoch - 3ms/step\n",
      "Epoch 64/200\n",
      "1/1 - 0s - loss: 1.1804 - accuracy: 0.6364 - 3ms/epoch - 3ms/step\n",
      "Epoch 65/200\n",
      "1/1 - 0s - loss: 1.1610 - accuracy: 0.6364 - 3ms/epoch - 3ms/step\n",
      "Epoch 66/200\n",
      "1/1 - 0s - loss: 1.1417 - accuracy: 0.6364 - 3ms/epoch - 3ms/step\n",
      "Epoch 67/200\n",
      "1/1 - 0s - loss: 1.1226 - accuracy: 0.6364 - 3ms/epoch - 3ms/step\n",
      "Epoch 68/200\n",
      "1/1 - 0s - loss: 1.1036 - accuracy: 0.6364 - 3ms/epoch - 3ms/step\n",
      "Epoch 69/200\n",
      "1/1 - 0s - loss: 1.0848 - accuracy: 0.6364 - 3ms/epoch - 3ms/step\n",
      "Epoch 70/200\n",
      "1/1 - 0s - loss: 1.0662 - accuracy: 0.6364 - 3ms/epoch - 3ms/step\n",
      "Epoch 71/200\n",
      "1/1 - 0s - loss: 1.0477 - accuracy: 0.7273 - 3ms/epoch - 3ms/step\n",
      "Epoch 72/200\n",
      "1/1 - 0s - loss: 1.0294 - accuracy: 0.7273 - 3ms/epoch - 3ms/step\n",
      "Epoch 73/200\n",
      "1/1 - 0s - loss: 1.0112 - accuracy: 0.7273 - 2ms/epoch - 2ms/step\n",
      "Epoch 74/200\n",
      "1/1 - 0s - loss: 0.9931 - accuracy: 0.7273 - 3ms/epoch - 3ms/step\n",
      "Epoch 75/200\n",
      "1/1 - 0s - loss: 0.9751 - accuracy: 0.7273 - 3ms/epoch - 3ms/step\n",
      "Epoch 76/200\n",
      "1/1 - 0s - loss: 0.9573 - accuracy: 0.7273 - 3ms/epoch - 3ms/step\n",
      "Epoch 77/200\n",
      "1/1 - 0s - loss: 0.9395 - accuracy: 0.7273 - 2ms/epoch - 2ms/step\n",
      "Epoch 78/200\n",
      "1/1 - 0s - loss: 0.9218 - accuracy: 0.7273 - 3ms/epoch - 3ms/step\n",
      "Epoch 79/200\n",
      "1/1 - 0s - loss: 0.9042 - accuracy: 0.7273 - 3ms/epoch - 3ms/step\n",
      "Epoch 80/200\n",
      "1/1 - 0s - loss: 0.8868 - accuracy: 0.7273 - 3ms/epoch - 3ms/step\n",
      "Epoch 81/200\n",
      "1/1 - 0s - loss: 0.8695 - accuracy: 0.7273 - 3ms/epoch - 3ms/step\n",
      "Epoch 82/200\n",
      "1/1 - 0s - loss: 0.8523 - accuracy: 0.8182 - 3ms/epoch - 3ms/step\n",
      "Epoch 83/200\n",
      "1/1 - 0s - loss: 0.8353 - accuracy: 0.8182 - 3ms/epoch - 3ms/step\n",
      "Epoch 84/200\n",
      "1/1 - 0s - loss: 0.8185 - accuracy: 0.8182 - 3ms/epoch - 3ms/step\n",
      "Epoch 85/200\n",
      "1/1 - 0s - loss: 0.8019 - accuracy: 0.8182 - 4ms/epoch - 4ms/step\n",
      "Epoch 86/200\n",
      "1/1 - 0s - loss: 0.7855 - accuracy: 0.8182 - 4ms/epoch - 4ms/step\n",
      "Epoch 87/200\n",
      "1/1 - 0s - loss: 0.7693 - accuracy: 0.8182 - 3ms/epoch - 3ms/step\n",
      "Epoch 88/200\n",
      "1/1 - 0s - loss: 0.7534 - accuracy: 0.8182 - 3ms/epoch - 3ms/step\n",
      "Epoch 89/200\n",
      "1/1 - 0s - loss: 0.7376 - accuracy: 0.8182 - 3ms/epoch - 3ms/step\n",
      "Epoch 90/200\n",
      "1/1 - 0s - loss: 0.7222 - accuracy: 0.8182 - 3ms/epoch - 3ms/step\n",
      "Epoch 91/200\n",
      "1/1 - 0s - loss: 0.7069 - accuracy: 0.8182 - 2ms/epoch - 2ms/step\n",
      "Epoch 92/200\n",
      "1/1 - 0s - loss: 0.6919 - accuracy: 0.8182 - 3ms/epoch - 3ms/step\n",
      "Epoch 93/200\n",
      "1/1 - 0s - loss: 0.6772 - accuracy: 0.8182 - 3ms/epoch - 3ms/step\n",
      "Epoch 94/200\n",
      "1/1 - 0s - loss: 0.6628 - accuracy: 0.8182 - 2ms/epoch - 2ms/step\n",
      "Epoch 95/200\n",
      "1/1 - 0s - loss: 0.6486 - accuracy: 0.8182 - 3ms/epoch - 3ms/step\n",
      "Epoch 96/200\n",
      "1/1 - 0s - loss: 0.6347 - accuracy: 0.8182 - 3ms/epoch - 3ms/step\n",
      "Epoch 97/200\n",
      "1/1 - 0s - loss: 0.6210 - accuracy: 0.8182 - 3ms/epoch - 3ms/step\n",
      "Epoch 98/200\n",
      "1/1 - 0s - loss: 0.6077 - accuracy: 0.8182 - 3ms/epoch - 3ms/step\n",
      "Epoch 99/200\n",
      "1/1 - 0s - loss: 0.5945 - accuracy: 0.8182 - 2ms/epoch - 2ms/step\n",
      "Epoch 100/200\n",
      "1/1 - 0s - loss: 0.5817 - accuracy: 0.8182 - 3ms/epoch - 3ms/step\n",
      "Epoch 101/200\n",
      "1/1 - 0s - loss: 0.5691 - accuracy: 0.9091 - 3ms/epoch - 3ms/step\n",
      "Epoch 102/200\n",
      "1/1 - 0s - loss: 0.5568 - accuracy: 0.9091 - 3ms/epoch - 3ms/step\n",
      "Epoch 103/200\n",
      "1/1 - 0s - loss: 0.5448 - accuracy: 0.9091 - 3ms/epoch - 3ms/step\n",
      "Epoch 104/200\n",
      "1/1 - 0s - loss: 0.5330 - accuracy: 0.9091 - 2ms/epoch - 2ms/step\n"
     ]
    },
    {
     "name": "stdout",
     "output_type": "stream",
     "text": [
      "Epoch 105/200\n",
      "1/1 - 0s - loss: 0.5214 - accuracy: 0.9091 - 3ms/epoch - 3ms/step\n",
      "Epoch 106/200\n",
      "1/1 - 0s - loss: 0.5102 - accuracy: 0.9091 - 3ms/epoch - 3ms/step\n",
      "Epoch 107/200\n",
      "1/1 - 0s - loss: 0.4992 - accuracy: 0.9091 - 3ms/epoch - 3ms/step\n",
      "Epoch 108/200\n",
      "1/1 - 0s - loss: 0.4884 - accuracy: 0.9091 - 3ms/epoch - 3ms/step\n",
      "Epoch 109/200\n",
      "1/1 - 0s - loss: 0.4779 - accuracy: 0.9091 - 3ms/epoch - 3ms/step\n",
      "Epoch 110/200\n",
      "1/1 - 0s - loss: 0.4676 - accuracy: 0.9091 - 3ms/epoch - 3ms/step\n",
      "Epoch 111/200\n",
      "1/1 - 0s - loss: 0.4576 - accuracy: 0.9091 - 2ms/epoch - 2ms/step\n",
      "Epoch 112/200\n",
      "1/1 - 0s - loss: 0.4478 - accuracy: 0.9091 - 2ms/epoch - 2ms/step\n",
      "Epoch 113/200\n",
      "1/1 - 0s - loss: 0.4382 - accuracy: 0.9091 - 4ms/epoch - 4ms/step\n",
      "Epoch 114/200\n",
      "1/1 - 0s - loss: 0.4289 - accuracy: 0.9091 - 2ms/epoch - 2ms/step\n",
      "Epoch 115/200\n",
      "1/1 - 0s - loss: 0.4197 - accuracy: 0.9091 - 3ms/epoch - 3ms/step\n",
      "Epoch 116/200\n",
      "1/1 - 0s - loss: 0.4108 - accuracy: 0.9091 - 4ms/epoch - 4ms/step\n",
      "Epoch 117/200\n",
      "1/1 - 0s - loss: 0.4021 - accuracy: 0.9091 - 3ms/epoch - 3ms/step\n",
      "Epoch 118/200\n",
      "1/1 - 0s - loss: 0.3936 - accuracy: 1.0000 - 3ms/epoch - 3ms/step\n",
      "Epoch 119/200\n",
      "1/1 - 0s - loss: 0.3853 - accuracy: 1.0000 - 3ms/epoch - 3ms/step\n",
      "Epoch 120/200\n",
      "1/1 - 0s - loss: 0.3771 - accuracy: 1.0000 - 3ms/epoch - 3ms/step\n",
      "Epoch 121/200\n",
      "1/1 - 0s - loss: 0.3692 - accuracy: 1.0000 - 2ms/epoch - 2ms/step\n",
      "Epoch 122/200\n",
      "1/1 - 0s - loss: 0.3614 - accuracy: 1.0000 - 2ms/epoch - 2ms/step\n",
      "Epoch 123/200\n",
      "1/1 - 0s - loss: 0.3539 - accuracy: 1.0000 - 2ms/epoch - 2ms/step\n",
      "Epoch 124/200\n",
      "1/1 - 0s - loss: 0.3465 - accuracy: 1.0000 - 3ms/epoch - 3ms/step\n",
      "Epoch 125/200\n",
      "1/1 - 0s - loss: 0.3392 - accuracy: 1.0000 - 3ms/epoch - 3ms/step\n",
      "Epoch 126/200\n",
      "1/1 - 0s - loss: 0.3321 - accuracy: 1.0000 - 3ms/epoch - 3ms/step\n",
      "Epoch 127/200\n",
      "1/1 - 0s - loss: 0.3252 - accuracy: 1.0000 - 3ms/epoch - 3ms/step\n",
      "Epoch 128/200\n",
      "1/1 - 0s - loss: 0.3184 - accuracy: 1.0000 - 3ms/epoch - 3ms/step\n",
      "Epoch 129/200\n",
      "1/1 - 0s - loss: 0.3118 - accuracy: 1.0000 - 2ms/epoch - 2ms/step\n",
      "Epoch 130/200\n",
      "1/1 - 0s - loss: 0.3054 - accuracy: 1.0000 - 2ms/epoch - 2ms/step\n",
      "Epoch 131/200\n",
      "1/1 - 0s - loss: 0.2990 - accuracy: 1.0000 - 3ms/epoch - 3ms/step\n",
      "Epoch 132/200\n",
      "1/1 - 0s - loss: 0.2928 - accuracy: 1.0000 - 3ms/epoch - 3ms/step\n",
      "Epoch 133/200\n",
      "1/1 - 0s - loss: 0.2868 - accuracy: 1.0000 - 3ms/epoch - 3ms/step\n",
      "Epoch 134/200\n",
      "1/1 - 0s - loss: 0.2809 - accuracy: 1.0000 - 2ms/epoch - 2ms/step\n",
      "Epoch 135/200\n",
      "1/1 - 0s - loss: 0.2751 - accuracy: 1.0000 - 3ms/epoch - 3ms/step\n",
      "Epoch 136/200\n",
      "1/1 - 0s - loss: 0.2694 - accuracy: 1.0000 - 3ms/epoch - 3ms/step\n",
      "Epoch 137/200\n",
      "1/1 - 0s - loss: 0.2639 - accuracy: 1.0000 - 3ms/epoch - 3ms/step\n",
      "Epoch 138/200\n",
      "1/1 - 0s - loss: 0.2585 - accuracy: 1.0000 - 3ms/epoch - 3ms/step\n",
      "Epoch 139/200\n",
      "1/1 - 0s - loss: 0.2532 - accuracy: 1.0000 - 3ms/epoch - 3ms/step\n",
      "Epoch 140/200\n",
      "1/1 - 0s - loss: 0.2480 - accuracy: 1.0000 - 3ms/epoch - 3ms/step\n",
      "Epoch 141/200\n",
      "1/1 - 0s - loss: 0.2429 - accuracy: 1.0000 - 3ms/epoch - 3ms/step\n",
      "Epoch 142/200\n",
      "1/1 - 0s - loss: 0.2379 - accuracy: 1.0000 - 3ms/epoch - 3ms/step\n",
      "Epoch 143/200\n",
      "1/1 - 0s - loss: 0.2330 - accuracy: 1.0000 - 3ms/epoch - 3ms/step\n",
      "Epoch 144/200\n",
      "1/1 - 0s - loss: 0.2283 - accuracy: 1.0000 - 3ms/epoch - 3ms/step\n",
      "Epoch 145/200\n",
      "1/1 - 0s - loss: 0.2236 - accuracy: 1.0000 - 3ms/epoch - 3ms/step\n",
      "Epoch 146/200\n",
      "1/1 - 0s - loss: 0.2191 - accuracy: 1.0000 - 4ms/epoch - 4ms/step\n",
      "Epoch 147/200\n",
      "1/1 - 0s - loss: 0.2146 - accuracy: 1.0000 - 0s/epoch - 0s/step\n",
      "Epoch 148/200\n",
      "1/1 - 0s - loss: 0.2103 - accuracy: 1.0000 - 0s/epoch - 0s/step\n",
      "Epoch 149/200\n",
      "1/1 - 0s - loss: 0.2060 - accuracy: 1.0000 - 0s/epoch - 0s/step\n",
      "Epoch 150/200\n",
      "1/1 - 0s - loss: 0.2018 - accuracy: 1.0000 - 3ms/epoch - 3ms/step\n",
      "Epoch 151/200\n",
      "1/1 - 0s - loss: 0.1977 - accuracy: 1.0000 - 0s/epoch - 0s/step\n",
      "Epoch 152/200\n",
      "1/1 - 0s - loss: 0.1937 - accuracy: 1.0000 - 0s/epoch - 0s/step\n",
      "Epoch 153/200\n",
      "1/1 - 0s - loss: 0.1898 - accuracy: 1.0000 - 0s/epoch - 0s/step\n",
      "Epoch 154/200\n",
      "1/1 - 0s - loss: 0.1860 - accuracy: 1.0000 - 2ms/epoch - 2ms/step\n",
      "Epoch 155/200\n",
      "1/1 - 0s - loss: 0.1822 - accuracy: 1.0000 - 0s/epoch - 0s/step\n",
      "Epoch 156/200\n",
      "1/1 - 0s - loss: 0.1786 - accuracy: 1.0000 - 0s/epoch - 0s/step\n",
      "Epoch 157/200\n",
      "1/1 - 0s - loss: 0.1750 - accuracy: 1.0000 - 14ms/epoch - 14ms/step\n",
      "Epoch 158/200\n",
      "1/1 - 0s - loss: 0.1715 - accuracy: 1.0000 - 981us/epoch - 981us/step\n",
      "Epoch 159/200\n",
      "1/1 - 0s - loss: 0.1681 - accuracy: 1.0000 - 0s/epoch - 0s/step\n",
      "Epoch 160/200\n",
      "1/1 - 0s - loss: 0.1647 - accuracy: 1.0000 - 11ms/epoch - 11ms/step\n",
      "Epoch 161/200\n",
      "1/1 - 0s - loss: 0.1615 - accuracy: 1.0000 - 3ms/epoch - 3ms/step\n",
      "Epoch 162/200\n",
      "1/1 - 0s - loss: 0.1583 - accuracy: 1.0000 - 3ms/epoch - 3ms/step\n",
      "Epoch 163/200\n",
      "1/1 - 0s - loss: 0.1551 - accuracy: 1.0000 - 3ms/epoch - 3ms/step\n",
      "Epoch 164/200\n",
      "1/1 - 0s - loss: 0.1521 - accuracy: 1.0000 - 3ms/epoch - 3ms/step\n",
      "Epoch 165/200\n",
      "1/1 - 0s - loss: 0.1491 - accuracy: 1.0000 - 3ms/epoch - 3ms/step\n",
      "Epoch 166/200\n",
      "1/1 - 0s - loss: 0.1462 - accuracy: 1.0000 - 0s/epoch - 0s/step\n",
      "Epoch 167/200\n",
      "1/1 - 0s - loss: 0.1433 - accuracy: 1.0000 - 0s/epoch - 0s/step\n",
      "Epoch 168/200\n",
      "1/1 - 0s - loss: 0.1405 - accuracy: 1.0000 - 0s/epoch - 0s/step\n",
      "Epoch 169/200\n",
      "1/1 - 0s - loss: 0.1378 - accuracy: 1.0000 - 2ms/epoch - 2ms/step\n",
      "Epoch 170/200\n",
      "1/1 - 0s - loss: 0.1352 - accuracy: 1.0000 - 0s/epoch - 0s/step\n",
      "Epoch 171/200\n",
      "1/1 - 0s - loss: 0.1326 - accuracy: 1.0000 - 3ms/epoch - 3ms/step\n",
      "Epoch 172/200\n",
      "1/1 - 0s - loss: 0.1300 - accuracy: 1.0000 - 3ms/epoch - 3ms/step\n",
      "Epoch 173/200\n",
      "1/1 - 0s - loss: 0.1275 - accuracy: 1.0000 - 3ms/epoch - 3ms/step\n",
      "Epoch 174/200\n",
      "1/1 - 0s - loss: 0.1251 - accuracy: 1.0000 - 3ms/epoch - 3ms/step\n",
      "Epoch 175/200\n",
      "1/1 - 0s - loss: 0.1228 - accuracy: 1.0000 - 2ms/epoch - 2ms/step\n",
      "Epoch 176/200\n",
      "1/1 - 0s - loss: 0.1205 - accuracy: 1.0000 - 4ms/epoch - 4ms/step\n",
      "Epoch 177/200\n",
      "1/1 - 0s - loss: 0.1182 - accuracy: 1.0000 - 3ms/epoch - 3ms/step\n",
      "Epoch 178/200\n",
      "1/1 - 0s - loss: 0.1160 - accuracy: 1.0000 - 3ms/epoch - 3ms/step\n",
      "Epoch 179/200\n",
      "1/1 - 0s - loss: 0.1139 - accuracy: 1.0000 - 3ms/epoch - 3ms/step\n",
      "Epoch 180/200\n",
      "1/1 - 0s - loss: 0.1118 - accuracy: 1.0000 - 5ms/epoch - 5ms/step\n",
      "Epoch 181/200\n",
      "1/1 - 0s - loss: 0.1097 - accuracy: 1.0000 - 3ms/epoch - 3ms/step\n",
      "Epoch 182/200\n",
      "1/1 - 0s - loss: 0.1077 - accuracy: 1.0000 - 2ms/epoch - 2ms/step\n",
      "Epoch 183/200\n",
      "1/1 - 0s - loss: 0.1058 - accuracy: 1.0000 - 3ms/epoch - 3ms/step\n",
      "Epoch 184/200\n",
      "1/1 - 0s - loss: 0.1039 - accuracy: 1.0000 - 3ms/epoch - 3ms/step\n",
      "Epoch 185/200\n",
      "1/1 - 0s - loss: 0.1020 - accuracy: 1.0000 - 3ms/epoch - 3ms/step\n",
      "Epoch 186/200\n",
      "1/1 - 0s - loss: 0.1002 - accuracy: 1.0000 - 3ms/epoch - 3ms/step\n",
      "Epoch 187/200\n",
      "1/1 - 0s - loss: 0.0984 - accuracy: 1.0000 - 3ms/epoch - 3ms/step\n",
      "Epoch 188/200\n",
      "1/1 - 0s - loss: 0.0967 - accuracy: 1.0000 - 2ms/epoch - 2ms/step\n",
      "Epoch 189/200\n",
      "1/1 - 0s - loss: 0.0950 - accuracy: 1.0000 - 3ms/epoch - 3ms/step\n",
      "Epoch 190/200\n",
      "1/1 - 0s - loss: 0.0934 - accuracy: 1.0000 - 4ms/epoch - 4ms/step\n",
      "Epoch 191/200\n",
      "1/1 - 0s - loss: 0.0918 - accuracy: 1.0000 - 0s/epoch - 0s/step\n",
      "Epoch 192/200\n",
      "1/1 - 0s - loss: 0.0902 - accuracy: 1.0000 - 0s/epoch - 0s/step\n",
      "Epoch 193/200\n",
      "1/1 - 0s - loss: 0.0887 - accuracy: 1.0000 - 14ms/epoch - 14ms/step\n",
      "Epoch 194/200\n",
      "1/1 - 0s - loss: 0.0872 - accuracy: 1.0000 - 3ms/epoch - 3ms/step\n",
      "Epoch 195/200\n",
      "1/1 - 0s - loss: 0.0857 - accuracy: 1.0000 - 3ms/epoch - 3ms/step\n",
      "Epoch 196/200\n",
      "1/1 - 0s - loss: 0.0843 - accuracy: 1.0000 - 3ms/epoch - 3ms/step\n",
      "Epoch 197/200\n",
      "1/1 - 0s - loss: 0.0829 - accuracy: 1.0000 - 3ms/epoch - 3ms/step\n",
      "Epoch 198/200\n",
      "1/1 - 0s - loss: 0.0816 - accuracy: 1.0000 - 2ms/epoch - 2ms/step\n",
      "Epoch 199/200\n",
      "1/1 - 0s - loss: 0.0802 - accuracy: 1.0000 - 3ms/epoch - 3ms/step\n",
      "Epoch 200/200\n",
      "1/1 - 0s - loss: 0.0789 - accuracy: 1.0000 - 3ms/epoch - 3ms/step\n"
     ]
    },
    {
     "data": {
      "text/plain": [
       "<keras.callbacks.History at 0x1f41addb850>"
      ]
     },
     "execution_count": 18,
     "metadata": {},
     "output_type": "execute_result"
    }
   ],
   "source": [
    "embedding_dim = 10\n",
    "hidden_units = 32\n",
    "\n",
    "model = Sequential()\n",
    "model.add(Embedding(vocab_size, embedding_dim))\n",
    "model.add(SimpleRNN(hidden_units))\n",
    "model.add(Dense(vocab_size, activation='softmax'))\n",
    "model.compile(loss='categorical_crossentropy', optimizer='adam', metrics=['accuracy'])\n",
    "model.fit(X, y, epochs=200, verbose=2)"
   ]
  },
  {
   "cell_type": "code",
   "execution_count": 19,
   "id": "608333b0",
   "metadata": {},
   "outputs": [],
   "source": [
    "# 모델이 정확하게 예측하고 있는지 문장을 생성하는 함수를 만들어서 출력해봅시다.\n",
    "\n",
    "def sentence_generation(model, tokenizer, current_word, n): # 모델, 토크나이저, 현재 단어, 반복할 횟수\n",
    "    init_word = current_word\n",
    "    sentence = ''\n",
    "\n",
    "    # n번 반복\n",
    "    for _ in range(n):\n",
    "        # 현재 단어에 대한 정수 인코딩과 패딩\n",
    "        encoded = tokenizer.texts_to_sequences([current_word])[0]\n",
    "        encoded = pad_sequences([encoded], maxlen=5, padding='pre')\n",
    "        # 입력한 X(현재 단어)에 대해서 Y를 예측하고 Y(예측한 단어)를 result에 저장.\n",
    "        result = model.predict(encoded, verbose=0)\n",
    "        result = np.argmax(result, axis=1)\n",
    "\n",
    "        for word, index in tokenizer.word_index.items(): \n",
    "            # 만약 예측한 단어와 인덱스와 동일한 단어가 있다면 break\n",
    "            if index == result:\n",
    "                break\n",
    "\n",
    "        # 현재 단어 + ' ' + 예측 단어를 현재 단어로 변경\n",
    "        current_word = current_word + ' '  + word\n",
    "\n",
    "        # 예측 단어를 문장에 저장\n",
    "        sentence = sentence + ' ' + word\n",
    "\n",
    "    sentence = init_word + sentence\n",
    "    return sentence"
   ]
  },
  {
   "cell_type": "code",
   "execution_count": 20,
   "id": "eecc56a9",
   "metadata": {},
   "outputs": [
    {
     "name": "stdout",
     "output_type": "stream",
     "text": [
      "경마장에 있는 말이 뛰고 있다\n"
     ]
    }
   ],
   "source": [
    "# 입력된 단어로부터 다음 단어를 예측해서 문장을 생성하는 함수를 만들었습니다. \n",
    "# '경마장에' 라는 단어 뒤에는 총 4개의 단어가 있으므로 4번 예측해봅시다.\n",
    "\n",
    "print(sentence_generation(model, tokenizer, '경마장에', 4))\n"
   ]
  },
  {
   "cell_type": "code",
   "execution_count": 21,
   "id": "16d8c296",
   "metadata": {},
   "outputs": [
    {
     "name": "stdout",
     "output_type": "stream",
     "text": [
      "그의 말이 법이다\n"
     ]
    }
   ],
   "source": [
    "print(sentence_generation(model, tokenizer, '그의', 2))\n"
   ]
  },
  {
   "cell_type": "code",
   "execution_count": 22,
   "id": "cca46dae",
   "metadata": {},
   "outputs": [
    {
     "name": "stdout",
     "output_type": "stream",
     "text": [
      "가는 말이 고와야 오는 말이 곱다\n"
     ]
    }
   ],
   "source": [
    "print(sentence_generation(model, tokenizer, '가는', 5))\n"
   ]
  },
  {
   "cell_type": "markdown",
   "id": "6f2e7d73",
   "metadata": {},
   "source": [
    "충분한 훈련 데이터를 갖고 있지 못하므로 위에서 문장의 길이에 맞게 적절하게 예측해야하는 횟수 4, 2, 5를 각각 인자값으로 주었습니다.\n",
    "\n",
    "이 이상의 숫자를 주면 기계는 '있다', '법이다', '곱다' 다음에 나오는 단어가 무엇인지 배운 적이 없으므로 임의 예측\n",
    "\n",
    "# 2. LSTM을 이용하여 텍스트 생성하기\n",
    "\n",
    "\n",
    "이번에는 LSTM을 통해 보다 많은 데이터로 텍스트를 생성해보겠습니다. 본질적으로 앞에서 한 것과 동일한 실습입니다.\n",
    "\n",
    "## 1) 데이터에 대한 이해와 전처리\n",
    "\n",
    "사용할 데이터는 뉴욕 타임즈 기사의 제목입니다. 아래의 링크에서 ArticlesApril2018.csv 데이터를 다운로드 합니다.\n",
    "\n"
   ]
  },
  {
   "cell_type": "code",
   "execution_count": 23,
   "id": "429bde62",
   "metadata": {},
   "outputs": [],
   "source": [
    "import pandas as pd\n",
    "import numpy as np\n",
    "from string import punctuation\n",
    "\n",
    "from tensorflow.keras.preprocessing.text import Tokenizer\n",
    "from tensorflow.keras.preprocessing.sequence import pad_sequences\n",
    "from tensorflow.keras.utils import to_categorical"
   ]
  },
  {
   "cell_type": "code",
   "execution_count": 25,
   "id": "f88952bf",
   "metadata": {},
   "outputs": [
    {
     "data": {
      "text/html": [
       "<div>\n",
       "<style scoped>\n",
       "    .dataframe tbody tr th:only-of-type {\n",
       "        vertical-align: middle;\n",
       "    }\n",
       "\n",
       "    .dataframe tbody tr th {\n",
       "        vertical-align: top;\n",
       "    }\n",
       "\n",
       "    .dataframe thead th {\n",
       "        text-align: right;\n",
       "    }\n",
       "</style>\n",
       "<table border=\"1\" class=\"dataframe\">\n",
       "  <thead>\n",
       "    <tr style=\"text-align: right;\">\n",
       "      <th></th>\n",
       "      <th>articleID</th>\n",
       "      <th>articleWordCount</th>\n",
       "      <th>byline</th>\n",
       "      <th>documentType</th>\n",
       "      <th>headline</th>\n",
       "      <th>keywords</th>\n",
       "      <th>multimedia</th>\n",
       "      <th>newDesk</th>\n",
       "      <th>printPage</th>\n",
       "      <th>pubDate</th>\n",
       "      <th>sectionName</th>\n",
       "      <th>snippet</th>\n",
       "      <th>source</th>\n",
       "      <th>typeOfMaterial</th>\n",
       "      <th>webURL</th>\n",
       "    </tr>\n",
       "  </thead>\n",
       "  <tbody>\n",
       "    <tr>\n",
       "      <th>0</th>\n",
       "      <td>5adf6684068401528a2aa69b</td>\n",
       "      <td>781</td>\n",
       "      <td>By JOHN BRANCH</td>\n",
       "      <td>article</td>\n",
       "      <td>Former N.F.L. Cheerleaders’ Settlement Offer: ...</td>\n",
       "      <td>['Workplace Hazards and Violations', 'Football...</td>\n",
       "      <td>68</td>\n",
       "      <td>Sports</td>\n",
       "      <td>0</td>\n",
       "      <td>2018-04-24 17:16:49</td>\n",
       "      <td>Pro Football</td>\n",
       "      <td>“I understand that they could meet with us, pa...</td>\n",
       "      <td>The New York Times</td>\n",
       "      <td>News</td>\n",
       "      <td>https://www.nytimes.com/2018/04/24/sports/foot...</td>\n",
       "    </tr>\n",
       "    <tr>\n",
       "      <th>1</th>\n",
       "      <td>5adf653f068401528a2aa697</td>\n",
       "      <td>656</td>\n",
       "      <td>By LISA FRIEDMAN</td>\n",
       "      <td>article</td>\n",
       "      <td>E.P.A. to Unveil a New Rule. Its Effect: Less ...</td>\n",
       "      <td>['Environmental Protection Agency', 'Pruitt, S...</td>\n",
       "      <td>68</td>\n",
       "      <td>Climate</td>\n",
       "      <td>0</td>\n",
       "      <td>2018-04-24 17:11:21</td>\n",
       "      <td>Unknown</td>\n",
       "      <td>The agency plans to publish a new regulation T...</td>\n",
       "      <td>The New York Times</td>\n",
       "      <td>News</td>\n",
       "      <td>https://www.nytimes.com/2018/04/24/climate/epa...</td>\n",
       "    </tr>\n",
       "    <tr>\n",
       "      <th>2</th>\n",
       "      <td>5adf4626068401528a2aa628</td>\n",
       "      <td>2427</td>\n",
       "      <td>By PETE WELLS</td>\n",
       "      <td>article</td>\n",
       "      <td>The New Noma, Explained</td>\n",
       "      <td>['Restaurants', 'Noma (Copenhagen, Restaurant)...</td>\n",
       "      <td>66</td>\n",
       "      <td>Dining</td>\n",
       "      <td>0</td>\n",
       "      <td>2018-04-24 14:58:44</td>\n",
       "      <td>Unknown</td>\n",
       "      <td>What’s it like to eat at the second incarnatio...</td>\n",
       "      <td>The New York Times</td>\n",
       "      <td>News</td>\n",
       "      <td>https://www.nytimes.com/2018/04/24/dining/noma...</td>\n",
       "    </tr>\n",
       "    <tr>\n",
       "      <th>3</th>\n",
       "      <td>5adf40d2068401528a2aa619</td>\n",
       "      <td>626</td>\n",
       "      <td>By JULIE HIRSCHFELD DAVIS and PETER BAKER</td>\n",
       "      <td>article</td>\n",
       "      <td>Unknown</td>\n",
       "      <td>['Macron, Emmanuel (1977- )', 'Trump, Donald J...</td>\n",
       "      <td>68</td>\n",
       "      <td>Washington</td>\n",
       "      <td>0</td>\n",
       "      <td>2018-04-24 14:35:57</td>\n",
       "      <td>Europe</td>\n",
       "      <td>President Trump welcomed President Emmanuel Ma...</td>\n",
       "      <td>The New York Times</td>\n",
       "      <td>News</td>\n",
       "      <td>https://www.nytimes.com/2018/04/24/world/europ...</td>\n",
       "    </tr>\n",
       "    <tr>\n",
       "      <th>4</th>\n",
       "      <td>5adf3d64068401528a2aa60f</td>\n",
       "      <td>815</td>\n",
       "      <td>By IAN AUSTEN and DAN BILEFSKY</td>\n",
       "      <td>article</td>\n",
       "      <td>Unknown</td>\n",
       "      <td>['Toronto, Ontario, Attack (April, 2018)', 'Mu...</td>\n",
       "      <td>68</td>\n",
       "      <td>Foreign</td>\n",
       "      <td>0</td>\n",
       "      <td>2018-04-24 14:21:21</td>\n",
       "      <td>Canada</td>\n",
       "      <td>Alek Minassian, 25, a resident of Toronto’s Ri...</td>\n",
       "      <td>The New York Times</td>\n",
       "      <td>News</td>\n",
       "      <td>https://www.nytimes.com/2018/04/24/world/canad...</td>\n",
       "    </tr>\n",
       "  </tbody>\n",
       "</table>\n",
       "</div>"
      ],
      "text/plain": [
       "                  articleID  articleWordCount  \\\n",
       "0  5adf6684068401528a2aa69b               781   \n",
       "1  5adf653f068401528a2aa697               656   \n",
       "2  5adf4626068401528a2aa628              2427   \n",
       "3  5adf40d2068401528a2aa619               626   \n",
       "4  5adf3d64068401528a2aa60f               815   \n",
       "\n",
       "                                      byline documentType  \\\n",
       "0                             By JOHN BRANCH      article   \n",
       "1                           By LISA FRIEDMAN      article   \n",
       "2                              By PETE WELLS      article   \n",
       "3  By JULIE HIRSCHFELD DAVIS and PETER BAKER      article   \n",
       "4             By IAN AUSTEN and DAN BILEFSKY      article   \n",
       "\n",
       "                                            headline  \\\n",
       "0  Former N.F.L. Cheerleaders’ Settlement Offer: ...   \n",
       "1  E.P.A. to Unveil a New Rule. Its Effect: Less ...   \n",
       "2                            The New Noma, Explained   \n",
       "3                                            Unknown   \n",
       "4                                            Unknown   \n",
       "\n",
       "                                            keywords  multimedia     newDesk  \\\n",
       "0  ['Workplace Hazards and Violations', 'Football...          68      Sports   \n",
       "1  ['Environmental Protection Agency', 'Pruitt, S...          68     Climate   \n",
       "2  ['Restaurants', 'Noma (Copenhagen, Restaurant)...          66      Dining   \n",
       "3  ['Macron, Emmanuel (1977- )', 'Trump, Donald J...          68  Washington   \n",
       "4  ['Toronto, Ontario, Attack (April, 2018)', 'Mu...          68     Foreign   \n",
       "\n",
       "   printPage              pubDate   sectionName  \\\n",
       "0          0  2018-04-24 17:16:49  Pro Football   \n",
       "1          0  2018-04-24 17:11:21       Unknown   \n",
       "2          0  2018-04-24 14:58:44       Unknown   \n",
       "3          0  2018-04-24 14:35:57        Europe   \n",
       "4          0  2018-04-24 14:21:21        Canada   \n",
       "\n",
       "                                             snippet              source  \\\n",
       "0  “I understand that they could meet with us, pa...  The New York Times   \n",
       "1  The agency plans to publish a new regulation T...  The New York Times   \n",
       "2  What’s it like to eat at the second incarnatio...  The New York Times   \n",
       "3  President Trump welcomed President Emmanuel Ma...  The New York Times   \n",
       "4  Alek Minassian, 25, a resident of Toronto’s Ri...  The New York Times   \n",
       "\n",
       "  typeOfMaterial                                             webURL  \n",
       "0           News  https://www.nytimes.com/2018/04/24/sports/foot...  \n",
       "1           News  https://www.nytimes.com/2018/04/24/climate/epa...  \n",
       "2           News  https://www.nytimes.com/2018/04/24/dining/noma...  \n",
       "3           News  https://www.nytimes.com/2018/04/24/world/europ...  \n",
       "4           News  https://www.nytimes.com/2018/04/24/world/canad...  "
      ]
     },
     "execution_count": 25,
     "metadata": {},
     "output_type": "execute_result"
    }
   ],
   "source": [
    "# 다운로드한 훈련 데이터를 데이터프레임에 저장합니다.\n",
    "\n",
    "df = pd.read_csv('ArticlesApril2018.csv')\n",
    "df.head()"
   ]
  },
  {
   "cell_type": "code",
   "execution_count": 26,
   "id": "a5767ef5",
   "metadata": {},
   "outputs": [
    {
     "name": "stdout",
     "output_type": "stream",
     "text": [
      "열의 개수:  15\n",
      "Index(['articleID', 'articleWordCount', 'byline', 'documentType', 'headline',\n",
      "       'keywords', 'multimedia', 'newDesk', 'printPage', 'pubDate',\n",
      "       'sectionName', 'snippet', 'source', 'typeOfMaterial', 'webURL'],\n",
      "      dtype='object')\n"
     ]
    }
   ],
   "source": [
    "print('열의 개수: ',len(df.columns))\n",
    "print(df.columns)"
   ]
  },
  {
   "cell_type": "code",
   "execution_count": 27,
   "id": "7b7566df",
   "metadata": {},
   "outputs": [
    {
     "name": "stdout",
     "output_type": "stream",
     "text": [
      "False\n"
     ]
    }
   ],
   "source": [
    "# 총 15개의 열이 존재합니다. \n",
    "# 여기서 사용할 열은 제목에 해당되는 headline 열입니다. Null 값이 있는지 확인해봅시다.\n",
    "\n",
    "print(df['headline'].isnull().values.any())\n",
    "\n",
    "# Null 값은 별도로 없는 것으로 보입니다. \n",
    "# headline 열에서 모든 신문 기사의 제목을 뽑아서 하나의 리스트로 저장해보도록 하겠습니다."
   ]
  },
  {
   "cell_type": "code",
   "execution_count": 28,
   "id": "83b28c5e",
   "metadata": {},
   "outputs": [
    {
     "data": {
      "text/plain": [
       "['Former N.F.L. Cheerleaders’ Settlement Offer: $1 and a Meeting With Goodell',\n",
       " 'E.P.A. to Unveil a New Rule. Its Effect: Less Science in Policymaking.',\n",
       " 'The New Noma, Explained',\n",
       " 'Unknown',\n",
       " 'Unknown']"
      ]
     },
     "execution_count": 28,
     "metadata": {},
     "output_type": "execute_result"
    }
   ],
   "source": [
    "headline = []\n",
    "# 헤드라인의 값들을 리스트로 저장\n",
    "headline.extend(list(df.headline.values)) \n",
    "headline[:5]\n",
    "\n",
    "# headline이라는 리스트에 모든 신문 기사의 제목을 저장했습니다. \n",
    "# 저장한 리스트에서 상위 5개만 출력해보았습니다."
   ]
  },
  {
   "cell_type": "code",
   "execution_count": 29,
   "id": "3db0c3cc",
   "metadata": {},
   "outputs": [
    {
     "name": "stdout",
     "output_type": "stream",
     "text": [
      "총 샘플의 개수 : 1324\n"
     ]
    }
   ],
   "source": [
    "# 네번째와 다섯 번째 샘플에 Unknown 값이 들어가있습니다. \n",
    "# headline 전체에 걸쳐서 Unknown 값을 가진 샘플이 있을 것으로 추정됩니다. \n",
    "\n",
    "# 비록 Null 값은 아니지만 실습에 도움이 되지 않는 노이즈 데이터이므로 제거해줄 필요가 있습니다. \n",
    "# 제거하기 전에 현재 샘플의 개수를 확인해보고 제거 전, 후의 샘플의 개수를 비교해봅시다.\n",
    "\n",
    "print('총 샘플의 개수 : {}'.format(len(headline)))\n"
   ]
  },
  {
   "cell_type": "code",
   "execution_count": 30,
   "id": "5bf2588b",
   "metadata": {},
   "outputs": [
    {
     "name": "stdout",
     "output_type": "stream",
     "text": [
      "노이즈값 제거 후 샘플의 개수 : 1214\n"
     ]
    }
   ],
   "source": [
    "# 노이즈 데이터를 제거하기 전 신문 기사의 제목 샘플은 총 1,324개입니다.\n",
    "# Unknown 값을 가진 샘플을 제거합니다.\n",
    "\n",
    "headline = [word for word in headline if word != \"Unknown\"]\n",
    "print('노이즈값 제거 후 샘플의 개수 : {}'.format(len(headline)))"
   ]
  },
  {
   "cell_type": "code",
   "execution_count": 31,
   "id": "673fc037",
   "metadata": {},
   "outputs": [
    {
     "data": {
      "text/plain": [
       "['Former N.F.L. Cheerleaders’ Settlement Offer: $1 and a Meeting With Goodell',\n",
       " 'E.P.A. to Unveil a New Rule. Its Effect: Less Science in Policymaking.',\n",
       " 'The New Noma, Explained',\n",
       " 'How a Bag of Texas Dirt  Became a Times Tradition',\n",
       " 'Is School a Place for Self-Expression?']"
      ]
     },
     "execution_count": 31,
     "metadata": {},
     "output_type": "execute_result"
    }
   ],
   "source": [
    "# 샘플의 수가 1,324에서 1,214로 110개의 샘플이 제거되었는데 기존에 출력했던 5개의 샘플을 출력해봅시다.\n",
    "\n",
    "headline[:5]\n"
   ]
  },
  {
   "cell_type": "code",
   "execution_count": 32,
   "id": "7a74faa3",
   "metadata": {},
   "outputs": [
    {
     "data": {
      "text/plain": [
       "['former nfl cheerleaders settlement offer 1 and a meeting with goodell',\n",
       " 'epa to unveil a new rule its effect less science in policymaking',\n",
       " 'the new noma explained',\n",
       " 'how a bag of texas dirt  became a times tradition',\n",
       " 'is school a place for selfexpression']"
      ]
     },
     "execution_count": 32,
     "metadata": {},
     "output_type": "execute_result"
    }
   ],
   "source": [
    "# 기존에 네번째, 다섯 번째 샘플에서는 Unknown 값이 있었는데 현재는 제거가 되었습니다. \n",
    "# 이제 데이터 전처리를 수행\n",
    "\n",
    "# 여기서 선택한 전처리는 구두점 제거 - 단어의 소문자화\n",
    "\n",
    "# 전처리를 수행하고, 다시 샘플 5개를 출력\n",
    "\n",
    "def repreprocessing(raw_sentence):\n",
    "    preproceseed_sentence = raw_sentence.encode(\"utf8\").decode(\"ascii\",'ignore')\n",
    "    # 구두점 제거와 동시에 소문자화\n",
    "    return ''.join(word for word in preproceseed_sentence if word not in punctuation).lower()\n",
    "\n",
    "preprocessed_headline = [repreprocessing(x) for x in headline]\n",
    "preprocessed_headline[:5]"
   ]
  },
  {
   "cell_type": "code",
   "execution_count": 33,
   "id": "0ecd97dc",
   "metadata": {},
   "outputs": [
    {
     "name": "stdout",
     "output_type": "stream",
     "text": [
      "단어 집합의 크기 : 3494\n"
     ]
    }
   ],
   "source": [
    "# 기존의 출력과 비교하면 모든 단어들이 소문자화되었으며\n",
    "# N.F.L.이나 Cheerleaders’ 등과 같이 기존에 구두점이 붙어있던 단어들에서 구두점이 제거되었습니다. \n",
    "# 단어 집합(vocabulary)을 만들고 크기를 확인합니다.\n",
    "\n",
    "tokenizer = Tokenizer()\n",
    "tokenizer.fit_on_texts(preprocessed_headline)\n",
    "vocab_size = len(tokenizer.word_index) + 1\n",
    "print('단어 집합의 크기 : %d' % vocab_size)"
   ]
  },
  {
   "cell_type": "code",
   "execution_count": 34,
   "id": "1ada346c",
   "metadata": {},
   "outputs": [
    {
     "data": {
      "text/plain": [
       "[[99, 269],\n",
       " [99, 269, 371],\n",
       " [99, 269, 371, 1115],\n",
       " [99, 269, 371, 1115, 582],\n",
       " [99, 269, 371, 1115, 582, 52],\n",
       " [99, 269, 371, 1115, 582, 52, 7],\n",
       " [99, 269, 371, 1115, 582, 52, 7, 2],\n",
       " [99, 269, 371, 1115, 582, 52, 7, 2, 372],\n",
       " [99, 269, 371, 1115, 582, 52, 7, 2, 372, 10],\n",
       " [99, 269, 371, 1115, 582, 52, 7, 2, 372, 10, 1116],\n",
       " [100, 3]]"
      ]
     },
     "execution_count": 34,
     "metadata": {},
     "output_type": "execute_result"
    }
   ],
   "source": [
    "# . 정수 인코딩을 진행하는 동시에 하나의 문장을 여러 줄로 분해하여 훈련 데이터를 구성\n",
    "\n",
    "sequences = list()\n",
    "\n",
    "for sentence in preprocessed_headline:\n",
    "\n",
    "    # 각 샘플에 대한 정수 인코딩\n",
    "    encoded = tokenizer.texts_to_sequences([sentence])[0] \n",
    "    for i in range(1, len(encoded)):\n",
    "        sequence = encoded[:i+1]\n",
    "        sequences.append(sequence)\n",
    "\n",
    "sequences[:11]"
   ]
  },
  {
   "cell_type": "code",
   "execution_count": 35,
   "id": "b199c4ea",
   "metadata": {},
   "outputs": [
    {
     "data": {
      "image/png": "[encoded data removed]",
      "text/plain": [
       "<IPython.core.display.Image object>"
      ]
     },
     "execution_count": 35,
     "metadata": {},
     "output_type": "execute_result"
    }
   ],
   "source": [
    "# 결과에 주석을 추가하였습니다. 왜 하나의 문장을 저렇게 나눌까요? \n",
    "# 예를 들어 '경마장에 있는 말이 뛰고 있다' 라는 문장 하나가 있을 때, \n",
    "# 최종적으로 원하는 훈련 데이터의 형태는 다음과 같습니다. \n",
    "# 하나의 단어를 예측하기 위해 이전에 등장한 단어들을 모두 참고\n",
    "\n",
    "# 1~4번까지 \n",
    "\n",
    "Image(\"image/08-06-01 Text Generation using RNN.png\")"
   ]
  },
  {
   "cell_type": "code",
   "execution_count": 36,
   "id": "b5190ee4",
   "metadata": {},
   "outputs": [
    {
     "name": "stdout",
     "output_type": "stream",
     "text": [
      "빈도수 상위 582번 단어 : offer\n"
     ]
    }
   ],
   "source": [
    "# 1~4번까지 \n",
    "# 위의 sequences는 모든 문장을 각 단어가 각 시점(time step)마다 하나씩 추가적으로 등장하는 형태\n",
    "\n",
    "# 아직 예측할 단어에 해당되는 레이블을 분리하는 작업까지는 수행하지 않은 상태\n",
    "# 어떤 정수가 어떤 단어를 의미하는지 알아보기 위해 인덱스로부터 단어를 찾는 index_to_word를 만듭니다.\n",
    "\n",
    "index_to_word = {}\n",
    "for key, value in tokenizer.word_index.items(): # 인덱스를 단어로 바꾸기 위해 index_to_word를 생성\n",
    "    index_to_word[value] = key\n",
    "\n",
    "print('빈도수 상위 582번 단어 : {}'.format(index_to_word[582]))"
   ]
  },
  {
   "cell_type": "code",
   "execution_count": 37,
   "id": "8436383e",
   "metadata": {},
   "outputs": [
    {
     "name": "stdout",
     "output_type": "stream",
     "text": [
      "샘플의 최대 길이 : 24\n"
     ]
    }
   ],
   "source": [
    "# 582이라는 인덱스를 가진 단어는 본래 offer라는 단어였습니다. 원한다면 다른 숫자로도 시도\n",
    "\n",
    "# 이제 데이터를 분리하기 전에 전체 샘플의 길이를 동일하게 만드는 패딩 작업을 수행합니다. \n",
    "# 패딩 작업을 수행하기 전에 가장 긴 샘플의 길이를 확인합니다.\n",
    "\n",
    "max_len = max(len(l) for l in sequences)\n",
    "print('샘플의 최대 길이 : {}'.format(max_len))\n",
    "\n",
    "# 가장 긴 샘플의 길이인 24로 모든 샘플의 길이를 패딩하겠습니다.\n",
    "\n"
   ]
  },
  {
   "cell_type": "code",
   "execution_count": 38,
   "id": "16f8fcfc",
   "metadata": {},
   "outputs": [
    {
     "name": "stdout",
     "output_type": "stream",
     "text": [
      "[[   0    0    0    0    0    0    0    0    0    0    0    0    0    0\n",
      "     0    0    0    0    0    0    0    0   99  269]\n",
      " [   0    0    0    0    0    0    0    0    0    0    0    0    0    0\n",
      "     0    0    0    0    0    0    0   99  269  371]\n",
      " [   0    0    0    0    0    0    0    0    0    0    0    0    0    0\n",
      "     0    0    0    0    0    0   99  269  371 1115]]\n"
     ]
    }
   ],
   "source": [
    "sequences = pad_sequences(sequences, maxlen=max_len, padding='pre')\n",
    "print(sequences[:3])"
   ]
  },
  {
   "cell_type": "code",
   "execution_count": 39,
   "id": "9be6ba91",
   "metadata": {},
   "outputs": [],
   "source": [
    "# padding='pre'를 설정하여 샘플의 길이가 24보다 짧은 경우에 앞에 0으로 패딩되었습니다. \n",
    "# 이제 맨 우측 단어만 레이블로 분리합니다.\n",
    "\n",
    "sequences = np.array(sequences)\n",
    "X = sequences[:,:-1]\n",
    "y = sequences[:,-1]"
   ]
  },
  {
   "cell_type": "code",
   "execution_count": 40,
   "id": "8c57b9d9",
   "metadata": {},
   "outputs": [
    {
     "name": "stdout",
     "output_type": "stream",
     "text": [
      "[[  0   0   0   0   0   0   0   0   0   0   0   0   0   0   0   0   0   0\n",
      "    0   0   0   0  99]\n",
      " [  0   0   0   0   0   0   0   0   0   0   0   0   0   0   0   0   0   0\n",
      "    0   0   0  99 269]\n",
      " [  0   0   0   0   0   0   0   0   0   0   0   0   0   0   0   0   0   0\n",
      "    0   0  99 269 371]]\n"
     ]
    }
   ],
   "source": [
    "print(X[:3])\n"
   ]
  },
  {
   "cell_type": "code",
   "execution_count": 41,
   "id": "45c8ca72",
   "metadata": {},
   "outputs": [
    {
     "name": "stdout",
     "output_type": "stream",
     "text": [
      "[ 269  371 1115]\n"
     ]
    }
   ],
   "source": [
    "# 훈련 데이터 X에서 3개의 샘플만 출력해보았는데, \n",
    "# 맨 우측에 있던 정수값 269, 371, 1115가 사라진 것을 볼 수 있습니다. \n",
    "# 뿐만 아니라, 각 샘플의 길이가 24에서 23으로 줄었습니다.\n",
    "\n",
    "print(y[:3])\n"
   ]
  },
  {
   "cell_type": "code",
   "execution_count": null,
   "id": "09503a75",
   "metadata": {},
   "outputs": [],
   "source": [
    "# 훈련 데이터 y 중 3개의 샘플만 출력해보았는데, 기존 훈련 데이터에서 맨 우측에 있던 정수들이 별도로 저장\n",
    "\n",
    "y = to_categorical(y, num_classes=vocab_size)\n",
    "\n",
    "# 레이블 데이터 y에 대해서 원-핫 인코딩을 수행하였습니다. 이제 모델을 설계합니다."
   ]
  },
  {
   "cell_type": "code",
   "execution_count": 47,
   "id": "fad38578",
   "metadata": {},
   "outputs": [],
   "source": [
    "from tensorflow.keras.models import Sequential\n",
    "from tensorflow.keras.layers import Embedding, Dense, LSTM"
   ]
  },
  {
   "cell_type": "code",
   "execution_count": 48,
   "id": "9faf957d",
   "metadata": {},
   "outputs": [
    {
     "name": "stdout",
     "output_type": "stream",
     "text": [
      "Epoch 1/200\n",
      "244/244 - 5s - loss: 7.6396 - accuracy: 0.0293 - 5s/epoch - 19ms/step\n",
      "Epoch 2/200\n",
      "244/244 - 3s - loss: 7.1125 - accuracy: 0.0293 - 3s/epoch - 13ms/step\n",
      "Epoch 3/200\n",
      "244/244 - 3s - loss: 6.9809 - accuracy: 0.0336 - 3s/epoch - 14ms/step\n",
      "Epoch 4/200\n",
      "244/244 - 4s - loss: 6.8591 - accuracy: 0.0417 - 4s/epoch - 18ms/step\n",
      "Epoch 5/200\n",
      "244/244 - 4s - loss: 6.7074 - accuracy: 0.0458 - 4s/epoch - 18ms/step\n",
      "Epoch 6/200\n",
      "244/244 - 4s - loss: 6.5336 - accuracy: 0.0488 - 4s/epoch - 18ms/step\n",
      "Epoch 7/200\n",
      "244/244 - 5s - loss: 6.3360 - accuracy: 0.0534 - 5s/epoch - 19ms/step\n",
      "Epoch 8/200\n",
      "244/244 - 4s - loss: 6.1309 - accuracy: 0.0601 - 4s/epoch - 18ms/step\n",
      "Epoch 9/200\n",
      "244/244 - 4s - loss: 5.9331 - accuracy: 0.0619 - 4s/epoch - 18ms/step\n",
      "Epoch 10/200\n",
      "244/244 - 4s - loss: 5.7490 - accuracy: 0.0664 - 4s/epoch - 18ms/step\n",
      "Epoch 11/200\n",
      "244/244 - 4s - loss: 5.5750 - accuracy: 0.0715 - 4s/epoch - 17ms/step\n",
      "Epoch 12/200\n",
      "244/244 - 4s - loss: 5.4126 - accuracy: 0.0737 - 4s/epoch - 18ms/step\n",
      "Epoch 13/200\n",
      "244/244 - 4s - loss: 5.2604 - accuracy: 0.0827 - 4s/epoch - 18ms/step\n",
      "Epoch 14/200\n",
      "244/244 - 4s - loss: 5.1160 - accuracy: 0.0883 - 4s/epoch - 17ms/step\n",
      "Epoch 15/200\n",
      "244/244 - 4s - loss: 4.9772 - accuracy: 0.0961 - 4s/epoch - 17ms/step\n",
      "Epoch 16/200\n",
      "244/244 - 4s - loss: 4.8442 - accuracy: 0.1075 - 4s/epoch - 17ms/step\n",
      "Epoch 17/200\n",
      "244/244 - 4s - loss: 4.7175 - accuracy: 0.1214 - 4s/epoch - 18ms/step\n",
      "Epoch 18/200\n",
      "244/244 - 4s - loss: 4.5904 - accuracy: 0.1326 - 4s/epoch - 17ms/step\n",
      "Epoch 19/200\n",
      "244/244 - 4s - loss: 4.4716 - accuracy: 0.1502 - 4s/epoch - 17ms/step\n",
      "Epoch 20/200\n",
      "244/244 - 4s - loss: 4.3533 - accuracy: 0.1613 - 4s/epoch - 17ms/step\n",
      "Epoch 21/200\n",
      "244/244 - 4s - loss: 4.2394 - accuracy: 0.1771 - 4s/epoch - 17ms/step\n",
      "Epoch 22/200\n",
      "244/244 - 4s - loss: 4.1276 - accuracy: 0.1944 - 4s/epoch - 18ms/step\n",
      "Epoch 23/200\n",
      "244/244 - 4s - loss: 4.0182 - accuracy: 0.2122 - 4s/epoch - 17ms/step\n",
      "Epoch 24/200\n",
      "244/244 - 4s - loss: 3.9147 - accuracy: 0.2282 - 4s/epoch - 18ms/step\n",
      "Epoch 25/200\n",
      "244/244 - 4s - loss: 3.8104 - accuracy: 0.2490 - 4s/epoch - 18ms/step\n",
      "Epoch 26/200\n",
      "244/244 - 4s - loss: 3.7131 - accuracy: 0.2572 - 4s/epoch - 18ms/step\n",
      "Epoch 27/200\n",
      "244/244 - 4s - loss: 3.6163 - accuracy: 0.2781 - 4s/epoch - 17ms/step\n",
      "Epoch 28/200\n",
      "244/244 - 4s - loss: 3.5232 - accuracy: 0.2899 - 4s/epoch - 18ms/step\n",
      "Epoch 29/200\n",
      "244/244 - 4s - loss: 3.4327 - accuracy: 0.3121 - 4s/epoch - 18ms/step\n",
      "Epoch 30/200\n",
      "244/244 - 5s - loss: 3.3431 - accuracy: 0.3277 - 5s/epoch - 18ms/step\n",
      "Epoch 31/200\n",
      "244/244 - 4s - loss: 3.2598 - accuracy: 0.3440 - 4s/epoch - 18ms/step\n",
      "Epoch 32/200\n",
      "244/244 - 4s - loss: 3.1785 - accuracy: 0.3614 - 4s/epoch - 18ms/step\n",
      "Epoch 33/200\n",
      "244/244 - 5s - loss: 3.0981 - accuracy: 0.3724 - 5s/epoch - 19ms/step\n",
      "Epoch 34/200\n",
      "244/244 - 4s - loss: 3.0216 - accuracy: 0.3888 - 4s/epoch - 18ms/step\n",
      "Epoch 35/200\n",
      "244/244 - 4s - loss: 2.9471 - accuracy: 0.4028 - 4s/epoch - 18ms/step\n",
      "Epoch 36/200\n",
      "244/244 - 4s - loss: 2.8747 - accuracy: 0.4164 - 4s/epoch - 18ms/step\n",
      "Epoch 37/200\n",
      "244/244 - 4s - loss: 2.8036 - accuracy: 0.4283 - 4s/epoch - 17ms/step\n",
      "Epoch 38/200\n",
      "244/244 - 4s - loss: 2.7380 - accuracy: 0.4377 - 4s/epoch - 17ms/step\n",
      "Epoch 39/200\n",
      "244/244 - 4s - loss: 2.6703 - accuracy: 0.4543 - 4s/epoch - 18ms/step\n",
      "Epoch 40/200\n",
      "244/244 - 4s - loss: 2.6070 - accuracy: 0.4675 - 4s/epoch - 17ms/step\n",
      "Epoch 41/200\n",
      "244/244 - 4s - loss: 2.5458 - accuracy: 0.4755 - 4s/epoch - 17ms/step\n",
      "Epoch 42/200\n",
      "244/244 - 4s - loss: 2.4877 - accuracy: 0.4892 - 4s/epoch - 18ms/step\n",
      "Epoch 43/200\n",
      "244/244 - 4s - loss: 2.4276 - accuracy: 0.5001 - 4s/epoch - 18ms/step\n",
      "Epoch 44/200\n",
      "244/244 - 4s - loss: 2.3693 - accuracy: 0.5174 - 4s/epoch - 17ms/step\n",
      "Epoch 45/200\n",
      "244/244 - 4s - loss: 2.3153 - accuracy: 0.5261 - 4s/epoch - 17ms/step\n",
      "Epoch 46/200\n",
      "244/244 - 4s - loss: 2.2607 - accuracy: 0.5397 - 4s/epoch - 17ms/step\n",
      "Epoch 47/200\n",
      "244/244 - 4s - loss: 2.2094 - accuracy: 0.5463 - 4s/epoch - 18ms/step\n",
      "Epoch 48/200\n",
      "244/244 - 4s - loss: 2.1571 - accuracy: 0.5577 - 4s/epoch - 18ms/step\n",
      "Epoch 49/200\n",
      "244/244 - 4s - loss: 2.1070 - accuracy: 0.5689 - 4s/epoch - 18ms/step\n",
      "Epoch 50/200\n",
      "244/244 - 4s - loss: 2.0563 - accuracy: 0.5798 - 4s/epoch - 18ms/step\n",
      "Epoch 51/200\n",
      "244/244 - 4s - loss: 2.0110 - accuracy: 0.5916 - 4s/epoch - 17ms/step\n",
      "Epoch 52/200\n",
      "244/244 - 4s - loss: 1.9632 - accuracy: 0.5990 - 4s/epoch - 17ms/step\n",
      "Epoch 53/200\n",
      "244/244 - 4s - loss: 1.9208 - accuracy: 0.6119 - 4s/epoch - 18ms/step\n",
      "Epoch 54/200\n",
      "244/244 - 4s - loss: 1.8735 - accuracy: 0.6226 - 4s/epoch - 18ms/step\n",
      "Epoch 55/200\n",
      "244/244 - 4s - loss: 1.8300 - accuracy: 0.6312 - 4s/epoch - 17ms/step\n",
      "Epoch 56/200\n",
      "244/244 - 4s - loss: 1.7894 - accuracy: 0.6369 - 4s/epoch - 17ms/step\n",
      "Epoch 57/200\n",
      "244/244 - 4s - loss: 1.7502 - accuracy: 0.6469 - 4s/epoch - 18ms/step\n",
      "Epoch 58/200\n",
      "244/244 - 4s - loss: 1.7104 - accuracy: 0.6581 - 4s/epoch - 18ms/step\n",
      "Epoch 59/200\n",
      "244/244 - 4s - loss: 1.6703 - accuracy: 0.6658 - 4s/epoch - 18ms/step\n",
      "Epoch 60/200\n",
      "244/244 - 4s - loss: 1.6315 - accuracy: 0.6704 - 4s/epoch - 18ms/step\n",
      "Epoch 61/200\n",
      "244/244 - 4s - loss: 1.5926 - accuracy: 0.6832 - 4s/epoch - 17ms/step\n",
      "Epoch 62/200\n",
      "244/244 - 4s - loss: 1.5604 - accuracy: 0.6882 - 4s/epoch - 18ms/step\n",
      "Epoch 63/200\n",
      "244/244 - 4s - loss: 1.5213 - accuracy: 0.7005 - 4s/epoch - 18ms/step\n",
      "Epoch 64/200\n",
      "244/244 - 4s - loss: 1.4880 - accuracy: 0.7075 - 4s/epoch - 18ms/step\n",
      "Epoch 65/200\n",
      "244/244 - 4s - loss: 1.4511 - accuracy: 0.7106 - 4s/epoch - 17ms/step\n",
      "Epoch 66/200\n",
      "244/244 - 4s - loss: 1.4221 - accuracy: 0.7193 - 4s/epoch - 18ms/step\n",
      "Epoch 67/200\n",
      "244/244 - 4s - loss: 1.3888 - accuracy: 0.7288 - 4s/epoch - 18ms/step\n",
      "Epoch 68/200\n",
      "244/244 - 4s - loss: 1.3553 - accuracy: 0.7333 - 4s/epoch - 18ms/step\n",
      "Epoch 69/200\n",
      "244/244 - 4s - loss: 1.3246 - accuracy: 0.7389 - 4s/epoch - 18ms/step\n",
      "Epoch 70/200\n",
      "244/244 - 4s - loss: 1.2936 - accuracy: 0.7480 - 4s/epoch - 18ms/step\n",
      "Epoch 71/200\n",
      "244/244 - 4s - loss: 1.2653 - accuracy: 0.7510 - 4s/epoch - 18ms/step\n",
      "Epoch 72/200\n",
      "244/244 - 4s - loss: 1.2363 - accuracy: 0.7602 - 4s/epoch - 18ms/step\n",
      "Epoch 73/200\n",
      "244/244 - 4s - loss: 1.2087 - accuracy: 0.7656 - 4s/epoch - 18ms/step\n",
      "Epoch 74/200\n",
      "244/244 - 4s - loss: 1.1802 - accuracy: 0.7701 - 4s/epoch - 18ms/step\n",
      "Epoch 75/200\n",
      "244/244 - 4s - loss: 1.1519 - accuracy: 0.7762 - 4s/epoch - 18ms/step\n",
      "Epoch 76/200\n",
      "244/244 - 5s - loss: 1.1283 - accuracy: 0.7811 - 5s/epoch - 18ms/step\n",
      "Epoch 77/200\n",
      "244/244 - 5s - loss: 1.1014 - accuracy: 0.7835 - 5s/epoch - 19ms/step\n",
      "Epoch 78/200\n",
      "244/244 - 5s - loss: 1.0761 - accuracy: 0.7924 - 5s/epoch - 19ms/step\n",
      "Epoch 79/200\n",
      "244/244 - 4s - loss: 1.0524 - accuracy: 0.7944 - 4s/epoch - 18ms/step\n",
      "Epoch 80/200\n",
      "244/244 - 4s - loss: 1.0287 - accuracy: 0.8014 - 4s/epoch - 18ms/step\n",
      "Epoch 81/200\n",
      "244/244 - 4s - loss: 1.0056 - accuracy: 0.8037 - 4s/epoch - 18ms/step\n",
      "Epoch 82/200\n",
      "244/244 - 4s - loss: 0.9818 - accuracy: 0.8078 - 4s/epoch - 18ms/step\n",
      "Epoch 83/200\n",
      "244/244 - 4s - loss: 0.9608 - accuracy: 0.8126 - 4s/epoch - 17ms/step\n",
      "Epoch 84/200\n",
      "244/244 - 4s - loss: 0.9394 - accuracy: 0.8187 - 4s/epoch - 18ms/step\n",
      "Epoch 85/200\n",
      "244/244 - 4s - loss: 0.9162 - accuracy: 0.8219 - 4s/epoch - 18ms/step\n",
      "Epoch 86/200\n",
      "244/244 - 4s - loss: 0.8933 - accuracy: 0.8269 - 4s/epoch - 18ms/step\n",
      "Epoch 87/200\n",
      "244/244 - 4s - loss: 0.8737 - accuracy: 0.8297 - 4s/epoch - 18ms/step\n",
      "Epoch 88/200\n",
      "244/244 - 4s - loss: 0.8555 - accuracy: 0.8351 - 4s/epoch - 18ms/step\n",
      "Epoch 89/200\n",
      "244/244 - 4s - loss: 0.8370 - accuracy: 0.8389 - 4s/epoch - 18ms/step\n",
      "Epoch 90/200\n",
      "244/244 - 4s - loss: 0.8196 - accuracy: 0.8398 - 4s/epoch - 18ms/step\n",
      "Epoch 91/200\n",
      "244/244 - 4s - loss: 0.7992 - accuracy: 0.8488 - 4s/epoch - 18ms/step\n",
      "Epoch 92/200\n",
      "244/244 - 4s - loss: 0.7794 - accuracy: 0.8506 - 4s/epoch - 18ms/step\n",
      "Epoch 93/200\n",
      "244/244 - 4s - loss: 0.7622 - accuracy: 0.8548 - 4s/epoch - 18ms/step\n",
      "Epoch 94/200\n",
      "244/244 - 4s - loss: 0.7465 - accuracy: 0.8575 - 4s/epoch - 18ms/step\n",
      "Epoch 95/200\n",
      "244/244 - 4s - loss: 0.7278 - accuracy: 0.8601 - 4s/epoch - 18ms/step\n",
      "Epoch 96/200\n",
      "244/244 - 4s - loss: 0.7125 - accuracy: 0.8631 - 4s/epoch - 18ms/step\n",
      "Epoch 97/200\n",
      "244/244 - 4s - loss: 0.6974 - accuracy: 0.8647 - 4s/epoch - 18ms/step\n",
      "Epoch 98/200\n",
      "244/244 - 4s - loss: 0.6824 - accuracy: 0.8683 - 4s/epoch - 18ms/step\n",
      "Epoch 99/200\n",
      "244/244 - 4s - loss: 0.6668 - accuracy: 0.8715 - 4s/epoch - 18ms/step\n"
     ]
    },
    {
     "name": "stdout",
     "output_type": "stream",
     "text": [
      "Epoch 100/200\n",
      "244/244 - 4s - loss: 0.6520 - accuracy: 0.8744 - 4s/epoch - 18ms/step\n",
      "Epoch 101/200\n",
      "244/244 - 4s - loss: 0.6393 - accuracy: 0.8759 - 4s/epoch - 18ms/step\n",
      "Epoch 102/200\n",
      "244/244 - 4s - loss: 0.6232 - accuracy: 0.8798 - 4s/epoch - 18ms/step\n",
      "Epoch 103/200\n",
      "244/244 - 4s - loss: 0.6104 - accuracy: 0.8802 - 4s/epoch - 18ms/step\n",
      "Epoch 104/200\n",
      "244/244 - 5s - loss: 0.6037 - accuracy: 0.8803 - 5s/epoch - 21ms/step\n",
      "Epoch 105/200\n",
      "244/244 - 5s - loss: 0.5871 - accuracy: 0.8835 - 5s/epoch - 20ms/step\n",
      "Epoch 106/200\n",
      "244/244 - 5s - loss: 0.5750 - accuracy: 0.8852 - 5s/epoch - 20ms/step\n",
      "Epoch 107/200\n",
      "244/244 - 5s - loss: 0.5603 - accuracy: 0.8880 - 5s/epoch - 20ms/step\n",
      "Epoch 108/200\n",
      "244/244 - 5s - loss: 0.5483 - accuracy: 0.8915 - 5s/epoch - 22ms/step\n",
      "Epoch 109/200\n",
      "244/244 - 5s - loss: 0.5368 - accuracy: 0.8941 - 5s/epoch - 19ms/step\n",
      "Epoch 110/200\n",
      "244/244 - 5s - loss: 0.5266 - accuracy: 0.8941 - 5s/epoch - 20ms/step\n",
      "Epoch 111/200\n",
      "244/244 - 5s - loss: 0.5169 - accuracy: 0.8967 - 5s/epoch - 20ms/step\n",
      "Epoch 112/200\n",
      "244/244 - 5s - loss: 0.5071 - accuracy: 0.8957 - 5s/epoch - 20ms/step\n",
      "Epoch 113/200\n",
      "244/244 - 5s - loss: 0.4978 - accuracy: 0.8979 - 5s/epoch - 20ms/step\n",
      "Epoch 114/200\n",
      "244/244 - 5s - loss: 0.4874 - accuracy: 0.8984 - 5s/epoch - 20ms/step\n",
      "Epoch 115/200\n",
      "244/244 - 5s - loss: 0.4779 - accuracy: 0.9012 - 5s/epoch - 20ms/step\n",
      "Epoch 116/200\n",
      "244/244 - 5s - loss: 0.4702 - accuracy: 0.8997 - 5s/epoch - 20ms/step\n",
      "Epoch 117/200\n",
      "244/244 - 5s - loss: 0.4604 - accuracy: 0.9020 - 5s/epoch - 20ms/step\n",
      "Epoch 118/200\n",
      "244/244 - 5s - loss: 0.4578 - accuracy: 0.9017 - 5s/epoch - 20ms/step\n",
      "Epoch 119/200\n",
      "244/244 - 5s - loss: 0.4516 - accuracy: 0.9025 - 5s/epoch - 20ms/step\n",
      "Epoch 120/200\n",
      "244/244 - 5s - loss: 0.4376 - accuracy: 0.9066 - 5s/epoch - 20ms/step\n",
      "Epoch 121/200\n",
      "244/244 - 5s - loss: 0.4417 - accuracy: 0.9041 - 5s/epoch - 20ms/step\n",
      "Epoch 122/200\n",
      "244/244 - 5s - loss: 0.4437 - accuracy: 0.9063 - 5s/epoch - 20ms/step\n",
      "Epoch 123/200\n",
      "244/244 - 5s - loss: 0.4238 - accuracy: 0.9068 - 5s/epoch - 20ms/step\n",
      "Epoch 124/200\n",
      "244/244 - 5s - loss: 0.4136 - accuracy: 0.9082 - 5s/epoch - 20ms/step\n",
      "Epoch 125/200\n",
      "244/244 - 5s - loss: 0.4055 - accuracy: 0.9070 - 5s/epoch - 20ms/step\n",
      "Epoch 126/200\n",
      "244/244 - 5s - loss: 0.3981 - accuracy: 0.9098 - 5s/epoch - 20ms/step\n",
      "Epoch 127/200\n",
      "244/244 - 5s - loss: 0.3915 - accuracy: 0.9089 - 5s/epoch - 20ms/step\n",
      "Epoch 128/200\n",
      "244/244 - 5s - loss: 0.3864 - accuracy: 0.9104 - 5s/epoch - 20ms/step\n",
      "Epoch 129/200\n",
      "244/244 - 5s - loss: 0.3794 - accuracy: 0.9109 - 5s/epoch - 20ms/step\n",
      "Epoch 130/200\n",
      "244/244 - 5s - loss: 0.3749 - accuracy: 0.9127 - 5s/epoch - 20ms/step\n",
      "Epoch 131/200\n",
      "244/244 - 5s - loss: 0.3705 - accuracy: 0.9144 - 5s/epoch - 20ms/step\n",
      "Epoch 132/200\n",
      "244/244 - 5s - loss: 0.3634 - accuracy: 0.9145 - 5s/epoch - 20ms/step\n",
      "Epoch 133/200\n",
      "244/244 - 5s - loss: 0.3604 - accuracy: 0.9141 - 5s/epoch - 20ms/step\n",
      "Epoch 134/200\n",
      "244/244 - 5s - loss: 0.3566 - accuracy: 0.9125 - 5s/epoch - 20ms/step\n",
      "Epoch 135/200\n",
      "244/244 - 5s - loss: 0.3534 - accuracy: 0.9159 - 5s/epoch - 20ms/step\n",
      "Epoch 136/200\n",
      "244/244 - 5s - loss: 0.3478 - accuracy: 0.9145 - 5s/epoch - 20ms/step\n",
      "Epoch 137/200\n",
      "244/244 - 5s - loss: 0.3437 - accuracy: 0.9170 - 5s/epoch - 20ms/step\n",
      "Epoch 138/200\n",
      "244/244 - 5s - loss: 0.3440 - accuracy: 0.9149 - 5s/epoch - 20ms/step\n",
      "Epoch 139/200\n",
      "244/244 - 5s - loss: 0.3360 - accuracy: 0.9161 - 5s/epoch - 20ms/step\n",
      "Epoch 140/200\n",
      "244/244 - 5s - loss: 0.3337 - accuracy: 0.9157 - 5s/epoch - 20ms/step\n",
      "Epoch 141/200\n",
      "244/244 - 5s - loss: 0.3463 - accuracy: 0.9155 - 5s/epoch - 20ms/step\n",
      "Epoch 142/200\n",
      "244/244 - 5s - loss: 0.3292 - accuracy: 0.9164 - 5s/epoch - 20ms/step\n",
      "Epoch 143/200\n",
      "244/244 - 5s - loss: 0.3234 - accuracy: 0.9149 - 5s/epoch - 20ms/step\n",
      "Epoch 144/200\n",
      "244/244 - 5s - loss: 0.3184 - accuracy: 0.9170 - 5s/epoch - 20ms/step\n",
      "Epoch 145/200\n",
      "244/244 - 5s - loss: 0.3158 - accuracy: 0.9167 - 5s/epoch - 20ms/step\n",
      "Epoch 146/200\n",
      "244/244 - 5s - loss: 0.3125 - accuracy: 0.9193 - 5s/epoch - 20ms/step\n",
      "Epoch 147/200\n",
      "244/244 - 5s - loss: 0.3116 - accuracy: 0.9167 - 5s/epoch - 20ms/step\n",
      "Epoch 148/200\n",
      "244/244 - 5s - loss: 0.3090 - accuracy: 0.9157 - 5s/epoch - 20ms/step\n",
      "Epoch 149/200\n",
      "244/244 - 5s - loss: 0.3070 - accuracy: 0.9186 - 5s/epoch - 20ms/step\n",
      "Epoch 150/200\n",
      "244/244 - 5s - loss: 0.3054 - accuracy: 0.9153 - 5s/epoch - 20ms/step\n",
      "Epoch 151/200\n",
      "244/244 - 5s - loss: 0.3040 - accuracy: 0.9185 - 5s/epoch - 20ms/step\n",
      "Epoch 152/200\n",
      "244/244 - 5s - loss: 0.3043 - accuracy: 0.9164 - 5s/epoch - 20ms/step\n",
      "Epoch 153/200\n",
      "244/244 - 5s - loss: 0.3018 - accuracy: 0.9163 - 5s/epoch - 20ms/step\n",
      "Epoch 154/200\n",
      "244/244 - 5s - loss: 0.3034 - accuracy: 0.9168 - 5s/epoch - 20ms/step\n",
      "Epoch 155/200\n",
      "244/244 - 5s - loss: 0.3166 - accuracy: 0.9154 - 5s/epoch - 20ms/step\n",
      "Epoch 156/200\n",
      "244/244 - 5s - loss: 0.3052 - accuracy: 0.9163 - 5s/epoch - 20ms/step\n",
      "Epoch 157/200\n",
      "244/244 - 5s - loss: 0.3061 - accuracy: 0.9161 - 5s/epoch - 20ms/step\n",
      "Epoch 158/200\n",
      "244/244 - 5s - loss: 0.2951 - accuracy: 0.9158 - 5s/epoch - 20ms/step\n",
      "Epoch 159/200\n",
      "244/244 - 5s - loss: 0.2887 - accuracy: 0.9173 - 5s/epoch - 20ms/step\n",
      "Epoch 160/200\n",
      "244/244 - 5s - loss: 0.2861 - accuracy: 0.9181 - 5s/epoch - 20ms/step\n",
      "Epoch 161/200\n",
      "244/244 - 5s - loss: 0.2844 - accuracy: 0.9171 - 5s/epoch - 20ms/step\n",
      "Epoch 162/200\n",
      "244/244 - 5s - loss: 0.2839 - accuracy: 0.9162 - 5s/epoch - 20ms/step\n",
      "Epoch 163/200\n",
      "244/244 - 5s - loss: 0.2848 - accuracy: 0.9163 - 5s/epoch - 20ms/step\n",
      "Epoch 164/200\n",
      "244/244 - 5s - loss: 0.2832 - accuracy: 0.9161 - 5s/epoch - 20ms/step\n",
      "Epoch 165/200\n",
      "244/244 - 5s - loss: 0.2810 - accuracy: 0.9189 - 5s/epoch - 20ms/step\n",
      "Epoch 166/200\n",
      "244/244 - 5s - loss: 0.2813 - accuracy: 0.9171 - 5s/epoch - 20ms/step\n",
      "Epoch 167/200\n",
      "244/244 - 5s - loss: 0.2783 - accuracy: 0.9176 - 5s/epoch - 20ms/step\n",
      "Epoch 168/200\n",
      "244/244 - 5s - loss: 0.2799 - accuracy: 0.9167 - 5s/epoch - 20ms/step\n",
      "Epoch 169/200\n",
      "244/244 - 5s - loss: 0.2783 - accuracy: 0.9163 - 5s/epoch - 20ms/step\n",
      "Epoch 170/200\n",
      "244/244 - 5s - loss: 0.2783 - accuracy: 0.9159 - 5s/epoch - 20ms/step\n",
      "Epoch 171/200\n",
      "244/244 - 5s - loss: 0.2768 - accuracy: 0.9164 - 5s/epoch - 20ms/step\n",
      "Epoch 172/200\n",
      "244/244 - 5s - loss: 0.2803 - accuracy: 0.9159 - 5s/epoch - 20ms/step\n",
      "Epoch 173/200\n",
      "244/244 - 5s - loss: 0.2989 - accuracy: 0.9127 - 5s/epoch - 20ms/step\n",
      "Epoch 174/200\n",
      "244/244 - 5s - loss: 0.2833 - accuracy: 0.9164 - 5s/epoch - 20ms/step\n",
      "Epoch 175/200\n",
      "244/244 - 5s - loss: 0.2798 - accuracy: 0.9161 - 5s/epoch - 20ms/step\n",
      "Epoch 176/200\n",
      "244/244 - 5s - loss: 0.2855 - accuracy: 0.9154 - 5s/epoch - 20ms/step\n",
      "Epoch 177/200\n",
      "244/244 - 5s - loss: 0.2880 - accuracy: 0.9140 - 5s/epoch - 20ms/step\n",
      "Epoch 178/200\n",
      "244/244 - 5s - loss: 0.2828 - accuracy: 0.9150 - 5s/epoch - 20ms/step\n",
      "Epoch 179/200\n",
      "244/244 - 5s - loss: 0.2725 - accuracy: 0.9182 - 5s/epoch - 20ms/step\n",
      "Epoch 180/200\n",
      "244/244 - 5s - loss: 0.2712 - accuracy: 0.9175 - 5s/epoch - 20ms/step\n",
      "Epoch 181/200\n",
      "244/244 - 5s - loss: 0.2709 - accuracy: 0.9177 - 5s/epoch - 20ms/step\n",
      "Epoch 182/200\n",
      "244/244 - 5s - loss: 0.2697 - accuracy: 0.9164 - 5s/epoch - 20ms/step\n",
      "Epoch 183/200\n",
      "244/244 - 5s - loss: 0.2700 - accuracy: 0.9177 - 5s/epoch - 20ms/step\n",
      "Epoch 184/200\n",
      "244/244 - 5s - loss: 0.2677 - accuracy: 0.9177 - 5s/epoch - 20ms/step\n",
      "Epoch 185/200\n",
      "244/244 - 5s - loss: 0.2681 - accuracy: 0.9172 - 5s/epoch - 20ms/step\n",
      "Epoch 186/200\n",
      "244/244 - 5s - loss: 0.2685 - accuracy: 0.9173 - 5s/epoch - 20ms/step\n",
      "Epoch 187/200\n",
      "244/244 - 5s - loss: 0.2678 - accuracy: 0.9157 - 5s/epoch - 20ms/step\n",
      "Epoch 188/200\n",
      "244/244 - 5s - loss: 0.2671 - accuracy: 0.9170 - 5s/epoch - 20ms/step\n",
      "Epoch 189/200\n",
      "244/244 - 5s - loss: 0.2676 - accuracy: 0.9161 - 5s/epoch - 20ms/step\n",
      "Epoch 190/200\n",
      "244/244 - 5s - loss: 0.2664 - accuracy: 0.9175 - 5s/epoch - 20ms/step\n",
      "Epoch 191/200\n",
      "244/244 - 5s - loss: 0.2705 - accuracy: 0.9155 - 5s/epoch - 20ms/step\n",
      "Epoch 192/200\n",
      "244/244 - 5s - loss: 0.2669 - accuracy: 0.9163 - 5s/epoch - 20ms/step\n",
      "Epoch 193/200\n",
      "244/244 - 5s - loss: 0.2691 - accuracy: 0.9152 - 5s/epoch - 20ms/step\n",
      "Epoch 194/200\n",
      "244/244 - 5s - loss: 0.2759 - accuracy: 0.9145 - 5s/epoch - 20ms/step\n",
      "Epoch 195/200\n",
      "244/244 - 5s - loss: 0.2715 - accuracy: 0.9150 - 5s/epoch - 20ms/step\n",
      "Epoch 196/200\n",
      "244/244 - 5s - loss: 0.2672 - accuracy: 0.9172 - 5s/epoch - 20ms/step\n",
      "Epoch 197/200\n",
      "244/244 - 5s - loss: 0.2637 - accuracy: 0.9173 - 5s/epoch - 20ms/step\n"
     ]
    },
    {
     "name": "stdout",
     "output_type": "stream",
     "text": [
      "Epoch 198/200\n",
      "244/244 - 5s - loss: 0.2623 - accuracy: 0.9168 - 5s/epoch - 20ms/step\n",
      "Epoch 199/200\n",
      "244/244 - 5s - loss: 0.2624 - accuracy: 0.9167 - 5s/epoch - 21ms/step\n",
      "Epoch 200/200\n",
      "244/244 - 5s - loss: 0.2625 - accuracy: 0.9162 - 5s/epoch - 20ms/step\n"
     ]
    },
    {
     "data": {
      "text/plain": [
       "<keras.callbacks.History at 0x1f41d5e3df0>"
      ]
     },
     "execution_count": 48,
     "metadata": {},
     "output_type": "execute_result"
    }
   ],
   "source": [
    "embedding_dim = 10\n",
    "hidden_units = 128\n",
    "\n",
    "model = Sequential()\n",
    "model.add(Embedding(vocab_size, embedding_dim))\n",
    "model.add(LSTM(hidden_units))\n",
    "model.add(Dense(vocab_size, activation='softmax'))\n",
    "model.compile(loss='categorical_crossentropy', optimizer='adam', metrics=['accuracy'])\n",
    "model.fit(X, y, epochs=200, verbose=2)"
   ]
  },
  {
   "cell_type": "code",
   "execution_count": 49,
   "id": "878c0ad5",
   "metadata": {},
   "outputs": [],
   "source": [
    "def sentence_generation(model, tokenizer, current_word, n): # 모델, 토크나이저, 현재 단어, 반복할 횟수\n",
    "    init_word = current_word\n",
    "    sentence = ''\n",
    "\n",
    "    # n번 반복\n",
    "    for _ in range(n):\n",
    "        encoded = tokenizer.texts_to_sequences([current_word])[0]\n",
    "        encoded = pad_sequences([encoded], maxlen=max_len-1, padding='pre')\n",
    "\n",
    "        # 입력한 X(현재 단어)에 대해서 y를 예측하고 y(예측한 단어)를 result에 저장.\n",
    "        result = model.predict(encoded, verbose=0)\n",
    "        result = np.argmax(result, axis=1)\n",
    "\n",
    "        for word, index in tokenizer.word_index.items(): \n",
    "            # 만약 예측한 단어와 인덱스와 동일한 단어가 있다면\n",
    "            if index == result:\n",
    "                break\n",
    "\n",
    "        # 현재 단어 + ' ' + 예측 단어를 현재 단어로 변경\n",
    "        current_word = current_word + ' '  + word\n",
    "\n",
    "        # 예측 단어를 문장에 저장\n",
    "        sentence = sentence + ' ' + word\n",
    "\n",
    "    sentence = init_word + sentence\n",
    "    return sentence"
   ]
  },
  {
   "cell_type": "code",
   "execution_count": 50,
   "id": "d373c18d",
   "metadata": {},
   "outputs": [
    {
     "name": "stdout",
     "output_type": "stream",
     "text": [
      "i disapprove of school vouchers can i still apply for them\n"
     ]
    }
   ],
   "source": [
    "print(sentence_generation(model, tokenizer, 'i', 10))\n"
   ]
  },
  {
   "cell_type": "code",
   "execution_count": 51,
   "id": "d48e82c6",
   "metadata": {},
   "outputs": [
    {
     "name": "stdout",
     "output_type": "stream",
     "text": [
      "how to make a crossword puzzle fire to be was over\n"
     ]
    }
   ],
   "source": [
    "print(sentence_generation(model, tokenizer, 'how', 10))\n"
   ]
  },
  {
   "cell_type": "code",
   "execution_count": null,
   "id": "0571eac1",
   "metadata": {},
   "outputs": [],
   "source": []
  }
 ],
 "metadata": {
  "kernelspec": {
   "display_name": "Python 3 (ipykernel)",
   "language": "python",
   "name": "python3"
  },
  "language_info": {
   "codemirror_mode": {
    "name": "ipython",
    "version": 3
   },
   "file_extension": ".py",
   "mimetype": "text/x-python",
   "name": "python",
   "nbconvert_exporter": "python",
   "pygments_lexer": "ipython3",
   "version": "3.8.16"
  }
 },
 "nbformat": 4,
 "nbformat_minor": 5
}
